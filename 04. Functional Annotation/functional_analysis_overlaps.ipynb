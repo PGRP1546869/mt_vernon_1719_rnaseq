{
 "cells": [
  {
   "cell_type": "code",
   "execution_count": 1,
   "metadata": {},
   "outputs": [
    {
     "name": "stderr",
     "output_type": "stream",
     "text": [
      "Registered S3 method overwritten by 'rvest':\n",
      "  method            from\n",
      "  read_xml.response xml2\n",
      "-- Attaching packages --------------------------------------- tidyverse 1.2.1 --\n",
      "v ggplot2 3.3.5     v purrr   0.3.4\n",
      "v tibble  3.1.6     v dplyr   1.0.7\n",
      "v tidyr   1.1.4     v stringr 1.4.0\n",
      "v readr   1.3.1     v forcats 0.4.0\n",
      "-- Conflicts ------------------------------------------ tidyverse_conflicts() --\n",
      "x dplyr::filter() masks stats::filter()\n",
      "x dplyr::lag()    masks stats::lag()\n",
      "Warning message:\n",
      "\"package 'hash' was built under R version 3.6.3\"hash-3.0.1 provided by Decision Patterns\n",
      "\n",
      "Loading required package: viridisLite\n",
      "\n",
      "Attaching package: 'viridis'\n",
      "\n",
      "The following object is masked from 'package:viridisLite':\n",
      "\n",
      "    viridis.map\n",
      "\n",
      "Loading required package: grid\n",
      "Loading required package: futile.logger\n"
     ]
    }
   ],
   "source": [
    "library(tidyverse)\n",
    "library(hash)\n",
    "library(gprofiler2)\n",
    "library(viridis)\n",
    "library(VennDiagram)\n",
    "library(XML)\n",
    "library(httr)\n",
    "library(stringi)"
   ]
  },
  {
   "cell_type": "markdown",
   "metadata": {},
   "source": [
    "create a function to find overlaps in lists"
   ]
  },
  {
   "cell_type": "code",
   "execution_count": 2,
   "metadata": {},
   "outputs": [],
   "source": [
    "private_of_three <- function(df1, df2, df3) {\n",
    "    df1[!(df1 %in% df2) & !(df1 %in% df3)]\n",
    "}\n",
    "\n",
    "overlap_genes_two <- function(df1, df2, df3) {\n",
    "    two <- intersect(as.character(df1), as.character(df2))\n",
    "    allthree <- overlap_genes_three(df1, df2, df3)\n",
    "    two[!two %in% allthree]\n",
    "}\n",
    "\n",
    "overlap_genes_three <- function(df1, df2, df3) {\n",
    "    intersect(as.character(df3), intersect(as.character(df1), as.character(df2)))\n",
    "}"
   ]
  },
  {
   "cell_type": "markdown",
   "metadata": {},
   "source": [
    "make the gene lists in each of the three rootstocks (the ones used in the venn diagrams)\n",
    "\n",
    "store all of the overlapping gene lists"
   ]
  },
  {
   "cell_type": "code",
   "execution_count": 3,
   "metadata": {},
   "outputs": [],
   "source": [
    "alpha <- 4.6e-4\n",
    "results_prefix <- '/data/projects/julia.pratt/CS1_genomeSelection/scripts/revigo/overlaps/GOBP/'\n",
    "sourcepreferences <- \"GO:BP\""
   ]
  },
  {
   "cell_type": "code",
   "execution_count": 4,
   "metadata": {},
   "outputs": [],
   "source": [
    "tissues <- c('Leaf')\n",
    "years <- c('2018')\n",
    "phenos <- c('Anthesis', 'Veraison', 'Harvest')\n",
    "rootstocks <- c('Ungrafted', '1103P', '3309C', 'SO4')\n",
    "dir <- c('Up', 'Down')\n",
    "prefix <- '/data/projects/julia.pratt/CS1_genomeSelection/all_rootstock_comparisons/'\n",
    "stats <- list()\n",
    "overlaps <- list()"
   ]
  },
  {
   "cell_type": "code",
   "execution_count": 5,
   "metadata": {},
   "outputs": [],
   "source": [
    "# filter according to log2foldchange value\n",
    "log2foldchange <- function(data, alpha, log2FoldChangeVal, d) {\n",
    " \n",
    "    # only keeps significant values\n",
    "    data.sig <- data %>% filter(padj < alpha)\n",
    "    \n",
    "    # separates upregulated/downregulated\n",
    "    if (d == 'Up') {\n",
    "        data.adj <- data.sig %>% filter(log2FoldChange > log2FoldChangeVal)\n",
    "    } else if (d == 'Down') {\n",
    "         data.adj <- data.sig %>% filter(log2FoldChange < -log2FoldChangeVal)\n",
    "    } else {\n",
    "        print(paste(d, \"not a valid direction\"))\n",
    "    }\n",
    "\n",
    "    return(data.adj)\n",
    "}"
   ]
  },
  {
   "cell_type": "code",
   "execution_count": 6,
   "metadata": {},
   "outputs": [],
   "source": [
    "# all data combos\n",
    "for (t in tissues){\n",
    "    for (y in years){\n",
    "        for (p in phenos){\n",
    "            for (direction in dir){\n",
    "                \n",
    "                meta <- paste(y, p, t, direction, sep='_')\n",
    "                metaformat <- paste(y, p, t, direction, sep=' ')\n",
    "                overlaps[[meta]] <- list()\n",
    "                \n",
    "                for (j in 2:length(rootstocks)) {             \n",
    "                    # read in the data\n",
    "                    rs <- str_interp(\"Ungrafted-${rootstocks[j]}\")\n",
    "                    data <- read.csv(paste(prefix, paste(t, y, p, rs, sep='_'), '.csv', sep=''))\n",
    "                    fname <- paste(meta,rs,sep='_')\n",
    "                    # filter and save the data\n",
    "                    data.adj <- log2foldchange(data, 0.05, 0, direction)\n",
    "                    stats[[rs]] <- data.adj\n",
    "                }\n",
    "                \n",
    "                # Ungrafted-1103P x Ungrafted-3309C x Ungrafted-SO4\n",
    "                overlaps[[meta]][['1103P-3309C-SO4']] <- list()\n",
    "                overlaps[[meta]][['1103P-3309C-SO4']][['v3_genes']] <- overlap_genes_three(stats[['Ungrafted-1103P']][['X']],\n",
    "                                                                    stats[['Ungrafted-3309C']][['X']],\n",
    "                                                                    stats[['Ungrafted-SO4']][['X']])\n",
    "                \n",
    "                # Ungrafted-1103P x Ungrafted-3309C , NOT Ungrafted-SO4\n",
    "                overlaps[[meta]][['1103P-3309C']] <- list()\n",
    "                overlaps[[meta]][['1103P-3309C']][['v3_genes']] <- overlap_genes_two(stats[['Ungrafted-1103P']][['X']],\n",
    "                                                              stats[['Ungrafted-3309C']][['X']],\n",
    "                                                              stats[['Ungrafted-SO4']][['X']])\n",
    "                \n",
    "                # Ungrafted-1103P x Ungrafted-SO4 , NOT Ungrafted-3309C\n",
    "                overlaps[[meta]][['1103P-SO4']] <- list()\n",
    "                overlaps[[meta]][['1103P-SO4']][['v3_genes']] <- overlap_genes_two(stats[['Ungrafted-1103P']][['X']],\n",
    "                                                            stats[['Ungrafted-SO4']][['X']],\n",
    "                                                            stats[['Ungrafted-3309C']][['X']])\n",
    "                \n",
    "                # Ungrafted-3309C x Ungrafted-SO4 , NOT Ungrafted-1103P\n",
    "                overlaps[[meta]][['3309C-SO4']] <- list()\n",
    "                overlaps[[meta]][['3309C-SO4']][['v3_genes']] <- overlap_genes_two(stats[['Ungrafted-3309C']][['X']],\n",
    "                                                            stats[['Ungrafted-SO4']][['X']],\n",
    "                                                            stats[['Ungrafted-1103P']][['X']])\n",
    "                \n",
    "                # Private to Ungrafted-1103P\n",
    "                overlaps[[meta]][['1103P']] <- list()\n",
    "                overlaps[[meta]][['1103P']][['v3_genes']] <- private_of_three(stats[['Ungrafted-1103P']][['X']],\n",
    "                                                       stats[['Ungrafted-3309C']][['X']],\n",
    "                                                       stats[['Ungrafted-SO4']][['X']])\n",
    "                \n",
    "                # Private to Ungrafted-3309C\n",
    "                overlaps[[meta]][['3309C']] <- list()\n",
    "                overlaps[[meta]][['3309C']][['v3_genes']] <- private_of_three(stats[['Ungrafted-3309C']][['X']],\n",
    "                                                       stats[['Ungrafted-1103P']][['X']],\n",
    "                                                       stats[['Ungrafted-SO4']][['X']])\n",
    "                \n",
    "                # Private to Ungrafted-SO4\n",
    "                overlaps[[meta]][['SO4']] <- list()\n",
    "                overlaps[[meta]][['SO4']][['v3_genes']] <- private_of_three(stats[['Ungrafted-SO4']][['X']],\n",
    "                                                     stats[['Ungrafted-1103P']][['X']],\n",
    "                                                     stats[['Ungrafted-3309C']][['X']])\n",
    "            }\n",
    "        }\n",
    "    }\n",
    "}"
   ]
  },
  {
   "cell_type": "code",
   "execution_count": 7,
   "metadata": {},
   "outputs": [],
   "source": [
    "df <- NULL\n",
    "for (set in names(overlaps)){\n",
    "    for (rsset in names(overlaps[[set]])) {\n",
    "        df <- rbind(df, data.frame(\n",
    "            \"category\" = set,\n",
    "            \"overlapping_rootstocks\" = rsset,\n",
    "            \"number_genes\" = length(overlaps[[set]][[rsset]][['v3_genes']])\n",
    "        ))\n",
    "    }\n",
    "}"
   ]
  },
  {
   "cell_type": "code",
   "execution_count": 8,
   "metadata": {},
   "outputs": [
    {
     "name": "stderr",
     "output_type": "stream",
     "text": [
      "Parsed with column specification:\n",
      "cols(\n",
      "  X1 = col_character(),\n",
      "  X2 = col_character()\n",
      ")\n",
      "Warning message:\n",
      "\"15 parsing failures.\n",
      " row col  expected    actual                     file\n",
      "9454  -- 2 columns 1 columns 'v3_mapNamesToAlias.tsv'\n",
      "9459  -- 2 columns 1 columns 'v3_mapNamesToAlias.tsv'\n",
      "9465  -- 2 columns 1 columns 'v3_mapNamesToAlias.tsv'\n",
      "9466  -- 2 columns 1 columns 'v3_mapNamesToAlias.tsv'\n",
      "9468  -- 2 columns 1 columns 'v3_mapNamesToAlias.tsv'\n",
      ".... ... ......... ......... ........................\n",
      "See problems(...) for more details.\n",
      "\""
     ]
    }
   ],
   "source": [
    "# method to convert vitis (v3) to vit_ (v1)\n",
    "aliasmap <- data.frame(read_tsv('v3_mapNamesToAlias.tsv', col_names = FALSE))\n",
    "colnames(aliasmap) <- c('12Xv1', 'VCOST.v3')\n",
    "aliashash <- hash(keys=aliasmap$'12Xv1', values=aliasmap$'VCOST.v3')\n",
    "\n",
    "convert <- function(i){\n",
    "  vitvi <- as.character(i)\n",
    "  vitvi.alias <- unlist(strsplit(aliashash[[vitvi]], ','))\n",
    "  vitvi.alias.reduced <- unlist(vitvi.alias[grepl('VIT_', vitvi.alias, fixed=TRUE)])\n",
    "  if(length(vitvi.alias.reduced) == 0){\n",
    "    #print(paste(\"no vit_ name located for\", vitvi))\n",
    "  }\n",
    "  return(vitvi.alias.reduced)\n",
    "}"
   ]
  },
  {
   "cell_type": "code",
   "execution_count": 9,
   "metadata": {},
   "outputs": [
    {
     "name": "stderr",
     "output_type": "stream",
     "text": [
      "No results to show\n",
      "Please make sure that the organism is correct or set significant = FALSE\n",
      "No results to show\n",
      "Please make sure that the organism is correct or set significant = FALSE\n",
      "No results to show\n",
      "Please make sure that the organism is correct or set significant = FALSE\n"
     ]
    },
    {
     "name": "stdout",
     "output_type": "stream",
     "text": [
      "[1] \"2018_Anthesis_Leaf_Up_3309C-SO4\"\n"
     ]
    },
    {
     "name": "stderr",
     "output_type": "stream",
     "text": [
      "No results to show\n",
      "Please make sure that the organism is correct or set significant = FALSE\n"
     ]
    },
    {
     "name": "stdout",
     "output_type": "stream",
     "text": [
      "[1] \"2018_Anthesis_Leaf_Up_3309C\"\n",
      "[1] \"2018_Anthesis_Leaf_Up_SO4\"\n"
     ]
    },
    {
     "name": "stderr",
     "output_type": "stream",
     "text": [
      "No results to show\n",
      "Please make sure that the organism is correct or set significant = FALSE\n",
      "No results to show\n",
      "Please make sure that the organism is correct or set significant = FALSE\n"
     ]
    },
    {
     "name": "stdout",
     "output_type": "stream",
     "text": [
      "[1] \"2018_Anthesis_Leaf_Down_3309C-SO4\"\n"
     ]
    },
    {
     "name": "stderr",
     "output_type": "stream",
     "text": [
      "No results to show\n",
      "Please make sure that the organism is correct or set significant = FALSE\n"
     ]
    },
    {
     "name": "stdout",
     "output_type": "stream",
     "text": [
      "[1] \"2018_Anthesis_Leaf_Down_3309C\"\n",
      "[1] \"2018_Anthesis_Leaf_Down_SO4\"\n"
     ]
    },
    {
     "name": "stderr",
     "output_type": "stream",
     "text": [
      "No results to show\n",
      "Please make sure that the organism is correct or set significant = FALSE\n",
      "No results to show\n",
      "Please make sure that the organism is correct or set significant = FALSE\n"
     ]
    },
    {
     "name": "stdout",
     "output_type": "stream",
     "text": [
      "[1] \"2018_Veraison_Leaf_Up_1103P-SO4\"\n"
     ]
    },
    {
     "name": "stderr",
     "output_type": "stream",
     "text": [
      "No results to show\n",
      "Please make sure that the organism is correct or set significant = FALSE\n"
     ]
    },
    {
     "name": "stdout",
     "output_type": "stream",
     "text": [
      "[1] \"2018_Veraison_Leaf_Up_1103P\"\n"
     ]
    },
    {
     "name": "stderr",
     "output_type": "stream",
     "text": [
      "No results to show\n",
      "Please make sure that the organism is correct or set significant = FALSE\n",
      "No results to show\n",
      "Please make sure that the organism is correct or set significant = FALSE\n",
      "No results to show\n",
      "Please make sure that the organism is correct or set significant = FALSE\n",
      "No results to show\n",
      "Please make sure that the organism is correct or set significant = FALSE\n",
      "No results to show\n",
      "Please make sure that the organism is correct or set significant = FALSE\n",
      "No results to show\n",
      "Please make sure that the organism is correct or set significant = FALSE\n",
      "No results to show\n",
      "Please make sure that the organism is correct or set significant = FALSE\n",
      "No results to show\n",
      "Please make sure that the organism is correct or set significant = FALSE\n"
     ]
    },
    {
     "name": "stdout",
     "output_type": "stream",
     "text": [
      "[1] \"2018_Veraison_Leaf_Down_SO4\"\n",
      "[1] \"2018_Harvest_Leaf_Up_1103P-3309C-SO4\"\n"
     ]
    },
    {
     "name": "stderr",
     "output_type": "stream",
     "text": [
      "No results to show\n",
      "Please make sure that the organism is correct or set significant = FALSE\n"
     ]
    },
    {
     "name": "stdout",
     "output_type": "stream",
     "text": [
      "[1] \"2018_Harvest_Leaf_Up_1103P-SO4\"\n"
     ]
    },
    {
     "name": "stderr",
     "output_type": "stream",
     "text": [
      "No results to show\n",
      "Please make sure that the organism is correct or set significant = FALSE\n",
      "No results to show\n",
      "Please make sure that the organism is correct or set significant = FALSE\n",
      "No results to show\n",
      "Please make sure that the organism is correct or set significant = FALSE\n"
     ]
    },
    {
     "name": "stdout",
     "output_type": "stream",
     "text": [
      "[1] \"2018_Harvest_Leaf_Up_SO4\"\n"
     ]
    },
    {
     "name": "stderr",
     "output_type": "stream",
     "text": [
      "No results to show\n",
      "Please make sure that the organism is correct or set significant = FALSE\n",
      "No results to show\n",
      "Please make sure that the organism is correct or set significant = FALSE\n",
      "No results to show\n",
      "Please make sure that the organism is correct or set significant = FALSE\n",
      "No results to show\n",
      "Please make sure that the organism is correct or set significant = FALSE\n",
      "No results to show\n",
      "Please make sure that the organism is correct or set significant = FALSE\n",
      "No results to show\n",
      "Please make sure that the organism is correct or set significant = FALSE\n",
      "No results to show\n",
      "Please make sure that the organism is correct or set significant = FALSE\n"
     ]
    }
   ],
   "source": [
    "for (set in names(overlaps)){\n",
    "    for (rsset in names(overlaps[[set]])) {\n",
    "        \n",
    "        # name conversion, v3 to v1\n",
    "        data.converted <- unlist(lapply(X=overlaps[[set]][[rsset]][['v3_genes']], FUN=convert))\n",
    "        \n",
    "        if (length(data.converted) > 0) {\n",
    "            # run GO\n",
    "            results <- gost(query = data.converted,\n",
    "                        organism = \"vvinifera\", ordered_query = FALSE, \n",
    "                        multi_query = FALSE, significant = TRUE, exclude_iea = FALSE, \n",
    "                        measure_underrepresentation = FALSE, evcodes = FALSE, \n",
    "                        user_threshold = alpha, correction_method = \"fdr\", \n",
    "                        domain_scope = \"annotated\", custom_bg = NULL, \n",
    "                        numeric_ns = \"\", sources = sourcepreferences, as_short_link = FALSE)\n",
    "            fname <- paste(set,rsset,sep=\"_\")\n",
    "\n",
    "            if(length(results$result$source) > 0) {\n",
    "                overlaps[[set]][[rsset]][['GOresults']] <- results\n",
    "                print(fname)\n",
    "            }\n",
    "            else{\n",
    "                overlaps[[set]][[rsset]][['GOresults']] <- NULL\n",
    "            }\n",
    "        }\n",
    "    \n",
    "        else{\n",
    "                overlaps[[set]][[rsset]][['GOresults']] <- NULL\n",
    "        }\n",
    "    }\n",
    "}"
   ]
  },
  {
   "cell_type": "code",
   "execution_count": 10,
   "metadata": {},
   "outputs": [
    {
     "name": "stderr",
     "output_type": "stream",
     "text": [
      "Warning message in stri_replace_all_fixed(dat, \"\\r\", \"\"):\n",
      "\"argument is not an atomic vector; coercing\"Warning message in stri_replace_all_fixed(dat, \"\\r\", \"\"):\n",
      "\"argument is not an atomic vector; coercing\"Warning message in stri_replace_all_fixed(dat, \"\\r\", \"\"):\n",
      "\"argument is not an atomic vector; coercing\"Warning message in stri_replace_all_fixed(dat, \"\\r\", \"\"):\n",
      "\"argument is not an atomic vector; coercing\"Warning message in stri_replace_all_fixed(dat, \"\\r\", \"\"):\n",
      "\"argument is not an atomic vector; coercing\"Warning message in stri_replace_all_fixed(dat, \"\\r\", \"\"):\n",
      "\"argument is not an atomic vector; coercing\"Warning message in stri_replace_all_fixed(dat, \"\\r\", \"\"):\n",
      "\"argument is not an atomic vector; coercing\"Warning message in stri_replace_all_fixed(dat, \"\\r\", \"\"):\n",
      "\"argument is not an atomic vector; coercing\"Warning message in stri_replace_all_fixed(dat, \"\\r\", \"\"):\n",
      "\"argument is not an atomic vector; coercing\"Warning message in stri_replace_all_fixed(dat, \"\\r\", \"\"):\n",
      "\"argument is not an atomic vector; coercing\"Warning message in stri_replace_all_fixed(dat, \"\\r\", \"\"):\n",
      "\"argument is not an atomic vector; coercing\"Warning message in stri_replace_all_fixed(dat, \"\\r\", \"\"):\n",
      "\"argument is not an atomic vector; coercing\""
     ]
    }
   ],
   "source": [
    "df2 <- NULL\n",
    "for (set in names(overlaps)){\n",
    "    for (rsset in names(overlaps[[set]])) {\n",
    "        if (!is.null(overlaps[[set]][[rsset]][['GOresults']])) {\n",
    "            df2 <- rbind(df2, data.frame(\n",
    "                \"name_full\" = paste(set, rsset, sep=\"_\"),\n",
    "                \"year\" = rep(str_split(set, \"_\")[[1]][1], dim(overlaps[[set]][[rsset]][['GOresults']][['result']])[1]),\n",
    "                \"phenology\" = rep(str_split(set, \"_\")[[1]][2], dim(overlaps[[set]][[rsset]][['GOresults']][['result']])[1]),\n",
    "                \"tissue\" = rep(str_split(set, \"_\")[[1]][3], dim(overlaps[[set]][[rsset]][['GOresults']][['result']])[1]),\n",
    "                \"direction\" = rep(str_split(set, \"_\")[[1]][4], dim(overlaps[[set]][[rsset]][['GOresults']][['result']])[1]),\n",
    "                \"overlapping.rootstocks\" = rep(paste(rsset), dim(overlaps[[set]][[rsset]][['GOresults']][['result']])[1]),\n",
    "                \"GO.source\" = overlaps[[set]][[rsset]][['GOresults']][['result']] %>% select('source'),\n",
    "                \"GO.term.id\" = overlaps[[set]][[rsset]][['GOresults']][['result']] %>% select('term_id'),\n",
    "                \"GO.term.name\" = overlaps[[set]][[rsset]][['GOresults']][['result']] %>% select('term_name'),\n",
    "                \"p.value\" = overlaps[[set]][[rsset]][['GOresults']][['result']] %>% select('p_value'))\n",
    "            )\n",
    "            \n",
    "            tmp <- overlaps[[set]][[rsset]][['GOresults']][['result']] %>% select(term_id, p_value)\n",
    "            finalname <- paste(results_prefix, paste(\"REVIGO\", set, rsset, sep=\"_\"), \".csv\", sep=\"\")\n",
    "            write.table(tmp, \"tmp.txt\", quote=FALSE, row.names = FALSE, col.names = FALSE)\n",
    "            filedata <-readChar(\"tmp.txt\",file.info(\"tmp.txt\")$size)\n",
    "\n",
    "            httr::POST(\n",
    "              url = \"http://revigo.irb.hr/Revigo.aspx\",\n",
    "              body = list(\n",
    "                cutoff = \"0.5\",\n",
    "                valueType = \"pvalue\",\n",
    "                speciesTaxon = \"0\",\n",
    "                measure = \"SIMREL\",\n",
    "                goList = filedata\n",
    "              ),\n",
    "              # application/x-www-form-urlencoded\n",
    "              encode = \"form\"\n",
    "            ) -> res\n",
    "\n",
    "            dat <- httr::content(res, encoding = \"UTF-8\")\n",
    "\n",
    "            # Write results to a file\n",
    "            dat <- stri_replace_all_fixed(dat, \"\\r\", \"\")\n",
    "            cat(dat, file='tmpresults.html', fill = FALSE)\n",
    "            resultsrevigo <- readHTMLTable('tmpresults.html')\n",
    "\n",
    "            fullresultsrevigo <- setNames(data.frame(matrix(ncol = 4, nrow = 0)), c(\"Term.ID\", \"Name\", \"Value\", \"Category\"))\n",
    "            if(!is.null(resultsrevigo$BiologicalProcess)){\n",
    "                resultsrevigo$BiologicalProcess <- resultsrevigo$BiologicalProcess %>% \n",
    "                                                    filter(Eliminated=='False') %>% \n",
    "                                                    select(`Term ID`, Name, Value)\n",
    "                resultsrevigo$BiologicalProcess['Category'] <- rep('BiologicalProcess', dim(resultsrevigo$BiologicalProcess)[1])\n",
    "                fullresultsrevigo <- rbind(fullresultsrevigo, resultsrevigo$BiologicalProcess)\n",
    "            }\n",
    "            if(!is.null(resultsrevigo$CellularComponent)){\n",
    "                resultsrevigo$CellularComponent <- resultsrevigo$CellularComponent %>% \n",
    "                                                    filter(Eliminated=='False') %>% \n",
    "                                                    select(`Term ID`, Name, Value)\n",
    "                resultsrevigo$CellularComponent['Category'] <- rep('CellularComponent', dim(resultsrevigo$CellularComponent)[1])\n",
    "                fullresultsrevigo <- rbind(fullresultsrevigo, resultsrevigo$CellularComponent)\n",
    "            }\n",
    "            if(!is.null(resultsrevigo$MolecularFunction)){\n",
    "                resultsrevigo$MolecularFunction <- resultsrevigo$MolecularFunction %>% \n",
    "                                                    filter(Eliminated=='False') %>% \n",
    "                                                    select(`Term ID`, Name, Value)\n",
    "                resultsrevigo$MolecularFunction['Category'] <- rep('MolecularFunction', dim(resultsrevigo$MolecularFunction)[1])\n",
    "                fullresultsrevigo <- rbind(fullresultsrevigo, resultsrevigo$MolecularFunction)\n",
    "            }\n",
    "\n",
    "            write.csv(data.frame(fullresultsrevigo), finalname, row.names=FALSE)\n",
    "        }\n",
    "    }\n",
    "}"
   ]
  },
  {
   "cell_type": "code",
   "execution_count": 12,
   "metadata": {},
   "outputs": [],
   "source": [
    "write.csv(df, paste(results_prefix, \"GO_overlaps_stats.csv\", sep=\"\"))"
   ]
  },
  {
   "cell_type": "code",
   "execution_count": 13,
   "metadata": {},
   "outputs": [],
   "source": [
    "write.csv(df2, paste(results_prefix, \"GO_overlaps_go_term_list.csv\", sep=\"\"))"
   ]
  }
 ],
 "metadata": {
  "kernelspec": {
   "display_name": "R",
   "language": "R",
   "name": "ir"
  },
  "language_info": {
   "codemirror_mode": "r",
   "file_extension": ".r",
   "mimetype": "text/x-r-source",
   "name": "R",
   "pygments_lexer": "r",
   "version": "3.6.1"
  }
 },
 "nbformat": 4,
 "nbformat_minor": 2
}
