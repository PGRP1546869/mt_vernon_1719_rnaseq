{
 "cells": [
  {
   "cell_type": "code",
   "execution_count": 1,
   "metadata": {},
   "outputs": [
    {
     "name": "stderr",
     "output_type": "stream",
     "text": [
      "Loading required package: S4Vectors\n",
      "Loading required package: stats4\n",
      "Loading required package: BiocGenerics\n",
      "Loading required package: parallel\n",
      "\n",
      "Attaching package: ‘BiocGenerics’\n",
      "\n",
      "The following objects are masked from ‘package:parallel’:\n",
      "\n",
      "    clusterApply, clusterApplyLB, clusterCall, clusterEvalQ,\n",
      "    clusterExport, clusterMap, parApply, parCapply, parLapply,\n",
      "    parLapplyLB, parRapply, parSapply, parSapplyLB\n",
      "\n",
      "The following objects are masked from ‘package:stats’:\n",
      "\n",
      "    IQR, mad, sd, var, xtabs\n",
      "\n",
      "The following objects are masked from ‘package:base’:\n",
      "\n",
      "    anyDuplicated, append, as.data.frame, basename, cbind, colnames,\n",
      "    dirname, do.call, duplicated, eval, evalq, Filter, Find, get, grep,\n",
      "    grepl, intersect, is.unsorted, lapply, Map, mapply, match, mget,\n",
      "    order, paste, pmax, pmax.int, pmin, pmin.int, Position, rank,\n",
      "    rbind, Reduce, rownames, sapply, setdiff, sort, table, tapply,\n",
      "    union, unique, unsplit, which, which.max, which.min\n",
      "\n",
      "\n",
      "Attaching package: ‘S4Vectors’\n",
      "\n",
      "The following object is masked from ‘package:base’:\n",
      "\n",
      "    expand.grid\n",
      "\n",
      "Loading required package: IRanges\n",
      "Loading required package: GenomicRanges\n",
      "Loading required package: GenomeInfoDb\n",
      "Loading required package: SummarizedExperiment\n",
      "Loading required package: Biobase\n",
      "Welcome to Bioconductor\n",
      "\n",
      "    Vignettes contain introductory material; view with\n",
      "    'browseVignettes()'. To cite Bioconductor, see\n",
      "    'citation(\"Biobase\")', and for packages 'citation(\"pkgname\")'.\n",
      "\n",
      "Loading required package: DelayedArray\n",
      "Loading required package: matrixStats\n",
      "\n",
      "Attaching package: ‘matrixStats’\n",
      "\n",
      "The following objects are masked from ‘package:Biobase’:\n",
      "\n",
      "    anyMissing, rowMedians\n",
      "\n",
      "Loading required package: BiocParallel\n",
      "\n",
      "Attaching package: ‘DelayedArray’\n",
      "\n",
      "The following objects are masked from ‘package:matrixStats’:\n",
      "\n",
      "    colMaxs, colMins, colRanges, rowMaxs, rowMins, rowRanges\n",
      "\n",
      "The following objects are masked from ‘package:base’:\n",
      "\n",
      "    aperm, apply, rowsum\n",
      "\n",
      "Registered S3 methods overwritten by 'ggplot2':\n",
      "  method         from \n",
      "  [.quosures     rlang\n",
      "  c.quosures     rlang\n",
      "  print.quosures rlang\n",
      "Loading required package: viridisLite\n",
      "Loading required package: magrittr\n"
     ]
    }
   ],
   "source": [
    "library('DESeq2')\n",
    "library('viridis')\n",
    "library('ggplot2')\n",
    "library('ggpubr')"
   ]
  },
  {
   "cell_type": "markdown",
   "metadata": {},
   "source": [
    "# Assemble Metadata"
   ]
  },
  {
   "cell_type": "code",
   "execution_count": 81,
   "metadata": {},
   "outputs": [
    {
     "data": {
      "text/html": [
       "<ol class=list-inline>\n",
       "\t<li>'1103P'</li>\n",
       "\t<li>'1103PAULSEN'</li>\n",
       "\t<li>'3309C'</li>\n",
       "\t<li>'OWN'</li>\n",
       "\t<li>'SO4'</li>\n",
       "</ol>\n"
      ],
      "text/latex": [
       "\\begin{enumerate*}\n",
       "\\item '1103P'\n",
       "\\item '1103PAULSEN'\n",
       "\\item '3309C'\n",
       "\\item 'OWN'\n",
       "\\item 'SO4'\n",
       "\\end{enumerate*}\n"
      ],
      "text/markdown": [
       "1. '1103P'\n",
       "2. '1103PAULSEN'\n",
       "3. '3309C'\n",
       "4. 'OWN'\n",
       "5. 'SO4'\n",
       "\n",
       "\n"
      ],
      "text/plain": [
       "[1] \"1103P\"       \"1103PAULSEN\" \"3309C\"       \"OWN\"         \"SO4\"        "
      ]
     },
     "metadata": {},
     "output_type": "display_data"
    }
   ],
   "source": [
    "#### define palettes ####\n",
    "\n",
    "levels(treatments$ROOTSTOCK)"
   ]
  },
  {
   "cell_type": "code",
   "execution_count": 134,
   "metadata": {},
   "outputs": [
    {
     "name": "stderr",
     "output_type": "stream",
     "text": [
      "Warning message in eval(expr, envir, enclos):\n",
      "“NAs introduced by coercion”"
     ]
    },
    {
     "data": {
      "text/html": [
       "<table>\n",
       "<caption>A data.frame: 1213 × 8</caption>\n",
       "<thead>\n",
       "\t<tr><th></th><th scope=col>sampleName</th><th scope=col>Year</th><th scope=col>Tissue</th><th scope=col>Phenology</th><th scope=col>indexer</th><th scope=col>Rootstock</th><th scope=col>Irrigation</th><th scope=col>Row</th></tr>\n",
       "\t<tr><th></th><th scope=col>&lt;chr&gt;</th><th scope=col>&lt;fct&gt;</th><th scope=col>&lt;fct&gt;</th><th scope=col>&lt;fct&gt;</th><th scope=col>&lt;chr&gt;</th><th scope=col>&lt;fct&gt;</th><th scope=col>&lt;fct&gt;</th><th scope=col>&lt;int&gt;</th></tr>\n",
       "</thead>\n",
       "<tbody>\n",
       "\t<tr><th scope=row>A1Y1_001_L</th><td>A1Y1_001_L</td><td>2017</td><td>Leaf</td><td>Anthesis</td><td>2017_Anthesis_Leaf_8_A_2 </td><td>1103P    </td><td>None</td><td> 8</td></tr>\n",
       "\t<tr><th scope=row>A1Y1_002_L</th><td>A1Y1_002_L</td><td>2017</td><td>Leaf</td><td>Anthesis</td><td>2017_Anthesis_Leaf_8_A_3 </td><td>1103P    </td><td>None</td><td> 8</td></tr>\n",
       "\t<tr><th scope=row>A1Y1_003_L</th><td>A1Y1_003_L</td><td>2017</td><td>Leaf</td><td>Anthesis</td><td>2017_Anthesis_Leaf_8_B_2 </td><td>3309C    </td><td>None</td><td> 8</td></tr>\n",
       "\t<tr><th scope=row>A1Y1_004_L</th><td>A1Y1_004_L</td><td>2017</td><td>Leaf</td><td>Anthesis</td><td>2017_Anthesis_Leaf_8_B_2 </td><td>3309C    </td><td>None</td><td> 8</td></tr>\n",
       "\t<tr><th scope=row>A1Y1_005_L</th><td>A1Y1_005_L</td><td>2017</td><td>Leaf</td><td>Anthesis</td><td>2017_Anthesis_Leaf_8_C_2 </td><td>SO4      </td><td>None</td><td> 8</td></tr>\n",
       "\t<tr><th scope=row>A1Y1_006_L</th><td>A1Y1_006_L</td><td>2017</td><td>Leaf</td><td>Anthesis</td><td>2017_Anthesis_Leaf_8_C_3 </td><td>SO4      </td><td>None</td><td> 8</td></tr>\n",
       "\t<tr><th scope=row>A1Y1_007_L</th><td>A1Y1_007_L</td><td>2017</td><td>Leaf</td><td>Anthesis</td><td>2017_Anthesis_Leaf_8_D_2 </td><td>Ungrafted</td><td>None</td><td> 8</td></tr>\n",
       "\t<tr><th scope=row>A1Y1_008_L</th><td>A1Y1_008_L</td><td>2017</td><td>Leaf</td><td>Anthesis</td><td>2017_Anthesis_Leaf_8_D_3 </td><td>Ungrafted</td><td>None</td><td> 8</td></tr>\n",
       "\t<tr><th scope=row>A1Y1_009_L</th><td>A1Y1_009_L</td><td>2017</td><td>Leaf</td><td>Anthesis</td><td>2017_Anthesis_Leaf_9_A_2 </td><td>Ungrafted</td><td>RDI </td><td> 9</td></tr>\n",
       "\t<tr><th scope=row>A1Y1_010_L</th><td>A1Y1_010_L</td><td>2017</td><td>Leaf</td><td>Anthesis</td><td>2017_Anthesis_Leaf_9_A_3 </td><td>Ungrafted</td><td>RDI </td><td> 9</td></tr>\n",
       "\t<tr><th scope=row>A1Y1_011_L</th><td>A1Y1_011_L</td><td>2017</td><td>Leaf</td><td>Anthesis</td><td>2017_Anthesis_Leaf_9_B_2 </td><td>1103P    </td><td>RDI </td><td> 9</td></tr>\n",
       "\t<tr><th scope=row>A1Y1_012_L</th><td>A1Y1_012_L</td><td>2017</td><td>Leaf</td><td>Anthesis</td><td>2017_Anthesis_Leaf_9_B_3 </td><td>1103P    </td><td>RDI </td><td> 9</td></tr>\n",
       "\t<tr><th scope=row>A1Y1_013_L</th><td>A1Y1_013_L</td><td>2017</td><td>Leaf</td><td>Anthesis</td><td>2017_Anthesis_Leaf_9_C_2 </td><td>3309C    </td><td>RDI </td><td> 9</td></tr>\n",
       "\t<tr><th scope=row>A1Y1_014_L</th><td>A1Y1_014_L</td><td>2017</td><td>Leaf</td><td>Anthesis</td><td>2017_Anthesis_Leaf_9_C_3 </td><td>3309C    </td><td>RDI </td><td> 9</td></tr>\n",
       "\t<tr><th scope=row>A1Y1_015_L</th><td>A1Y1_015_L</td><td>2017</td><td>Leaf</td><td>Anthesis</td><td>2017_Anthesis_Leaf_9_D_2 </td><td>SO4      </td><td>RDI </td><td> 9</td></tr>\n",
       "\t<tr><th scope=row>A1Y1_016_L</th><td>A1Y1_016_L</td><td>2017</td><td>Leaf</td><td>Anthesis</td><td>2017_Anthesis_Leaf_9_D_3 </td><td>SO4      </td><td>RDI </td><td> 9</td></tr>\n",
       "\t<tr><th scope=row>A1Y1_017_L</th><td>A1Y1_017_L</td><td>2017</td><td>Leaf</td><td>Anthesis</td><td>2017_Anthesis_Leaf_10_A_2</td><td>3309C    </td><td>Full</td><td>10</td></tr>\n",
       "\t<tr><th scope=row>A1Y1_018_L</th><td>A1Y1_018_L</td><td>2017</td><td>Leaf</td><td>Anthesis</td><td>2017_Anthesis_Leaf_10_A_3</td><td>3309C    </td><td>Full</td><td>10</td></tr>\n",
       "\t<tr><th scope=row>A1Y1_019_L</th><td>A1Y1_019_L</td><td>2017</td><td>Leaf</td><td>Anthesis</td><td>2017_Anthesis_Leaf_10_B_2</td><td>SO4      </td><td>Full</td><td>10</td></tr>\n",
       "\t<tr><th scope=row>A1Y1_020_L</th><td>A1Y1_020_L</td><td>2017</td><td>Leaf</td><td>Anthesis</td><td>2017_Anthesis_Leaf_10_B_3</td><td>SO4      </td><td>Full</td><td>10</td></tr>\n",
       "\t<tr><th scope=row>A1Y1_021_L</th><td>A1Y1_021_L</td><td>2017</td><td>Leaf</td><td>Anthesis</td><td>2017_Anthesis_Leaf_10_C_2</td><td>Ungrafted</td><td>Full</td><td>10</td></tr>\n",
       "\t<tr><th scope=row>A1Y1_022_L</th><td>A1Y1_022_L</td><td>2017</td><td>Leaf</td><td>Anthesis</td><td>2017_Anthesis_Leaf_10_C_3</td><td>Ungrafted</td><td>Full</td><td>10</td></tr>\n",
       "\t<tr><th scope=row>A1Y1_023_L</th><td>A1Y1_023_L</td><td>2017</td><td>Leaf</td><td>Anthesis</td><td>2017_Anthesis_Leaf_10_D_2</td><td>1103P    </td><td>Full</td><td>10</td></tr>\n",
       "\t<tr><th scope=row>A1Y1_024_L</th><td>A1Y1_024_L</td><td>2017</td><td>Leaf</td><td>Anthesis</td><td>2017_Anthesis_Leaf_10_D_3</td><td>1103P    </td><td>Full</td><td>10</td></tr>\n",
       "\t<tr><th scope=row>A1Y1_025_L</th><td>A1Y1_025_L</td><td>2017</td><td>Leaf</td><td>Anthesis</td><td>2017_Anthesis_Leaf_11_A_2</td><td>3309C    </td><td>RDI </td><td>11</td></tr>\n",
       "\t<tr><th scope=row>A1Y1_026_L</th><td>A1Y1_026_L</td><td>2017</td><td>Leaf</td><td>Anthesis</td><td>2017_Anthesis_Leaf_11_A_3</td><td>3309C    </td><td>RDI </td><td>11</td></tr>\n",
       "\t<tr><th scope=row>A1Y1_027_L</th><td>A1Y1_027_L</td><td>2017</td><td>Leaf</td><td>Anthesis</td><td>2017_Anthesis_Leaf_11_B_2</td><td>1103P    </td><td>RDI </td><td>11</td></tr>\n",
       "\t<tr><th scope=row>A1Y1_028_L</th><td>A1Y1_028_L</td><td>2017</td><td>Leaf</td><td>Anthesis</td><td>2017_Anthesis_Leaf_11_B_3</td><td>1103P    </td><td>RDI </td><td>11</td></tr>\n",
       "\t<tr><th scope=row>A1Y1_029_L</th><td>A1Y1_029_L</td><td>2017</td><td>Leaf</td><td>Anthesis</td><td>2017_Anthesis_Leaf_11_C_2</td><td>Ungrafted</td><td>RDI </td><td>11</td></tr>\n",
       "\t<tr><th scope=row>A1Y1_030_L</th><td>A1Y1_030_L</td><td>2017</td><td>Leaf</td><td>Anthesis</td><td>2017_Anthesis_Leaf_11_C_3</td><td>Ungrafted</td><td>RDI </td><td>11</td></tr>\n",
       "\t<tr><th scope=row>⋮</th><td>⋮</td><td>⋮</td><td>⋮</td><td>⋮</td><td>⋮</td><td>⋮</td><td>⋮</td><td>⋮</td></tr>\n",
       "\t<tr><th scope=row>A1Y3_539_R</th><td>A1Y3_539_R</td><td>2019</td><td>Reproductive</td><td>Veraison</td><td>2019_Veraison_Reproductive_12_B_2</td><td>Ungrafted</td><td>Full</td><td>12</td></tr>\n",
       "\t<tr><th scope=row>A1Y3_540_R</th><td>A1Y3_540_R</td><td>2019</td><td>Reproductive</td><td>Veraison</td><td>2019_Veraison_Reproductive_12_B_3</td><td>Ungrafted</td><td>Full</td><td>12</td></tr>\n",
       "\t<tr><th scope=row>A1Y3_541_R</th><td>A1Y3_541_R</td><td>2019</td><td>Reproductive</td><td>Veraison</td><td>2019_Veraison_Reproductive_12_C_2</td><td>SO4      </td><td>Full</td><td>12</td></tr>\n",
       "\t<tr><th scope=row>A1Y3_543_R</th><td>A1Y3_543_R</td><td>2019</td><td>Reproductive</td><td>Veraison</td><td>2019_Veraison_Reproductive_12_D_2</td><td>3309C    </td><td>Full</td><td>12</td></tr>\n",
       "\t<tr><th scope=row>A1Y3_544_R</th><td>A1Y3_544_R</td><td>2019</td><td>Reproductive</td><td>Veraison</td><td>2019_Veraison_Reproductive_12_D_3</td><td>3309C    </td><td>Full</td><td>12</td></tr>\n",
       "\t<tr><th scope=row>A1Y3_545_R</th><td>A1Y3_545_R</td><td>2019</td><td>Reproductive</td><td>Veraison</td><td>2019_Veraison_Reproductive_13_A_2</td><td>SO4      </td><td>None</td><td>13</td></tr>\n",
       "\t<tr><th scope=row>A1Y3_546_R</th><td>A1Y3_546_R</td><td>2019</td><td>Reproductive</td><td>Veraison</td><td>2019_Veraison_Reproductive_13_A_3</td><td>SO4      </td><td>None</td><td>13</td></tr>\n",
       "\t<tr><th scope=row>A1Y3_547_R</th><td>A1Y3_547_R</td><td>2019</td><td>Reproductive</td><td>Veraison</td><td>2019_Veraison_Reproductive_13_B_2</td><td>3309C    </td><td>None</td><td>13</td></tr>\n",
       "\t<tr><th scope=row>A1Y3_548_R</th><td>A1Y3_548_R</td><td>2019</td><td>Reproductive</td><td>Veraison</td><td>2019_Veraison_Reproductive_13_B_3</td><td>3309C    </td><td>None</td><td>13</td></tr>\n",
       "\t<tr><th scope=row>A1Y3_549_R</th><td>A1Y3_549_R</td><td>2019</td><td>Reproductive</td><td>Veraison</td><td>2019_Veraison_Reproductive_13_C_2</td><td>1103P    </td><td>None</td><td>13</td></tr>\n",
       "\t<tr><th scope=row>A1Y3_550_R</th><td>A1Y3_550_R</td><td>2019</td><td>Reproductive</td><td>Veraison</td><td>2019_Veraison_Reproductive_13_C_3</td><td>1103P    </td><td>None</td><td>13</td></tr>\n",
       "\t<tr><th scope=row>A1Y3_551_R</th><td>A1Y3_551_R</td><td>2019</td><td>Reproductive</td><td>Veraison</td><td>2019_Veraison_Reproductive_13_D_2</td><td>Ungrafted</td><td>None</td><td>13</td></tr>\n",
       "\t<tr><th scope=row>A1Y3_552_R</th><td>A1Y3_552_R</td><td>2019</td><td>Reproductive</td><td>Veraison</td><td>2019_Veraison_Reproductive_13_D_3</td><td>Ungrafted</td><td>None</td><td>13</td></tr>\n",
       "\t<tr><th scope=row>A1Y3_553_R</th><td>A1Y3_553_R</td><td>2019</td><td>Reproductive</td><td>Veraison</td><td>2019_Veraison_Reproductive_14_A_2</td><td>3309C    </td><td>RDI </td><td>14</td></tr>\n",
       "\t<tr><th scope=row>A1Y3_557_R</th><td>A1Y3_557_R</td><td>2019</td><td>Reproductive</td><td>Veraison</td><td>2019_Veraison_Reproductive_14_C_2</td><td>Ungrafted</td><td>RDI </td><td>14</td></tr>\n",
       "\t<tr><th scope=row>A1Y3_558_R</th><td>A1Y3_558_R</td><td>2019</td><td>Reproductive</td><td>Veraison</td><td>2019_Veraison_Reproductive_14_C_3</td><td>Ungrafted</td><td>RDI </td><td>14</td></tr>\n",
       "\t<tr><th scope=row>A1Y3_559_R</th><td>A1Y3_559_R</td><td>2019</td><td>Reproductive</td><td>Veraison</td><td>2019_Veraison_Reproductive_14_D_2</td><td>1103P    </td><td>RDI </td><td>14</td></tr>\n",
       "\t<tr><th scope=row>A1Y3_560_R</th><td>A1Y3_560_R</td><td>2019</td><td>Reproductive</td><td>Veraison</td><td>2019_Veraison_Reproductive_14_D_3</td><td>1103P    </td><td>RDI </td><td>14</td></tr>\n",
       "\t<tr><th scope=row>A1Y3_561_R</th><td>A1Y3_561_R</td><td>2019</td><td>Reproductive</td><td>Veraison</td><td>2019_Veraison_Reproductive_15_A_2</td><td>Ungrafted</td><td>None</td><td>15</td></tr>\n",
       "\t<tr><th scope=row>A1Y3_562_R</th><td>A1Y3_562_R</td><td>2019</td><td>Reproductive</td><td>Veraison</td><td>2019_Veraison_Reproductive_15_A_3</td><td>Ungrafted</td><td>None</td><td>15</td></tr>\n",
       "\t<tr><th scope=row>A1Y3_563_R</th><td>A1Y3_563_R</td><td>2019</td><td>Reproductive</td><td>Veraison</td><td>2019_Veraison_Reproductive_15_B_2</td><td>3309C    </td><td>None</td><td>15</td></tr>\n",
       "\t<tr><th scope=row>A1Y3_564_R</th><td>A1Y3_564_R</td><td>2019</td><td>Reproductive</td><td>Veraison</td><td>2019_Veraison_Reproductive_15_B_3</td><td>3309C    </td><td>None</td><td>15</td></tr>\n",
       "\t<tr><th scope=row>A1Y3_565_R</th><td>A1Y3_565_R</td><td>2019</td><td>Reproductive</td><td>Veraison</td><td>2019_Veraison_Reproductive_15_C_2</td><td>1103P    </td><td>None</td><td>15</td></tr>\n",
       "\t<tr><th scope=row>A1Y3_566_R</th><td>A1Y3_566_R</td><td>2019</td><td>Reproductive</td><td>Veraison</td><td>2019_Veraison_Reproductive_15_C_3</td><td>1103P    </td><td>None</td><td>15</td></tr>\n",
       "\t<tr><th scope=row>A1Y3_568_R</th><td>A1Y3_568_R</td><td>2019</td><td>Reproductive</td><td>Veraison</td><td>2019_Veraison_Reproductive_15_D_3</td><td>SO4      </td><td>None</td><td>15</td></tr>\n",
       "\t<tr><th scope=row>A1Y3_569_R</th><td>A1Y3_569_R</td><td>2019</td><td>Reproductive</td><td>Veraison</td><td>2019_Veraison_Reproductive_16_A_2</td><td>1103P    </td><td>Full</td><td>16</td></tr>\n",
       "\t<tr><th scope=row>A1Y3_570_R</th><td>A1Y3_570_R</td><td>2019</td><td>Reproductive</td><td>Veraison</td><td>2019_Veraison_Reproductive_16_A_3</td><td>1103P    </td><td>Full</td><td>16</td></tr>\n",
       "\t<tr><th scope=row>A1Y3_572_R</th><td>A1Y3_572_R</td><td>2019</td><td>Reproductive</td><td>Veraison</td><td>2019_Veraison_Reproductive_16_B_3</td><td>Ungrafted</td><td>Full</td><td>16</td></tr>\n",
       "\t<tr><th scope=row>A1Y3_573_R</th><td>A1Y3_573_R</td><td>2019</td><td>Reproductive</td><td>Veraison</td><td>2019_Veraison_Reproductive_16_C_2</td><td>SO4      </td><td>Full</td><td>16</td></tr>\n",
       "\t<tr><th scope=row>A1Y3_576_R</th><td>A1Y3_576_R</td><td>2019</td><td>Reproductive</td><td>Veraison</td><td>2019_Veraison_Reproductive_16_D_3</td><td>3309C    </td><td>Full</td><td>16</td></tr>\n",
       "</tbody>\n",
       "</table>\n"
      ],
      "text/latex": [
       "A data.frame: 1213 × 8\n",
       "\\begin{tabular}{r|llllllll}\n",
       "  & sampleName & Year & Tissue & Phenology & indexer & Rootstock & Irrigation & Row\\\\\n",
       "  & <chr> & <fct> & <fct> & <fct> & <chr> & <fct> & <fct> & <int>\\\\\n",
       "\\hline\n",
       "\tA1Y1\\_001\\_L & A1Y1\\_001\\_L & 2017 & Leaf & Anthesis & 2017\\_Anthesis\\_Leaf\\_8\\_A\\_2  & 1103P     & None &  8\\\\\n",
       "\tA1Y1\\_002\\_L & A1Y1\\_002\\_L & 2017 & Leaf & Anthesis & 2017\\_Anthesis\\_Leaf\\_8\\_A\\_3  & 1103P     & None &  8\\\\\n",
       "\tA1Y1\\_003\\_L & A1Y1\\_003\\_L & 2017 & Leaf & Anthesis & 2017\\_Anthesis\\_Leaf\\_8\\_B\\_2  & 3309C     & None &  8\\\\\n",
       "\tA1Y1\\_004\\_L & A1Y1\\_004\\_L & 2017 & Leaf & Anthesis & 2017\\_Anthesis\\_Leaf\\_8\\_B\\_2  & 3309C     & None &  8\\\\\n",
       "\tA1Y1\\_005\\_L & A1Y1\\_005\\_L & 2017 & Leaf & Anthesis & 2017\\_Anthesis\\_Leaf\\_8\\_C\\_2  & SO4       & None &  8\\\\\n",
       "\tA1Y1\\_006\\_L & A1Y1\\_006\\_L & 2017 & Leaf & Anthesis & 2017\\_Anthesis\\_Leaf\\_8\\_C\\_3  & SO4       & None &  8\\\\\n",
       "\tA1Y1\\_007\\_L & A1Y1\\_007\\_L & 2017 & Leaf & Anthesis & 2017\\_Anthesis\\_Leaf\\_8\\_D\\_2  & Ungrafted & None &  8\\\\\n",
       "\tA1Y1\\_008\\_L & A1Y1\\_008\\_L & 2017 & Leaf & Anthesis & 2017\\_Anthesis\\_Leaf\\_8\\_D\\_3  & Ungrafted & None &  8\\\\\n",
       "\tA1Y1\\_009\\_L & A1Y1\\_009\\_L & 2017 & Leaf & Anthesis & 2017\\_Anthesis\\_Leaf\\_9\\_A\\_2  & Ungrafted & RDI  &  9\\\\\n",
       "\tA1Y1\\_010\\_L & A1Y1\\_010\\_L & 2017 & Leaf & Anthesis & 2017\\_Anthesis\\_Leaf\\_9\\_A\\_3  & Ungrafted & RDI  &  9\\\\\n",
       "\tA1Y1\\_011\\_L & A1Y1\\_011\\_L & 2017 & Leaf & Anthesis & 2017\\_Anthesis\\_Leaf\\_9\\_B\\_2  & 1103P     & RDI  &  9\\\\\n",
       "\tA1Y1\\_012\\_L & A1Y1\\_012\\_L & 2017 & Leaf & Anthesis & 2017\\_Anthesis\\_Leaf\\_9\\_B\\_3  & 1103P     & RDI  &  9\\\\\n",
       "\tA1Y1\\_013\\_L & A1Y1\\_013\\_L & 2017 & Leaf & Anthesis & 2017\\_Anthesis\\_Leaf\\_9\\_C\\_2  & 3309C     & RDI  &  9\\\\\n",
       "\tA1Y1\\_014\\_L & A1Y1\\_014\\_L & 2017 & Leaf & Anthesis & 2017\\_Anthesis\\_Leaf\\_9\\_C\\_3  & 3309C     & RDI  &  9\\\\\n",
       "\tA1Y1\\_015\\_L & A1Y1\\_015\\_L & 2017 & Leaf & Anthesis & 2017\\_Anthesis\\_Leaf\\_9\\_D\\_2  & SO4       & RDI  &  9\\\\\n",
       "\tA1Y1\\_016\\_L & A1Y1\\_016\\_L & 2017 & Leaf & Anthesis & 2017\\_Anthesis\\_Leaf\\_9\\_D\\_3  & SO4       & RDI  &  9\\\\\n",
       "\tA1Y1\\_017\\_L & A1Y1\\_017\\_L & 2017 & Leaf & Anthesis & 2017\\_Anthesis\\_Leaf\\_10\\_A\\_2 & 3309C     & Full & 10\\\\\n",
       "\tA1Y1\\_018\\_L & A1Y1\\_018\\_L & 2017 & Leaf & Anthesis & 2017\\_Anthesis\\_Leaf\\_10\\_A\\_3 & 3309C     & Full & 10\\\\\n",
       "\tA1Y1\\_019\\_L & A1Y1\\_019\\_L & 2017 & Leaf & Anthesis & 2017\\_Anthesis\\_Leaf\\_10\\_B\\_2 & SO4       & Full & 10\\\\\n",
       "\tA1Y1\\_020\\_L & A1Y1\\_020\\_L & 2017 & Leaf & Anthesis & 2017\\_Anthesis\\_Leaf\\_10\\_B\\_3 & SO4       & Full & 10\\\\\n",
       "\tA1Y1\\_021\\_L & A1Y1\\_021\\_L & 2017 & Leaf & Anthesis & 2017\\_Anthesis\\_Leaf\\_10\\_C\\_2 & Ungrafted & Full & 10\\\\\n",
       "\tA1Y1\\_022\\_L & A1Y1\\_022\\_L & 2017 & Leaf & Anthesis & 2017\\_Anthesis\\_Leaf\\_10\\_C\\_3 & Ungrafted & Full & 10\\\\\n",
       "\tA1Y1\\_023\\_L & A1Y1\\_023\\_L & 2017 & Leaf & Anthesis & 2017\\_Anthesis\\_Leaf\\_10\\_D\\_2 & 1103P     & Full & 10\\\\\n",
       "\tA1Y1\\_024\\_L & A1Y1\\_024\\_L & 2017 & Leaf & Anthesis & 2017\\_Anthesis\\_Leaf\\_10\\_D\\_3 & 1103P     & Full & 10\\\\\n",
       "\tA1Y1\\_025\\_L & A1Y1\\_025\\_L & 2017 & Leaf & Anthesis & 2017\\_Anthesis\\_Leaf\\_11\\_A\\_2 & 3309C     & RDI  & 11\\\\\n",
       "\tA1Y1\\_026\\_L & A1Y1\\_026\\_L & 2017 & Leaf & Anthesis & 2017\\_Anthesis\\_Leaf\\_11\\_A\\_3 & 3309C     & RDI  & 11\\\\\n",
       "\tA1Y1\\_027\\_L & A1Y1\\_027\\_L & 2017 & Leaf & Anthesis & 2017\\_Anthesis\\_Leaf\\_11\\_B\\_2 & 1103P     & RDI  & 11\\\\\n",
       "\tA1Y1\\_028\\_L & A1Y1\\_028\\_L & 2017 & Leaf & Anthesis & 2017\\_Anthesis\\_Leaf\\_11\\_B\\_3 & 1103P     & RDI  & 11\\\\\n",
       "\tA1Y1\\_029\\_L & A1Y1\\_029\\_L & 2017 & Leaf & Anthesis & 2017\\_Anthesis\\_Leaf\\_11\\_C\\_2 & Ungrafted & RDI  & 11\\\\\n",
       "\tA1Y1\\_030\\_L & A1Y1\\_030\\_L & 2017 & Leaf & Anthesis & 2017\\_Anthesis\\_Leaf\\_11\\_C\\_3 & Ungrafted & RDI  & 11\\\\\n",
       "\t⋮ & ⋮ & ⋮ & ⋮ & ⋮ & ⋮ & ⋮ & ⋮ & ⋮\\\\\n",
       "\tA1Y3\\_539\\_R & A1Y3\\_539\\_R & 2019 & Reproductive & Veraison & 2019\\_Veraison\\_Reproductive\\_12\\_B\\_2 & Ungrafted & Full & 12\\\\\n",
       "\tA1Y3\\_540\\_R & A1Y3\\_540\\_R & 2019 & Reproductive & Veraison & 2019\\_Veraison\\_Reproductive\\_12\\_B\\_3 & Ungrafted & Full & 12\\\\\n",
       "\tA1Y3\\_541\\_R & A1Y3\\_541\\_R & 2019 & Reproductive & Veraison & 2019\\_Veraison\\_Reproductive\\_12\\_C\\_2 & SO4       & Full & 12\\\\\n",
       "\tA1Y3\\_543\\_R & A1Y3\\_543\\_R & 2019 & Reproductive & Veraison & 2019\\_Veraison\\_Reproductive\\_12\\_D\\_2 & 3309C     & Full & 12\\\\\n",
       "\tA1Y3\\_544\\_R & A1Y3\\_544\\_R & 2019 & Reproductive & Veraison & 2019\\_Veraison\\_Reproductive\\_12\\_D\\_3 & 3309C     & Full & 12\\\\\n",
       "\tA1Y3\\_545\\_R & A1Y3\\_545\\_R & 2019 & Reproductive & Veraison & 2019\\_Veraison\\_Reproductive\\_13\\_A\\_2 & SO4       & None & 13\\\\\n",
       "\tA1Y3\\_546\\_R & A1Y3\\_546\\_R & 2019 & Reproductive & Veraison & 2019\\_Veraison\\_Reproductive\\_13\\_A\\_3 & SO4       & None & 13\\\\\n",
       "\tA1Y3\\_547\\_R & A1Y3\\_547\\_R & 2019 & Reproductive & Veraison & 2019\\_Veraison\\_Reproductive\\_13\\_B\\_2 & 3309C     & None & 13\\\\\n",
       "\tA1Y3\\_548\\_R & A1Y3\\_548\\_R & 2019 & Reproductive & Veraison & 2019\\_Veraison\\_Reproductive\\_13\\_B\\_3 & 3309C     & None & 13\\\\\n",
       "\tA1Y3\\_549\\_R & A1Y3\\_549\\_R & 2019 & Reproductive & Veraison & 2019\\_Veraison\\_Reproductive\\_13\\_C\\_2 & 1103P     & None & 13\\\\\n",
       "\tA1Y3\\_550\\_R & A1Y3\\_550\\_R & 2019 & Reproductive & Veraison & 2019\\_Veraison\\_Reproductive\\_13\\_C\\_3 & 1103P     & None & 13\\\\\n",
       "\tA1Y3\\_551\\_R & A1Y3\\_551\\_R & 2019 & Reproductive & Veraison & 2019\\_Veraison\\_Reproductive\\_13\\_D\\_2 & Ungrafted & None & 13\\\\\n",
       "\tA1Y3\\_552\\_R & A1Y3\\_552\\_R & 2019 & Reproductive & Veraison & 2019\\_Veraison\\_Reproductive\\_13\\_D\\_3 & Ungrafted & None & 13\\\\\n",
       "\tA1Y3\\_553\\_R & A1Y3\\_553\\_R & 2019 & Reproductive & Veraison & 2019\\_Veraison\\_Reproductive\\_14\\_A\\_2 & 3309C     & RDI  & 14\\\\\n",
       "\tA1Y3\\_557\\_R & A1Y3\\_557\\_R & 2019 & Reproductive & Veraison & 2019\\_Veraison\\_Reproductive\\_14\\_C\\_2 & Ungrafted & RDI  & 14\\\\\n",
       "\tA1Y3\\_558\\_R & A1Y3\\_558\\_R & 2019 & Reproductive & Veraison & 2019\\_Veraison\\_Reproductive\\_14\\_C\\_3 & Ungrafted & RDI  & 14\\\\\n",
       "\tA1Y3\\_559\\_R & A1Y3\\_559\\_R & 2019 & Reproductive & Veraison & 2019\\_Veraison\\_Reproductive\\_14\\_D\\_2 & 1103P     & RDI  & 14\\\\\n",
       "\tA1Y3\\_560\\_R & A1Y3\\_560\\_R & 2019 & Reproductive & Veraison & 2019\\_Veraison\\_Reproductive\\_14\\_D\\_3 & 1103P     & RDI  & 14\\\\\n",
       "\tA1Y3\\_561\\_R & A1Y3\\_561\\_R & 2019 & Reproductive & Veraison & 2019\\_Veraison\\_Reproductive\\_15\\_A\\_2 & Ungrafted & None & 15\\\\\n",
       "\tA1Y3\\_562\\_R & A1Y3\\_562\\_R & 2019 & Reproductive & Veraison & 2019\\_Veraison\\_Reproductive\\_15\\_A\\_3 & Ungrafted & None & 15\\\\\n",
       "\tA1Y3\\_563\\_R & A1Y3\\_563\\_R & 2019 & Reproductive & Veraison & 2019\\_Veraison\\_Reproductive\\_15\\_B\\_2 & 3309C     & None & 15\\\\\n",
       "\tA1Y3\\_564\\_R & A1Y3\\_564\\_R & 2019 & Reproductive & Veraison & 2019\\_Veraison\\_Reproductive\\_15\\_B\\_3 & 3309C     & None & 15\\\\\n",
       "\tA1Y3\\_565\\_R & A1Y3\\_565\\_R & 2019 & Reproductive & Veraison & 2019\\_Veraison\\_Reproductive\\_15\\_C\\_2 & 1103P     & None & 15\\\\\n",
       "\tA1Y3\\_566\\_R & A1Y3\\_566\\_R & 2019 & Reproductive & Veraison & 2019\\_Veraison\\_Reproductive\\_15\\_C\\_3 & 1103P     & None & 15\\\\\n",
       "\tA1Y3\\_568\\_R & A1Y3\\_568\\_R & 2019 & Reproductive & Veraison & 2019\\_Veraison\\_Reproductive\\_15\\_D\\_3 & SO4       & None & 15\\\\\n",
       "\tA1Y3\\_569\\_R & A1Y3\\_569\\_R & 2019 & Reproductive & Veraison & 2019\\_Veraison\\_Reproductive\\_16\\_A\\_2 & 1103P     & Full & 16\\\\\n",
       "\tA1Y3\\_570\\_R & A1Y3\\_570\\_R & 2019 & Reproductive & Veraison & 2019\\_Veraison\\_Reproductive\\_16\\_A\\_3 & 1103P     & Full & 16\\\\\n",
       "\tA1Y3\\_572\\_R & A1Y3\\_572\\_R & 2019 & Reproductive & Veraison & 2019\\_Veraison\\_Reproductive\\_16\\_B\\_3 & Ungrafted & Full & 16\\\\\n",
       "\tA1Y3\\_573\\_R & A1Y3\\_573\\_R & 2019 & Reproductive & Veraison & 2019\\_Veraison\\_Reproductive\\_16\\_C\\_2 & SO4       & Full & 16\\\\\n",
       "\tA1Y3\\_576\\_R & A1Y3\\_576\\_R & 2019 & Reproductive & Veraison & 2019\\_Veraison\\_Reproductive\\_16\\_D\\_3 & 3309C     & Full & 16\\\\\n",
       "\\end{tabular}\n"
      ],
      "text/markdown": [
       "\n",
       "A data.frame: 1213 × 8\n",
       "\n",
       "| <!--/--> | sampleName &lt;chr&gt; | Year &lt;fct&gt; | Tissue &lt;fct&gt; | Phenology &lt;fct&gt; | indexer &lt;chr&gt; | Rootstock &lt;fct&gt; | Irrigation &lt;fct&gt; | Row &lt;int&gt; |\n",
       "|---|---|---|---|---|---|---|---|---|\n",
       "| A1Y1_001_L | A1Y1_001_L | 2017 | Leaf | Anthesis | 2017_Anthesis_Leaf_8_A_2  | 1103P     | None |  8 |\n",
       "| A1Y1_002_L | A1Y1_002_L | 2017 | Leaf | Anthesis | 2017_Anthesis_Leaf_8_A_3  | 1103P     | None |  8 |\n",
       "| A1Y1_003_L | A1Y1_003_L | 2017 | Leaf | Anthesis | 2017_Anthesis_Leaf_8_B_2  | 3309C     | None |  8 |\n",
       "| A1Y1_004_L | A1Y1_004_L | 2017 | Leaf | Anthesis | 2017_Anthesis_Leaf_8_B_2  | 3309C     | None |  8 |\n",
       "| A1Y1_005_L | A1Y1_005_L | 2017 | Leaf | Anthesis | 2017_Anthesis_Leaf_8_C_2  | SO4       | None |  8 |\n",
       "| A1Y1_006_L | A1Y1_006_L | 2017 | Leaf | Anthesis | 2017_Anthesis_Leaf_8_C_3  | SO4       | None |  8 |\n",
       "| A1Y1_007_L | A1Y1_007_L | 2017 | Leaf | Anthesis | 2017_Anthesis_Leaf_8_D_2  | Ungrafted | None |  8 |\n",
       "| A1Y1_008_L | A1Y1_008_L | 2017 | Leaf | Anthesis | 2017_Anthesis_Leaf_8_D_3  | Ungrafted | None |  8 |\n",
       "| A1Y1_009_L | A1Y1_009_L | 2017 | Leaf | Anthesis | 2017_Anthesis_Leaf_9_A_2  | Ungrafted | RDI  |  9 |\n",
       "| A1Y1_010_L | A1Y1_010_L | 2017 | Leaf | Anthesis | 2017_Anthesis_Leaf_9_A_3  | Ungrafted | RDI  |  9 |\n",
       "| A1Y1_011_L | A1Y1_011_L | 2017 | Leaf | Anthesis | 2017_Anthesis_Leaf_9_B_2  | 1103P     | RDI  |  9 |\n",
       "| A1Y1_012_L | A1Y1_012_L | 2017 | Leaf | Anthesis | 2017_Anthesis_Leaf_9_B_3  | 1103P     | RDI  |  9 |\n",
       "| A1Y1_013_L | A1Y1_013_L | 2017 | Leaf | Anthesis | 2017_Anthesis_Leaf_9_C_2  | 3309C     | RDI  |  9 |\n",
       "| A1Y1_014_L | A1Y1_014_L | 2017 | Leaf | Anthesis | 2017_Anthesis_Leaf_9_C_3  | 3309C     | RDI  |  9 |\n",
       "| A1Y1_015_L | A1Y1_015_L | 2017 | Leaf | Anthesis | 2017_Anthesis_Leaf_9_D_2  | SO4       | RDI  |  9 |\n",
       "| A1Y1_016_L | A1Y1_016_L | 2017 | Leaf | Anthesis | 2017_Anthesis_Leaf_9_D_3  | SO4       | RDI  |  9 |\n",
       "| A1Y1_017_L | A1Y1_017_L | 2017 | Leaf | Anthesis | 2017_Anthesis_Leaf_10_A_2 | 3309C     | Full | 10 |\n",
       "| A1Y1_018_L | A1Y1_018_L | 2017 | Leaf | Anthesis | 2017_Anthesis_Leaf_10_A_3 | 3309C     | Full | 10 |\n",
       "| A1Y1_019_L | A1Y1_019_L | 2017 | Leaf | Anthesis | 2017_Anthesis_Leaf_10_B_2 | SO4       | Full | 10 |\n",
       "| A1Y1_020_L | A1Y1_020_L | 2017 | Leaf | Anthesis | 2017_Anthesis_Leaf_10_B_3 | SO4       | Full | 10 |\n",
       "| A1Y1_021_L | A1Y1_021_L | 2017 | Leaf | Anthesis | 2017_Anthesis_Leaf_10_C_2 | Ungrafted | Full | 10 |\n",
       "| A1Y1_022_L | A1Y1_022_L | 2017 | Leaf | Anthesis | 2017_Anthesis_Leaf_10_C_3 | Ungrafted | Full | 10 |\n",
       "| A1Y1_023_L | A1Y1_023_L | 2017 | Leaf | Anthesis | 2017_Anthesis_Leaf_10_D_2 | 1103P     | Full | 10 |\n",
       "| A1Y1_024_L | A1Y1_024_L | 2017 | Leaf | Anthesis | 2017_Anthesis_Leaf_10_D_3 | 1103P     | Full | 10 |\n",
       "| A1Y1_025_L | A1Y1_025_L | 2017 | Leaf | Anthesis | 2017_Anthesis_Leaf_11_A_2 | 3309C     | RDI  | 11 |\n",
       "| A1Y1_026_L | A1Y1_026_L | 2017 | Leaf | Anthesis | 2017_Anthesis_Leaf_11_A_3 | 3309C     | RDI  | 11 |\n",
       "| A1Y1_027_L | A1Y1_027_L | 2017 | Leaf | Anthesis | 2017_Anthesis_Leaf_11_B_2 | 1103P     | RDI  | 11 |\n",
       "| A1Y1_028_L | A1Y1_028_L | 2017 | Leaf | Anthesis | 2017_Anthesis_Leaf_11_B_3 | 1103P     | RDI  | 11 |\n",
       "| A1Y1_029_L | A1Y1_029_L | 2017 | Leaf | Anthesis | 2017_Anthesis_Leaf_11_C_2 | Ungrafted | RDI  | 11 |\n",
       "| A1Y1_030_L | A1Y1_030_L | 2017 | Leaf | Anthesis | 2017_Anthesis_Leaf_11_C_3 | Ungrafted | RDI  | 11 |\n",
       "| ⋮ | ⋮ | ⋮ | ⋮ | ⋮ | ⋮ | ⋮ | ⋮ | ⋮ |\n",
       "| A1Y3_539_R | A1Y3_539_R | 2019 | Reproductive | Veraison | 2019_Veraison_Reproductive_12_B_2 | Ungrafted | Full | 12 |\n",
       "| A1Y3_540_R | A1Y3_540_R | 2019 | Reproductive | Veraison | 2019_Veraison_Reproductive_12_B_3 | Ungrafted | Full | 12 |\n",
       "| A1Y3_541_R | A1Y3_541_R | 2019 | Reproductive | Veraison | 2019_Veraison_Reproductive_12_C_2 | SO4       | Full | 12 |\n",
       "| A1Y3_543_R | A1Y3_543_R | 2019 | Reproductive | Veraison | 2019_Veraison_Reproductive_12_D_2 | 3309C     | Full | 12 |\n",
       "| A1Y3_544_R | A1Y3_544_R | 2019 | Reproductive | Veraison | 2019_Veraison_Reproductive_12_D_3 | 3309C     | Full | 12 |\n",
       "| A1Y3_545_R | A1Y3_545_R | 2019 | Reproductive | Veraison | 2019_Veraison_Reproductive_13_A_2 | SO4       | None | 13 |\n",
       "| A1Y3_546_R | A1Y3_546_R | 2019 | Reproductive | Veraison | 2019_Veraison_Reproductive_13_A_3 | SO4       | None | 13 |\n",
       "| A1Y3_547_R | A1Y3_547_R | 2019 | Reproductive | Veraison | 2019_Veraison_Reproductive_13_B_2 | 3309C     | None | 13 |\n",
       "| A1Y3_548_R | A1Y3_548_R | 2019 | Reproductive | Veraison | 2019_Veraison_Reproductive_13_B_3 | 3309C     | None | 13 |\n",
       "| A1Y3_549_R | A1Y3_549_R | 2019 | Reproductive | Veraison | 2019_Veraison_Reproductive_13_C_2 | 1103P     | None | 13 |\n",
       "| A1Y3_550_R | A1Y3_550_R | 2019 | Reproductive | Veraison | 2019_Veraison_Reproductive_13_C_3 | 1103P     | None | 13 |\n",
       "| A1Y3_551_R | A1Y3_551_R | 2019 | Reproductive | Veraison | 2019_Veraison_Reproductive_13_D_2 | Ungrafted | None | 13 |\n",
       "| A1Y3_552_R | A1Y3_552_R | 2019 | Reproductive | Veraison | 2019_Veraison_Reproductive_13_D_3 | Ungrafted | None | 13 |\n",
       "| A1Y3_553_R | A1Y3_553_R | 2019 | Reproductive | Veraison | 2019_Veraison_Reproductive_14_A_2 | 3309C     | RDI  | 14 |\n",
       "| A1Y3_557_R | A1Y3_557_R | 2019 | Reproductive | Veraison | 2019_Veraison_Reproductive_14_C_2 | Ungrafted | RDI  | 14 |\n",
       "| A1Y3_558_R | A1Y3_558_R | 2019 | Reproductive | Veraison | 2019_Veraison_Reproductive_14_C_3 | Ungrafted | RDI  | 14 |\n",
       "| A1Y3_559_R | A1Y3_559_R | 2019 | Reproductive | Veraison | 2019_Veraison_Reproductive_14_D_2 | 1103P     | RDI  | 14 |\n",
       "| A1Y3_560_R | A1Y3_560_R | 2019 | Reproductive | Veraison | 2019_Veraison_Reproductive_14_D_3 | 1103P     | RDI  | 14 |\n",
       "| A1Y3_561_R | A1Y3_561_R | 2019 | Reproductive | Veraison | 2019_Veraison_Reproductive_15_A_2 | Ungrafted | None | 15 |\n",
       "| A1Y3_562_R | A1Y3_562_R | 2019 | Reproductive | Veraison | 2019_Veraison_Reproductive_15_A_3 | Ungrafted | None | 15 |\n",
       "| A1Y3_563_R | A1Y3_563_R | 2019 | Reproductive | Veraison | 2019_Veraison_Reproductive_15_B_2 | 3309C     | None | 15 |\n",
       "| A1Y3_564_R | A1Y3_564_R | 2019 | Reproductive | Veraison | 2019_Veraison_Reproductive_15_B_3 | 3309C     | None | 15 |\n",
       "| A1Y3_565_R | A1Y3_565_R | 2019 | Reproductive | Veraison | 2019_Veraison_Reproductive_15_C_2 | 1103P     | None | 15 |\n",
       "| A1Y3_566_R | A1Y3_566_R | 2019 | Reproductive | Veraison | 2019_Veraison_Reproductive_15_C_3 | 1103P     | None | 15 |\n",
       "| A1Y3_568_R | A1Y3_568_R | 2019 | Reproductive | Veraison | 2019_Veraison_Reproductive_15_D_3 | SO4       | None | 15 |\n",
       "| A1Y3_569_R | A1Y3_569_R | 2019 | Reproductive | Veraison | 2019_Veraison_Reproductive_16_A_2 | 1103P     | Full | 16 |\n",
       "| A1Y3_570_R | A1Y3_570_R | 2019 | Reproductive | Veraison | 2019_Veraison_Reproductive_16_A_3 | 1103P     | Full | 16 |\n",
       "| A1Y3_572_R | A1Y3_572_R | 2019 | Reproductive | Veraison | 2019_Veraison_Reproductive_16_B_3 | Ungrafted | Full | 16 |\n",
       "| A1Y3_573_R | A1Y3_573_R | 2019 | Reproductive | Veraison | 2019_Veraison_Reproductive_16_C_2 | SO4       | Full | 16 |\n",
       "| A1Y3_576_R | A1Y3_576_R | 2019 | Reproductive | Veraison | 2019_Veraison_Reproductive_16_D_3 | 3309C     | Full | 16 |\n",
       "\n"
      ],
      "text/plain": [
       "           sampleName Year Tissue       Phenology\n",
       "A1Y1_001_L A1Y1_001_L 2017 Leaf         Anthesis \n",
       "A1Y1_002_L A1Y1_002_L 2017 Leaf         Anthesis \n",
       "A1Y1_003_L A1Y1_003_L 2017 Leaf         Anthesis \n",
       "A1Y1_004_L A1Y1_004_L 2017 Leaf         Anthesis \n",
       "A1Y1_005_L A1Y1_005_L 2017 Leaf         Anthesis \n",
       "A1Y1_006_L A1Y1_006_L 2017 Leaf         Anthesis \n",
       "A1Y1_007_L A1Y1_007_L 2017 Leaf         Anthesis \n",
       "A1Y1_008_L A1Y1_008_L 2017 Leaf         Anthesis \n",
       "A1Y1_009_L A1Y1_009_L 2017 Leaf         Anthesis \n",
       "A1Y1_010_L A1Y1_010_L 2017 Leaf         Anthesis \n",
       "A1Y1_011_L A1Y1_011_L 2017 Leaf         Anthesis \n",
       "A1Y1_012_L A1Y1_012_L 2017 Leaf         Anthesis \n",
       "A1Y1_013_L A1Y1_013_L 2017 Leaf         Anthesis \n",
       "A1Y1_014_L A1Y1_014_L 2017 Leaf         Anthesis \n",
       "A1Y1_015_L A1Y1_015_L 2017 Leaf         Anthesis \n",
       "A1Y1_016_L A1Y1_016_L 2017 Leaf         Anthesis \n",
       "A1Y1_017_L A1Y1_017_L 2017 Leaf         Anthesis \n",
       "A1Y1_018_L A1Y1_018_L 2017 Leaf         Anthesis \n",
       "A1Y1_019_L A1Y1_019_L 2017 Leaf         Anthesis \n",
       "A1Y1_020_L A1Y1_020_L 2017 Leaf         Anthesis \n",
       "A1Y1_021_L A1Y1_021_L 2017 Leaf         Anthesis \n",
       "A1Y1_022_L A1Y1_022_L 2017 Leaf         Anthesis \n",
       "A1Y1_023_L A1Y1_023_L 2017 Leaf         Anthesis \n",
       "A1Y1_024_L A1Y1_024_L 2017 Leaf         Anthesis \n",
       "A1Y1_025_L A1Y1_025_L 2017 Leaf         Anthesis \n",
       "A1Y1_026_L A1Y1_026_L 2017 Leaf         Anthesis \n",
       "A1Y1_027_L A1Y1_027_L 2017 Leaf         Anthesis \n",
       "A1Y1_028_L A1Y1_028_L 2017 Leaf         Anthesis \n",
       "A1Y1_029_L A1Y1_029_L 2017 Leaf         Anthesis \n",
       "A1Y1_030_L A1Y1_030_L 2017 Leaf         Anthesis \n",
       "⋮          ⋮          ⋮    ⋮            ⋮        \n",
       "A1Y3_539_R A1Y3_539_R 2019 Reproductive Veraison \n",
       "A1Y3_540_R A1Y3_540_R 2019 Reproductive Veraison \n",
       "A1Y3_541_R A1Y3_541_R 2019 Reproductive Veraison \n",
       "A1Y3_543_R A1Y3_543_R 2019 Reproductive Veraison \n",
       "A1Y3_544_R A1Y3_544_R 2019 Reproductive Veraison \n",
       "A1Y3_545_R A1Y3_545_R 2019 Reproductive Veraison \n",
       "A1Y3_546_R A1Y3_546_R 2019 Reproductive Veraison \n",
       "A1Y3_547_R A1Y3_547_R 2019 Reproductive Veraison \n",
       "A1Y3_548_R A1Y3_548_R 2019 Reproductive Veraison \n",
       "A1Y3_549_R A1Y3_549_R 2019 Reproductive Veraison \n",
       "A1Y3_550_R A1Y3_550_R 2019 Reproductive Veraison \n",
       "A1Y3_551_R A1Y3_551_R 2019 Reproductive Veraison \n",
       "A1Y3_552_R A1Y3_552_R 2019 Reproductive Veraison \n",
       "A1Y3_553_R A1Y3_553_R 2019 Reproductive Veraison \n",
       "A1Y3_557_R A1Y3_557_R 2019 Reproductive Veraison \n",
       "A1Y3_558_R A1Y3_558_R 2019 Reproductive Veraison \n",
       "A1Y3_559_R A1Y3_559_R 2019 Reproductive Veraison \n",
       "A1Y3_560_R A1Y3_560_R 2019 Reproductive Veraison \n",
       "A1Y3_561_R A1Y3_561_R 2019 Reproductive Veraison \n",
       "A1Y3_562_R A1Y3_562_R 2019 Reproductive Veraison \n",
       "A1Y3_563_R A1Y3_563_R 2019 Reproductive Veraison \n",
       "A1Y3_564_R A1Y3_564_R 2019 Reproductive Veraison \n",
       "A1Y3_565_R A1Y3_565_R 2019 Reproductive Veraison \n",
       "A1Y3_566_R A1Y3_566_R 2019 Reproductive Veraison \n",
       "A1Y3_568_R A1Y3_568_R 2019 Reproductive Veraison \n",
       "A1Y3_569_R A1Y3_569_R 2019 Reproductive Veraison \n",
       "A1Y3_570_R A1Y3_570_R 2019 Reproductive Veraison \n",
       "A1Y3_572_R A1Y3_572_R 2019 Reproductive Veraison \n",
       "A1Y3_573_R A1Y3_573_R 2019 Reproductive Veraison \n",
       "A1Y3_576_R A1Y3_576_R 2019 Reproductive Veraison \n",
       "           indexer                           Rootstock Irrigation Row\n",
       "A1Y1_001_L 2017_Anthesis_Leaf_8_A_2          1103P     None        8 \n",
       "A1Y1_002_L 2017_Anthesis_Leaf_8_A_3          1103P     None        8 \n",
       "A1Y1_003_L 2017_Anthesis_Leaf_8_B_2          3309C     None        8 \n",
       "A1Y1_004_L 2017_Anthesis_Leaf_8_B_2          3309C     None        8 \n",
       "A1Y1_005_L 2017_Anthesis_Leaf_8_C_2          SO4       None        8 \n",
       "A1Y1_006_L 2017_Anthesis_Leaf_8_C_3          SO4       None        8 \n",
       "A1Y1_007_L 2017_Anthesis_Leaf_8_D_2          Ungrafted None        8 \n",
       "A1Y1_008_L 2017_Anthesis_Leaf_8_D_3          Ungrafted None        8 \n",
       "A1Y1_009_L 2017_Anthesis_Leaf_9_A_2          Ungrafted RDI         9 \n",
       "A1Y1_010_L 2017_Anthesis_Leaf_9_A_3          Ungrafted RDI         9 \n",
       "A1Y1_011_L 2017_Anthesis_Leaf_9_B_2          1103P     RDI         9 \n",
       "A1Y1_012_L 2017_Anthesis_Leaf_9_B_3          1103P     RDI         9 \n",
       "A1Y1_013_L 2017_Anthesis_Leaf_9_C_2          3309C     RDI         9 \n",
       "A1Y1_014_L 2017_Anthesis_Leaf_9_C_3          3309C     RDI         9 \n",
       "A1Y1_015_L 2017_Anthesis_Leaf_9_D_2          SO4       RDI         9 \n",
       "A1Y1_016_L 2017_Anthesis_Leaf_9_D_3          SO4       RDI         9 \n",
       "A1Y1_017_L 2017_Anthesis_Leaf_10_A_2         3309C     Full       10 \n",
       "A1Y1_018_L 2017_Anthesis_Leaf_10_A_3         3309C     Full       10 \n",
       "A1Y1_019_L 2017_Anthesis_Leaf_10_B_2         SO4       Full       10 \n",
       "A1Y1_020_L 2017_Anthesis_Leaf_10_B_3         SO4       Full       10 \n",
       "A1Y1_021_L 2017_Anthesis_Leaf_10_C_2         Ungrafted Full       10 \n",
       "A1Y1_022_L 2017_Anthesis_Leaf_10_C_3         Ungrafted Full       10 \n",
       "A1Y1_023_L 2017_Anthesis_Leaf_10_D_2         1103P     Full       10 \n",
       "A1Y1_024_L 2017_Anthesis_Leaf_10_D_3         1103P     Full       10 \n",
       "A1Y1_025_L 2017_Anthesis_Leaf_11_A_2         3309C     RDI        11 \n",
       "A1Y1_026_L 2017_Anthesis_Leaf_11_A_3         3309C     RDI        11 \n",
       "A1Y1_027_L 2017_Anthesis_Leaf_11_B_2         1103P     RDI        11 \n",
       "A1Y1_028_L 2017_Anthesis_Leaf_11_B_3         1103P     RDI        11 \n",
       "A1Y1_029_L 2017_Anthesis_Leaf_11_C_2         Ungrafted RDI        11 \n",
       "A1Y1_030_L 2017_Anthesis_Leaf_11_C_3         Ungrafted RDI        11 \n",
       "⋮          ⋮                                 ⋮         ⋮          ⋮  \n",
       "A1Y3_539_R 2019_Veraison_Reproductive_12_B_2 Ungrafted Full       12 \n",
       "A1Y3_540_R 2019_Veraison_Reproductive_12_B_3 Ungrafted Full       12 \n",
       "A1Y3_541_R 2019_Veraison_Reproductive_12_C_2 SO4       Full       12 \n",
       "A1Y3_543_R 2019_Veraison_Reproductive_12_D_2 3309C     Full       12 \n",
       "A1Y3_544_R 2019_Veraison_Reproductive_12_D_3 3309C     Full       12 \n",
       "A1Y3_545_R 2019_Veraison_Reproductive_13_A_2 SO4       None       13 \n",
       "A1Y3_546_R 2019_Veraison_Reproductive_13_A_3 SO4       None       13 \n",
       "A1Y3_547_R 2019_Veraison_Reproductive_13_B_2 3309C     None       13 \n",
       "A1Y3_548_R 2019_Veraison_Reproductive_13_B_3 3309C     None       13 \n",
       "A1Y3_549_R 2019_Veraison_Reproductive_13_C_2 1103P     None       13 \n",
       "A1Y3_550_R 2019_Veraison_Reproductive_13_C_3 1103P     None       13 \n",
       "A1Y3_551_R 2019_Veraison_Reproductive_13_D_2 Ungrafted None       13 \n",
       "A1Y3_552_R 2019_Veraison_Reproductive_13_D_3 Ungrafted None       13 \n",
       "A1Y3_553_R 2019_Veraison_Reproductive_14_A_2 3309C     RDI        14 \n",
       "A1Y3_557_R 2019_Veraison_Reproductive_14_C_2 Ungrafted RDI        14 \n",
       "A1Y3_558_R 2019_Veraison_Reproductive_14_C_3 Ungrafted RDI        14 \n",
       "A1Y3_559_R 2019_Veraison_Reproductive_14_D_2 1103P     RDI        14 \n",
       "A1Y3_560_R 2019_Veraison_Reproductive_14_D_3 1103P     RDI        14 \n",
       "A1Y3_561_R 2019_Veraison_Reproductive_15_A_2 Ungrafted None       15 \n",
       "A1Y3_562_R 2019_Veraison_Reproductive_15_A_3 Ungrafted None       15 \n",
       "A1Y3_563_R 2019_Veraison_Reproductive_15_B_2 3309C     None       15 \n",
       "A1Y3_564_R 2019_Veraison_Reproductive_15_B_3 3309C     None       15 \n",
       "A1Y3_565_R 2019_Veraison_Reproductive_15_C_2 1103P     None       15 \n",
       "A1Y3_566_R 2019_Veraison_Reproductive_15_C_3 1103P     None       15 \n",
       "A1Y3_568_R 2019_Veraison_Reproductive_15_D_3 SO4       None       15 \n",
       "A1Y3_569_R 2019_Veraison_Reproductive_16_A_2 1103P     Full       16 \n",
       "A1Y3_570_R 2019_Veraison_Reproductive_16_A_3 1103P     Full       16 \n",
       "A1Y3_572_R 2019_Veraison_Reproductive_16_B_3 Ungrafted Full       16 \n",
       "A1Y3_573_R 2019_Veraison_Reproductive_16_C_2 SO4       Full       16 \n",
       "A1Y3_576_R 2019_Veraison_Reproductive_16_D_3 3309C     Full       16 "
      ]
     },
     "metadata": {},
     "output_type": "display_data"
    }
   ],
   "source": [
    "#### Prepare Metadata required data ####\n",
    "\n",
    "treatments <- read.csv('./1719_geneExpression_metadata.csv')\n",
    "treatments$Year <- factor(treatments$COLLECTED_DATE, \n",
    "                          levels=c('5/22/17', '7/30/17', '9/25/17', '5/30/18', '1/8/18', '9/18/18', '5/23/19', '9/5/19', '9/17/19'), \n",
    "                          labels=c('2017','2017','2017', '2018','2018','2018', '2019','2019','2019'))\n",
    "treatments$Tissue <- factor(treatments$TISSUE, \n",
    "                            levels=c('FLOWER', 'GREEN_BERRY', 'LEAF', 'RIPE_BERRY'),\n",
    "                            labels=c('Reproductive', 'Reproductive', 'Leaf', 'Reproductive'))\n",
    "treatments$Phenology <- factor(treatments$COLLECTED_DATE, \n",
    "                               levels=c('5/22/17', '7/30/17', '9/25/17', '5/30/18', '1/8/18', '9/18/18', '5/23/19', '9/5/19', '9/17/19'), \n",
    "                               labels=c('Anthesis','Veraison','Harvest', 'Anthesis','Veraison','Harvest', 'Anthesis','Veraison','Harvest'))\n",
    "treatments$indexer <- paste(treatments$Year, treatments$Phenology, treatments$Tissue, treatments$ROW, treatments$BLOCK, treatments$VINE, sep='_')\n",
    "treatments$Rootstock <- factor(treatments$ROOTSTOCK, levels=c('OWN', '1103PAULSEN', '1103P', '3309C', 'SO4'), labels=c('Ungrafted', '1103P', '1103P', '3309C', 'SO4'))\n",
    "treatments$Irrigation <- factor(treatments$TREATMENT, levels=c('NONE', 'RDI', 'FULL'), labels=c('None', 'RDI', 'Full'))\n",
    "treatments$Row <- treatments$ROW\n",
    "\n",
    "#Try to make the sample name in this file look like mine without python...\n",
    "# warning suggest NAs introduced, but  don't see any...\n",
    "treatments <- transform(treatments, sample_name=reshape::colsplit(SEQUENCE_NAME, split = \"_\", names = c('Y', 'N', 'T')))\n",
    "treatments$sample_name.N <- as.numeric(as.character(treatments$sample_name.N))\n",
    "treatments$sampleName <- paste(treatments$sample_name.Y, formatC(treatments$sample_name.N, width=3, flag=\"0\"), treatments$sample_name.T, sep=\"_\")\n",
    "\n",
    "treatments <- treatments %>% dplyr::select(sampleName, Year:Row)\n",
    "colnames(treatments) <- c('sampleName', 'Year', 'Tissue', 'Phenology', 'indexer', 'Rootstock', 'Irrigation', 'Row')\n",
    "rownames(treatments) <- treatments$sampleName\n",
    "\n",
    "treatments\n"
   ]
  },
  {
   "cell_type": "code",
   "execution_count": 135,
   "metadata": {},
   "outputs": [
    {
     "data": {
      "text/html": [
       "<ol class=list-inline>\n",
       "\t<li>'A1Y1_019_L'</li>\n",
       "\t<li>'A1Y1_091_L'</li>\n",
       "\t<li>'A1Y1_163_L'</li>\n",
       "\t<li>'A1Y1_019_R'</li>\n",
       "\t<li>'A1Y1_091_R'</li>\n",
       "\t<li>'A1Y1_163_R'</li>\n",
       "\t<li>'A1Y2_235_L'</li>\n",
       "\t<li>'A1Y2_307_L'</li>\n",
       "\t<li>'A1Y2_235_R'</li>\n",
       "\t<li>'#N/A_ NA_#N/A'</li>\n",
       "\t<li>'A1Y2_379_L'</li>\n",
       "\t<li>'A1Y3_451_L'</li>\n",
       "\t<li>'A1Y3_451_R'</li>\n",
       "\t<li>'A1Y3_595_L'</li>\n",
       "</ol>\n"
      ],
      "text/latex": [
       "\\begin{enumerate*}\n",
       "\\item 'A1Y1\\_019\\_L'\n",
       "\\item 'A1Y1\\_091\\_L'\n",
       "\\item 'A1Y1\\_163\\_L'\n",
       "\\item 'A1Y1\\_019\\_R'\n",
       "\\item 'A1Y1\\_091\\_R'\n",
       "\\item 'A1Y1\\_163\\_R'\n",
       "\\item 'A1Y2\\_235\\_L'\n",
       "\\item 'A1Y2\\_307\\_L'\n",
       "\\item 'A1Y2\\_235\\_R'\n",
       "\\item '\\#N/A\\_ NA\\_\\#N/A'\n",
       "\\item 'A1Y2\\_379\\_L'\n",
       "\\item 'A1Y3\\_451\\_L'\n",
       "\\item 'A1Y3\\_451\\_R'\n",
       "\\item 'A1Y3\\_595\\_L'\n",
       "\\end{enumerate*}\n"
      ],
      "text/markdown": [
       "1. 'A1Y1_019_L'\n",
       "2. 'A1Y1_091_L'\n",
       "3. 'A1Y1_163_L'\n",
       "4. 'A1Y1_019_R'\n",
       "5. 'A1Y1_091_R'\n",
       "6. 'A1Y1_163_R'\n",
       "7. 'A1Y2_235_L'\n",
       "8. 'A1Y2_307_L'\n",
       "9. 'A1Y2_235_R'\n",
       "10. '#N/A_ NA_#N/A'\n",
       "11. 'A1Y2_379_L'\n",
       "12. 'A1Y3_451_L'\n",
       "13. 'A1Y3_451_R'\n",
       "14. 'A1Y3_595_L'\n",
       "\n",
       "\n"
      ],
      "text/plain": [
       " [1] \"A1Y1_019_L\"    \"A1Y1_091_L\"    \"A1Y1_163_L\"    \"A1Y1_019_R\"   \n",
       " [5] \"A1Y1_091_R\"    \"A1Y1_163_R\"    \"A1Y2_235_L\"    \"A1Y2_307_L\"   \n",
       " [9] \"A1Y2_235_R\"    \"#N/A_ NA_#N/A\" \"A1Y2_379_L\"    \"A1Y3_451_L\"   \n",
       "[13] \"A1Y3_451_R\"    \"A1Y3_595_L\"   "
      ]
     },
     "metadata": {},
     "output_type": "display_data"
    }
   ],
   "source": [
    "treatments$sampleName[grepl(\"10_B_2\", treatments$indexer)]"
   ]
  },
  {
   "cell_type": "markdown",
   "metadata": {},
   "source": [
    "### Remove SO4 Overgrowth + Low Sequence Samples"
   ]
  },
  {
   "cell_type": "code",
   "execution_count": 137,
   "metadata": {},
   "outputs": [
    {
     "data": {
      "text/html": [
       "<table>\n",
       "<caption>A data.frame: 1179 × 9</caption>\n",
       "<thead>\n",
       "\t<tr><th></th><th scope=col>sampleName</th><th scope=col>Year</th><th scope=col>Tissue</th><th scope=col>Phenology</th><th scope=col>indexer</th><th scope=col>Rootstock</th><th scope=col>Irrigation</th><th scope=col>Row</th><th scope=col>Block</th></tr>\n",
       "\t<tr><th></th><th scope=col>&lt;chr&gt;</th><th scope=col>&lt;fct&gt;</th><th scope=col>&lt;fct&gt;</th><th scope=col>&lt;fct&gt;</th><th scope=col>&lt;chr&gt;</th><th scope=col>&lt;fct&gt;</th><th scope=col>&lt;fct&gt;</th><th scope=col>&lt;fct&gt;</th><th scope=col>&lt;fct&gt;</th></tr>\n",
       "</thead>\n",
       "<tbody>\n",
       "\t<tr><th scope=row>A1Y1_001_L</th><td>A1Y1_001_L</td><td>2017</td><td>Leaf</td><td>Anthesis</td><td>2017_Anthesis_Leaf_8_A_2 </td><td>1103P    </td><td>None</td><td>8 </td><td>A</td></tr>\n",
       "\t<tr><th scope=row>A1Y1_002_L</th><td>A1Y1_002_L</td><td>2017</td><td>Leaf</td><td>Anthesis</td><td>2017_Anthesis_Leaf_8_A_3 </td><td>1103P    </td><td>None</td><td>8 </td><td>A</td></tr>\n",
       "\t<tr><th scope=row>A1Y1_003_L</th><td>A1Y1_003_L</td><td>2017</td><td>Leaf</td><td>Anthesis</td><td>2017_Anthesis_Leaf_8_B_2 </td><td>3309C    </td><td>None</td><td>8 </td><td>A</td></tr>\n",
       "\t<tr><th scope=row>A1Y1_004_L</th><td>A1Y1_004_L</td><td>2017</td><td>Leaf</td><td>Anthesis</td><td>2017_Anthesis_Leaf_8_B_2 </td><td>3309C    </td><td>None</td><td>8 </td><td>A</td></tr>\n",
       "\t<tr><th scope=row>A1Y1_005_L</th><td>A1Y1_005_L</td><td>2017</td><td>Leaf</td><td>Anthesis</td><td>2017_Anthesis_Leaf_8_C_2 </td><td>SO4      </td><td>None</td><td>8 </td><td>A</td></tr>\n",
       "\t<tr><th scope=row>A1Y1_006_L</th><td>A1Y1_006_L</td><td>2017</td><td>Leaf</td><td>Anthesis</td><td>2017_Anthesis_Leaf_8_C_3 </td><td>SO4      </td><td>None</td><td>8 </td><td>A</td></tr>\n",
       "\t<tr><th scope=row>A1Y1_007_L</th><td>A1Y1_007_L</td><td>2017</td><td>Leaf</td><td>Anthesis</td><td>2017_Anthesis_Leaf_8_D_2 </td><td>Ungrafted</td><td>None</td><td>8 </td><td>A</td></tr>\n",
       "\t<tr><th scope=row>A1Y1_008_L</th><td>A1Y1_008_L</td><td>2017</td><td>Leaf</td><td>Anthesis</td><td>2017_Anthesis_Leaf_8_D_3 </td><td>Ungrafted</td><td>None</td><td>8 </td><td>A</td></tr>\n",
       "\t<tr><th scope=row>A1Y1_009_L</th><td>A1Y1_009_L</td><td>2017</td><td>Leaf</td><td>Anthesis</td><td>2017_Anthesis_Leaf_9_A_2 </td><td>Ungrafted</td><td>RDI </td><td>9 </td><td>A</td></tr>\n",
       "\t<tr><th scope=row>A1Y1_010_L</th><td>A1Y1_010_L</td><td>2017</td><td>Leaf</td><td>Anthesis</td><td>2017_Anthesis_Leaf_9_A_3 </td><td>Ungrafted</td><td>RDI </td><td>9 </td><td>A</td></tr>\n",
       "\t<tr><th scope=row>A1Y1_011_L</th><td>A1Y1_011_L</td><td>2017</td><td>Leaf</td><td>Anthesis</td><td>2017_Anthesis_Leaf_9_B_2 </td><td>1103P    </td><td>RDI </td><td>9 </td><td>A</td></tr>\n",
       "\t<tr><th scope=row>A1Y1_012_L</th><td>A1Y1_012_L</td><td>2017</td><td>Leaf</td><td>Anthesis</td><td>2017_Anthesis_Leaf_9_B_3 </td><td>1103P    </td><td>RDI </td><td>9 </td><td>A</td></tr>\n",
       "\t<tr><th scope=row>A1Y1_013_L</th><td>A1Y1_013_L</td><td>2017</td><td>Leaf</td><td>Anthesis</td><td>2017_Anthesis_Leaf_9_C_2 </td><td>3309C    </td><td>RDI </td><td>9 </td><td>A</td></tr>\n",
       "\t<tr><th scope=row>A1Y1_014_L</th><td>A1Y1_014_L</td><td>2017</td><td>Leaf</td><td>Anthesis</td><td>2017_Anthesis_Leaf_9_C_3 </td><td>3309C    </td><td>RDI </td><td>9 </td><td>A</td></tr>\n",
       "\t<tr><th scope=row>A1Y1_015_L</th><td>A1Y1_015_L</td><td>2017</td><td>Leaf</td><td>Anthesis</td><td>2017_Anthesis_Leaf_9_D_2 </td><td>SO4      </td><td>RDI </td><td>9 </td><td>A</td></tr>\n",
       "\t<tr><th scope=row>A1Y1_016_L</th><td>A1Y1_016_L</td><td>2017</td><td>Leaf</td><td>Anthesis</td><td>2017_Anthesis_Leaf_9_D_3 </td><td>SO4      </td><td>RDI </td><td>9 </td><td>A</td></tr>\n",
       "\t<tr><th scope=row>A1Y1_017_L</th><td>A1Y1_017_L</td><td>2017</td><td>Leaf</td><td>Anthesis</td><td>2017_Anthesis_Leaf_10_A_2</td><td>3309C    </td><td>Full</td><td>10</td><td>A</td></tr>\n",
       "\t<tr><th scope=row>A1Y1_018_L</th><td>A1Y1_018_L</td><td>2017</td><td>Leaf</td><td>Anthesis</td><td>2017_Anthesis_Leaf_10_A_3</td><td>3309C    </td><td>Full</td><td>10</td><td>A</td></tr>\n",
       "\t<tr><th scope=row>A1Y1_020_L</th><td>A1Y1_020_L</td><td>2017</td><td>Leaf</td><td>Anthesis</td><td>2017_Anthesis_Leaf_10_B_3</td><td>SO4      </td><td>Full</td><td>10</td><td>A</td></tr>\n",
       "\t<tr><th scope=row>A1Y1_021_L</th><td>A1Y1_021_L</td><td>2017</td><td>Leaf</td><td>Anthesis</td><td>2017_Anthesis_Leaf_10_C_2</td><td>Ungrafted</td><td>Full</td><td>10</td><td>A</td></tr>\n",
       "\t<tr><th scope=row>A1Y1_022_L</th><td>A1Y1_022_L</td><td>2017</td><td>Leaf</td><td>Anthesis</td><td>2017_Anthesis_Leaf_10_C_3</td><td>Ungrafted</td><td>Full</td><td>10</td><td>A</td></tr>\n",
       "\t<tr><th scope=row>A1Y1_023_L</th><td>A1Y1_023_L</td><td>2017</td><td>Leaf</td><td>Anthesis</td><td>2017_Anthesis_Leaf_10_D_2</td><td>1103P    </td><td>Full</td><td>10</td><td>A</td></tr>\n",
       "\t<tr><th scope=row>A1Y1_024_L</th><td>A1Y1_024_L</td><td>2017</td><td>Leaf</td><td>Anthesis</td><td>2017_Anthesis_Leaf_10_D_3</td><td>1103P    </td><td>Full</td><td>10</td><td>A</td></tr>\n",
       "\t<tr><th scope=row>A1Y1_025_L</th><td>A1Y1_025_L</td><td>2017</td><td>Leaf</td><td>Anthesis</td><td>2017_Anthesis_Leaf_11_A_2</td><td>3309C    </td><td>RDI </td><td>11</td><td>B</td></tr>\n",
       "\t<tr><th scope=row>A1Y1_026_L</th><td>A1Y1_026_L</td><td>2017</td><td>Leaf</td><td>Anthesis</td><td>2017_Anthesis_Leaf_11_A_3</td><td>3309C    </td><td>RDI </td><td>11</td><td>B</td></tr>\n",
       "\t<tr><th scope=row>A1Y1_027_L</th><td>A1Y1_027_L</td><td>2017</td><td>Leaf</td><td>Anthesis</td><td>2017_Anthesis_Leaf_11_B_2</td><td>1103P    </td><td>RDI </td><td>11</td><td>B</td></tr>\n",
       "\t<tr><th scope=row>A1Y1_028_L</th><td>A1Y1_028_L</td><td>2017</td><td>Leaf</td><td>Anthesis</td><td>2017_Anthesis_Leaf_11_B_3</td><td>1103P    </td><td>RDI </td><td>11</td><td>B</td></tr>\n",
       "\t<tr><th scope=row>A1Y1_029_L</th><td>A1Y1_029_L</td><td>2017</td><td>Leaf</td><td>Anthesis</td><td>2017_Anthesis_Leaf_11_C_2</td><td>Ungrafted</td><td>RDI </td><td>11</td><td>B</td></tr>\n",
       "\t<tr><th scope=row>A1Y1_031_L</th><td>A1Y1_031_L</td><td>2017</td><td>Leaf</td><td>Anthesis</td><td>2017_Anthesis_Leaf_11_D_2</td><td>SO4      </td><td>RDI </td><td>11</td><td>B</td></tr>\n",
       "\t<tr><th scope=row>A1Y1_032_L</th><td>A1Y1_032_L</td><td>2017</td><td>Leaf</td><td>Anthesis</td><td>2017_Anthesis_Leaf_11_D_3</td><td>SO4      </td><td>RDI </td><td>11</td><td>B</td></tr>\n",
       "\t<tr><th scope=row>⋮</th><td>⋮</td><td>⋮</td><td>⋮</td><td>⋮</td><td>⋮</td><td>⋮</td><td>⋮</td><td>⋮</td><td>⋮</td></tr>\n",
       "\t<tr><th scope=row>A1Y3_539_R</th><td>A1Y3_539_R</td><td>2019</td><td>Reproductive</td><td>Veraison</td><td>2019_Veraison_Reproductive_12_B_2</td><td>Ungrafted</td><td>Full</td><td>12</td><td>B</td></tr>\n",
       "\t<tr><th scope=row>A1Y3_540_R</th><td>A1Y3_540_R</td><td>2019</td><td>Reproductive</td><td>Veraison</td><td>2019_Veraison_Reproductive_12_B_3</td><td>Ungrafted</td><td>Full</td><td>12</td><td>B</td></tr>\n",
       "\t<tr><th scope=row>A1Y3_541_R</th><td>A1Y3_541_R</td><td>2019</td><td>Reproductive</td><td>Veraison</td><td>2019_Veraison_Reproductive_12_C_2</td><td>SO4      </td><td>Full</td><td>12</td><td>B</td></tr>\n",
       "\t<tr><th scope=row>A1Y3_543_R</th><td>A1Y3_543_R</td><td>2019</td><td>Reproductive</td><td>Veraison</td><td>2019_Veraison_Reproductive_12_D_2</td><td>3309C    </td><td>Full</td><td>12</td><td>B</td></tr>\n",
       "\t<tr><th scope=row>A1Y3_544_R</th><td>A1Y3_544_R</td><td>2019</td><td>Reproductive</td><td>Veraison</td><td>2019_Veraison_Reproductive_12_D_3</td><td>3309C    </td><td>Full</td><td>12</td><td>B</td></tr>\n",
       "\t<tr><th scope=row>A1Y3_545_R</th><td>A1Y3_545_R</td><td>2019</td><td>Reproductive</td><td>Veraison</td><td>2019_Veraison_Reproductive_13_A_2</td><td>SO4      </td><td>None</td><td>13</td><td>B</td></tr>\n",
       "\t<tr><th scope=row>A1Y3_546_R</th><td>A1Y3_546_R</td><td>2019</td><td>Reproductive</td><td>Veraison</td><td>2019_Veraison_Reproductive_13_A_3</td><td>SO4      </td><td>None</td><td>13</td><td>B</td></tr>\n",
       "\t<tr><th scope=row>A1Y3_547_R</th><td>A1Y3_547_R</td><td>2019</td><td>Reproductive</td><td>Veraison</td><td>2019_Veraison_Reproductive_13_B_2</td><td>3309C    </td><td>None</td><td>13</td><td>B</td></tr>\n",
       "\t<tr><th scope=row>A1Y3_548_R</th><td>A1Y3_548_R</td><td>2019</td><td>Reproductive</td><td>Veraison</td><td>2019_Veraison_Reproductive_13_B_3</td><td>3309C    </td><td>None</td><td>13</td><td>B</td></tr>\n",
       "\t<tr><th scope=row>A1Y3_549_R</th><td>A1Y3_549_R</td><td>2019</td><td>Reproductive</td><td>Veraison</td><td>2019_Veraison_Reproductive_13_C_2</td><td>1103P    </td><td>None</td><td>13</td><td>B</td></tr>\n",
       "\t<tr><th scope=row>A1Y3_550_R</th><td>A1Y3_550_R</td><td>2019</td><td>Reproductive</td><td>Veraison</td><td>2019_Veraison_Reproductive_13_C_3</td><td>1103P    </td><td>None</td><td>13</td><td>B</td></tr>\n",
       "\t<tr><th scope=row>A1Y3_551_R</th><td>A1Y3_551_R</td><td>2019</td><td>Reproductive</td><td>Veraison</td><td>2019_Veraison_Reproductive_13_D_2</td><td>Ungrafted</td><td>None</td><td>13</td><td>B</td></tr>\n",
       "\t<tr><th scope=row>A1Y3_552_R</th><td>A1Y3_552_R</td><td>2019</td><td>Reproductive</td><td>Veraison</td><td>2019_Veraison_Reproductive_13_D_3</td><td>Ungrafted</td><td>None</td><td>13</td><td>B</td></tr>\n",
       "\t<tr><th scope=row>A1Y3_553_R</th><td>A1Y3_553_R</td><td>2019</td><td>Reproductive</td><td>Veraison</td><td>2019_Veraison_Reproductive_14_A_2</td><td>3309C    </td><td>RDI </td><td>14</td><td>C</td></tr>\n",
       "\t<tr><th scope=row>A1Y3_557_R</th><td>A1Y3_557_R</td><td>2019</td><td>Reproductive</td><td>Veraison</td><td>2019_Veraison_Reproductive_14_C_2</td><td>Ungrafted</td><td>RDI </td><td>14</td><td>C</td></tr>\n",
       "\t<tr><th scope=row>A1Y3_558_R</th><td>A1Y3_558_R</td><td>2019</td><td>Reproductive</td><td>Veraison</td><td>2019_Veraison_Reproductive_14_C_3</td><td>Ungrafted</td><td>RDI </td><td>14</td><td>C</td></tr>\n",
       "\t<tr><th scope=row>A1Y3_559_R</th><td>A1Y3_559_R</td><td>2019</td><td>Reproductive</td><td>Veraison</td><td>2019_Veraison_Reproductive_14_D_2</td><td>1103P    </td><td>RDI </td><td>14</td><td>C</td></tr>\n",
       "\t<tr><th scope=row>A1Y3_560_R</th><td>A1Y3_560_R</td><td>2019</td><td>Reproductive</td><td>Veraison</td><td>2019_Veraison_Reproductive_14_D_3</td><td>1103P    </td><td>RDI </td><td>14</td><td>C</td></tr>\n",
       "\t<tr><th scope=row>A1Y3_561_R</th><td>A1Y3_561_R</td><td>2019</td><td>Reproductive</td><td>Veraison</td><td>2019_Veraison_Reproductive_15_A_2</td><td>Ungrafted</td><td>None</td><td>15</td><td>C</td></tr>\n",
       "\t<tr><th scope=row>A1Y3_562_R</th><td>A1Y3_562_R</td><td>2019</td><td>Reproductive</td><td>Veraison</td><td>2019_Veraison_Reproductive_15_A_3</td><td>Ungrafted</td><td>None</td><td>15</td><td>C</td></tr>\n",
       "\t<tr><th scope=row>A1Y3_563_R</th><td>A1Y3_563_R</td><td>2019</td><td>Reproductive</td><td>Veraison</td><td>2019_Veraison_Reproductive_15_B_2</td><td>3309C    </td><td>None</td><td>15</td><td>C</td></tr>\n",
       "\t<tr><th scope=row>A1Y3_564_R</th><td>A1Y3_564_R</td><td>2019</td><td>Reproductive</td><td>Veraison</td><td>2019_Veraison_Reproductive_15_B_3</td><td>3309C    </td><td>None</td><td>15</td><td>C</td></tr>\n",
       "\t<tr><th scope=row>A1Y3_565_R</th><td>A1Y3_565_R</td><td>2019</td><td>Reproductive</td><td>Veraison</td><td>2019_Veraison_Reproductive_15_C_2</td><td>1103P    </td><td>None</td><td>15</td><td>C</td></tr>\n",
       "\t<tr><th scope=row>A1Y3_566_R</th><td>A1Y3_566_R</td><td>2019</td><td>Reproductive</td><td>Veraison</td><td>2019_Veraison_Reproductive_15_C_3</td><td>1103P    </td><td>None</td><td>15</td><td>C</td></tr>\n",
       "\t<tr><th scope=row>A1Y3_568_R</th><td>A1Y3_568_R</td><td>2019</td><td>Reproductive</td><td>Veraison</td><td>2019_Veraison_Reproductive_15_D_3</td><td>SO4      </td><td>None</td><td>15</td><td>C</td></tr>\n",
       "\t<tr><th scope=row>A1Y3_569_R</th><td>A1Y3_569_R</td><td>2019</td><td>Reproductive</td><td>Veraison</td><td>2019_Veraison_Reproductive_16_A_2</td><td>1103P    </td><td>Full</td><td>16</td><td>C</td></tr>\n",
       "\t<tr><th scope=row>A1Y3_570_R</th><td>A1Y3_570_R</td><td>2019</td><td>Reproductive</td><td>Veraison</td><td>2019_Veraison_Reproductive_16_A_3</td><td>1103P    </td><td>Full</td><td>16</td><td>C</td></tr>\n",
       "\t<tr><th scope=row>A1Y3_572_R</th><td>A1Y3_572_R</td><td>2019</td><td>Reproductive</td><td>Veraison</td><td>2019_Veraison_Reproductive_16_B_3</td><td>Ungrafted</td><td>Full</td><td>16</td><td>C</td></tr>\n",
       "\t<tr><th scope=row>A1Y3_573_R</th><td>A1Y3_573_R</td><td>2019</td><td>Reproductive</td><td>Veraison</td><td>2019_Veraison_Reproductive_16_C_2</td><td>SO4      </td><td>Full</td><td>16</td><td>C</td></tr>\n",
       "\t<tr><th scope=row>A1Y3_576_R</th><td>A1Y3_576_R</td><td>2019</td><td>Reproductive</td><td>Veraison</td><td>2019_Veraison_Reproductive_16_D_3</td><td>3309C    </td><td>Full</td><td>16</td><td>C</td></tr>\n",
       "</tbody>\n",
       "</table>\n"
      ],
      "text/latex": [
       "A data.frame: 1179 × 9\n",
       "\\begin{tabular}{r|lllllllll}\n",
       "  & sampleName & Year & Tissue & Phenology & indexer & Rootstock & Irrigation & Row & Block\\\\\n",
       "  & <chr> & <fct> & <fct> & <fct> & <chr> & <fct> & <fct> & <fct> & <fct>\\\\\n",
       "\\hline\n",
       "\tA1Y1\\_001\\_L & A1Y1\\_001\\_L & 2017 & Leaf & Anthesis & 2017\\_Anthesis\\_Leaf\\_8\\_A\\_2  & 1103P     & None & 8  & A\\\\\n",
       "\tA1Y1\\_002\\_L & A1Y1\\_002\\_L & 2017 & Leaf & Anthesis & 2017\\_Anthesis\\_Leaf\\_8\\_A\\_3  & 1103P     & None & 8  & A\\\\\n",
       "\tA1Y1\\_003\\_L & A1Y1\\_003\\_L & 2017 & Leaf & Anthesis & 2017\\_Anthesis\\_Leaf\\_8\\_B\\_2  & 3309C     & None & 8  & A\\\\\n",
       "\tA1Y1\\_004\\_L & A1Y1\\_004\\_L & 2017 & Leaf & Anthesis & 2017\\_Anthesis\\_Leaf\\_8\\_B\\_2  & 3309C     & None & 8  & A\\\\\n",
       "\tA1Y1\\_005\\_L & A1Y1\\_005\\_L & 2017 & Leaf & Anthesis & 2017\\_Anthesis\\_Leaf\\_8\\_C\\_2  & SO4       & None & 8  & A\\\\\n",
       "\tA1Y1\\_006\\_L & A1Y1\\_006\\_L & 2017 & Leaf & Anthesis & 2017\\_Anthesis\\_Leaf\\_8\\_C\\_3  & SO4       & None & 8  & A\\\\\n",
       "\tA1Y1\\_007\\_L & A1Y1\\_007\\_L & 2017 & Leaf & Anthesis & 2017\\_Anthesis\\_Leaf\\_8\\_D\\_2  & Ungrafted & None & 8  & A\\\\\n",
       "\tA1Y1\\_008\\_L & A1Y1\\_008\\_L & 2017 & Leaf & Anthesis & 2017\\_Anthesis\\_Leaf\\_8\\_D\\_3  & Ungrafted & None & 8  & A\\\\\n",
       "\tA1Y1\\_009\\_L & A1Y1\\_009\\_L & 2017 & Leaf & Anthesis & 2017\\_Anthesis\\_Leaf\\_9\\_A\\_2  & Ungrafted & RDI  & 9  & A\\\\\n",
       "\tA1Y1\\_010\\_L & A1Y1\\_010\\_L & 2017 & Leaf & Anthesis & 2017\\_Anthesis\\_Leaf\\_9\\_A\\_3  & Ungrafted & RDI  & 9  & A\\\\\n",
       "\tA1Y1\\_011\\_L & A1Y1\\_011\\_L & 2017 & Leaf & Anthesis & 2017\\_Anthesis\\_Leaf\\_9\\_B\\_2  & 1103P     & RDI  & 9  & A\\\\\n",
       "\tA1Y1\\_012\\_L & A1Y1\\_012\\_L & 2017 & Leaf & Anthesis & 2017\\_Anthesis\\_Leaf\\_9\\_B\\_3  & 1103P     & RDI  & 9  & A\\\\\n",
       "\tA1Y1\\_013\\_L & A1Y1\\_013\\_L & 2017 & Leaf & Anthesis & 2017\\_Anthesis\\_Leaf\\_9\\_C\\_2  & 3309C     & RDI  & 9  & A\\\\\n",
       "\tA1Y1\\_014\\_L & A1Y1\\_014\\_L & 2017 & Leaf & Anthesis & 2017\\_Anthesis\\_Leaf\\_9\\_C\\_3  & 3309C     & RDI  & 9  & A\\\\\n",
       "\tA1Y1\\_015\\_L & A1Y1\\_015\\_L & 2017 & Leaf & Anthesis & 2017\\_Anthesis\\_Leaf\\_9\\_D\\_2  & SO4       & RDI  & 9  & A\\\\\n",
       "\tA1Y1\\_016\\_L & A1Y1\\_016\\_L & 2017 & Leaf & Anthesis & 2017\\_Anthesis\\_Leaf\\_9\\_D\\_3  & SO4       & RDI  & 9  & A\\\\\n",
       "\tA1Y1\\_017\\_L & A1Y1\\_017\\_L & 2017 & Leaf & Anthesis & 2017\\_Anthesis\\_Leaf\\_10\\_A\\_2 & 3309C     & Full & 10 & A\\\\\n",
       "\tA1Y1\\_018\\_L & A1Y1\\_018\\_L & 2017 & Leaf & Anthesis & 2017\\_Anthesis\\_Leaf\\_10\\_A\\_3 & 3309C     & Full & 10 & A\\\\\n",
       "\tA1Y1\\_020\\_L & A1Y1\\_020\\_L & 2017 & Leaf & Anthesis & 2017\\_Anthesis\\_Leaf\\_10\\_B\\_3 & SO4       & Full & 10 & A\\\\\n",
       "\tA1Y1\\_021\\_L & A1Y1\\_021\\_L & 2017 & Leaf & Anthesis & 2017\\_Anthesis\\_Leaf\\_10\\_C\\_2 & Ungrafted & Full & 10 & A\\\\\n",
       "\tA1Y1\\_022\\_L & A1Y1\\_022\\_L & 2017 & Leaf & Anthesis & 2017\\_Anthesis\\_Leaf\\_10\\_C\\_3 & Ungrafted & Full & 10 & A\\\\\n",
       "\tA1Y1\\_023\\_L & A1Y1\\_023\\_L & 2017 & Leaf & Anthesis & 2017\\_Anthesis\\_Leaf\\_10\\_D\\_2 & 1103P     & Full & 10 & A\\\\\n",
       "\tA1Y1\\_024\\_L & A1Y1\\_024\\_L & 2017 & Leaf & Anthesis & 2017\\_Anthesis\\_Leaf\\_10\\_D\\_3 & 1103P     & Full & 10 & A\\\\\n",
       "\tA1Y1\\_025\\_L & A1Y1\\_025\\_L & 2017 & Leaf & Anthesis & 2017\\_Anthesis\\_Leaf\\_11\\_A\\_2 & 3309C     & RDI  & 11 & B\\\\\n",
       "\tA1Y1\\_026\\_L & A1Y1\\_026\\_L & 2017 & Leaf & Anthesis & 2017\\_Anthesis\\_Leaf\\_11\\_A\\_3 & 3309C     & RDI  & 11 & B\\\\\n",
       "\tA1Y1\\_027\\_L & A1Y1\\_027\\_L & 2017 & Leaf & Anthesis & 2017\\_Anthesis\\_Leaf\\_11\\_B\\_2 & 1103P     & RDI  & 11 & B\\\\\n",
       "\tA1Y1\\_028\\_L & A1Y1\\_028\\_L & 2017 & Leaf & Anthesis & 2017\\_Anthesis\\_Leaf\\_11\\_B\\_3 & 1103P     & RDI  & 11 & B\\\\\n",
       "\tA1Y1\\_029\\_L & A1Y1\\_029\\_L & 2017 & Leaf & Anthesis & 2017\\_Anthesis\\_Leaf\\_11\\_C\\_2 & Ungrafted & RDI  & 11 & B\\\\\n",
       "\tA1Y1\\_031\\_L & A1Y1\\_031\\_L & 2017 & Leaf & Anthesis & 2017\\_Anthesis\\_Leaf\\_11\\_D\\_2 & SO4       & RDI  & 11 & B\\\\\n",
       "\tA1Y1\\_032\\_L & A1Y1\\_032\\_L & 2017 & Leaf & Anthesis & 2017\\_Anthesis\\_Leaf\\_11\\_D\\_3 & SO4       & RDI  & 11 & B\\\\\n",
       "\t⋮ & ⋮ & ⋮ & ⋮ & ⋮ & ⋮ & ⋮ & ⋮ & ⋮ & ⋮\\\\\n",
       "\tA1Y3\\_539\\_R & A1Y3\\_539\\_R & 2019 & Reproductive & Veraison & 2019\\_Veraison\\_Reproductive\\_12\\_B\\_2 & Ungrafted & Full & 12 & B\\\\\n",
       "\tA1Y3\\_540\\_R & A1Y3\\_540\\_R & 2019 & Reproductive & Veraison & 2019\\_Veraison\\_Reproductive\\_12\\_B\\_3 & Ungrafted & Full & 12 & B\\\\\n",
       "\tA1Y3\\_541\\_R & A1Y3\\_541\\_R & 2019 & Reproductive & Veraison & 2019\\_Veraison\\_Reproductive\\_12\\_C\\_2 & SO4       & Full & 12 & B\\\\\n",
       "\tA1Y3\\_543\\_R & A1Y3\\_543\\_R & 2019 & Reproductive & Veraison & 2019\\_Veraison\\_Reproductive\\_12\\_D\\_2 & 3309C     & Full & 12 & B\\\\\n",
       "\tA1Y3\\_544\\_R & A1Y3\\_544\\_R & 2019 & Reproductive & Veraison & 2019\\_Veraison\\_Reproductive\\_12\\_D\\_3 & 3309C     & Full & 12 & B\\\\\n",
       "\tA1Y3\\_545\\_R & A1Y3\\_545\\_R & 2019 & Reproductive & Veraison & 2019\\_Veraison\\_Reproductive\\_13\\_A\\_2 & SO4       & None & 13 & B\\\\\n",
       "\tA1Y3\\_546\\_R & A1Y3\\_546\\_R & 2019 & Reproductive & Veraison & 2019\\_Veraison\\_Reproductive\\_13\\_A\\_3 & SO4       & None & 13 & B\\\\\n",
       "\tA1Y3\\_547\\_R & A1Y3\\_547\\_R & 2019 & Reproductive & Veraison & 2019\\_Veraison\\_Reproductive\\_13\\_B\\_2 & 3309C     & None & 13 & B\\\\\n",
       "\tA1Y3\\_548\\_R & A1Y3\\_548\\_R & 2019 & Reproductive & Veraison & 2019\\_Veraison\\_Reproductive\\_13\\_B\\_3 & 3309C     & None & 13 & B\\\\\n",
       "\tA1Y3\\_549\\_R & A1Y3\\_549\\_R & 2019 & Reproductive & Veraison & 2019\\_Veraison\\_Reproductive\\_13\\_C\\_2 & 1103P     & None & 13 & B\\\\\n",
       "\tA1Y3\\_550\\_R & A1Y3\\_550\\_R & 2019 & Reproductive & Veraison & 2019\\_Veraison\\_Reproductive\\_13\\_C\\_3 & 1103P     & None & 13 & B\\\\\n",
       "\tA1Y3\\_551\\_R & A1Y3\\_551\\_R & 2019 & Reproductive & Veraison & 2019\\_Veraison\\_Reproductive\\_13\\_D\\_2 & Ungrafted & None & 13 & B\\\\\n",
       "\tA1Y3\\_552\\_R & A1Y3\\_552\\_R & 2019 & Reproductive & Veraison & 2019\\_Veraison\\_Reproductive\\_13\\_D\\_3 & Ungrafted & None & 13 & B\\\\\n",
       "\tA1Y3\\_553\\_R & A1Y3\\_553\\_R & 2019 & Reproductive & Veraison & 2019\\_Veraison\\_Reproductive\\_14\\_A\\_2 & 3309C     & RDI  & 14 & C\\\\\n",
       "\tA1Y3\\_557\\_R & A1Y3\\_557\\_R & 2019 & Reproductive & Veraison & 2019\\_Veraison\\_Reproductive\\_14\\_C\\_2 & Ungrafted & RDI  & 14 & C\\\\\n",
       "\tA1Y3\\_558\\_R & A1Y3\\_558\\_R & 2019 & Reproductive & Veraison & 2019\\_Veraison\\_Reproductive\\_14\\_C\\_3 & Ungrafted & RDI  & 14 & C\\\\\n",
       "\tA1Y3\\_559\\_R & A1Y3\\_559\\_R & 2019 & Reproductive & Veraison & 2019\\_Veraison\\_Reproductive\\_14\\_D\\_2 & 1103P     & RDI  & 14 & C\\\\\n",
       "\tA1Y3\\_560\\_R & A1Y3\\_560\\_R & 2019 & Reproductive & Veraison & 2019\\_Veraison\\_Reproductive\\_14\\_D\\_3 & 1103P     & RDI  & 14 & C\\\\\n",
       "\tA1Y3\\_561\\_R & A1Y3\\_561\\_R & 2019 & Reproductive & Veraison & 2019\\_Veraison\\_Reproductive\\_15\\_A\\_2 & Ungrafted & None & 15 & C\\\\\n",
       "\tA1Y3\\_562\\_R & A1Y3\\_562\\_R & 2019 & Reproductive & Veraison & 2019\\_Veraison\\_Reproductive\\_15\\_A\\_3 & Ungrafted & None & 15 & C\\\\\n",
       "\tA1Y3\\_563\\_R & A1Y3\\_563\\_R & 2019 & Reproductive & Veraison & 2019\\_Veraison\\_Reproductive\\_15\\_B\\_2 & 3309C     & None & 15 & C\\\\\n",
       "\tA1Y3\\_564\\_R & A1Y3\\_564\\_R & 2019 & Reproductive & Veraison & 2019\\_Veraison\\_Reproductive\\_15\\_B\\_3 & 3309C     & None & 15 & C\\\\\n",
       "\tA1Y3\\_565\\_R & A1Y3\\_565\\_R & 2019 & Reproductive & Veraison & 2019\\_Veraison\\_Reproductive\\_15\\_C\\_2 & 1103P     & None & 15 & C\\\\\n",
       "\tA1Y3\\_566\\_R & A1Y3\\_566\\_R & 2019 & Reproductive & Veraison & 2019\\_Veraison\\_Reproductive\\_15\\_C\\_3 & 1103P     & None & 15 & C\\\\\n",
       "\tA1Y3\\_568\\_R & A1Y3\\_568\\_R & 2019 & Reproductive & Veraison & 2019\\_Veraison\\_Reproductive\\_15\\_D\\_3 & SO4       & None & 15 & C\\\\\n",
       "\tA1Y3\\_569\\_R & A1Y3\\_569\\_R & 2019 & Reproductive & Veraison & 2019\\_Veraison\\_Reproductive\\_16\\_A\\_2 & 1103P     & Full & 16 & C\\\\\n",
       "\tA1Y3\\_570\\_R & A1Y3\\_570\\_R & 2019 & Reproductive & Veraison & 2019\\_Veraison\\_Reproductive\\_16\\_A\\_3 & 1103P     & Full & 16 & C\\\\\n",
       "\tA1Y3\\_572\\_R & A1Y3\\_572\\_R & 2019 & Reproductive & Veraison & 2019\\_Veraison\\_Reproductive\\_16\\_B\\_3 & Ungrafted & Full & 16 & C\\\\\n",
       "\tA1Y3\\_573\\_R & A1Y3\\_573\\_R & 2019 & Reproductive & Veraison & 2019\\_Veraison\\_Reproductive\\_16\\_C\\_2 & SO4       & Full & 16 & C\\\\\n",
       "\tA1Y3\\_576\\_R & A1Y3\\_576\\_R & 2019 & Reproductive & Veraison & 2019\\_Veraison\\_Reproductive\\_16\\_D\\_3 & 3309C     & Full & 16 & C\\\\\n",
       "\\end{tabular}\n"
      ],
      "text/markdown": [
       "\n",
       "A data.frame: 1179 × 9\n",
       "\n",
       "| <!--/--> | sampleName &lt;chr&gt; | Year &lt;fct&gt; | Tissue &lt;fct&gt; | Phenology &lt;fct&gt; | indexer &lt;chr&gt; | Rootstock &lt;fct&gt; | Irrigation &lt;fct&gt; | Row &lt;fct&gt; | Block &lt;fct&gt; |\n",
       "|---|---|---|---|---|---|---|---|---|---|\n",
       "| A1Y1_001_L | A1Y1_001_L | 2017 | Leaf | Anthesis | 2017_Anthesis_Leaf_8_A_2  | 1103P     | None | 8  | A |\n",
       "| A1Y1_002_L | A1Y1_002_L | 2017 | Leaf | Anthesis | 2017_Anthesis_Leaf_8_A_3  | 1103P     | None | 8  | A |\n",
       "| A1Y1_003_L | A1Y1_003_L | 2017 | Leaf | Anthesis | 2017_Anthesis_Leaf_8_B_2  | 3309C     | None | 8  | A |\n",
       "| A1Y1_004_L | A1Y1_004_L | 2017 | Leaf | Anthesis | 2017_Anthesis_Leaf_8_B_2  | 3309C     | None | 8  | A |\n",
       "| A1Y1_005_L | A1Y1_005_L | 2017 | Leaf | Anthesis | 2017_Anthesis_Leaf_8_C_2  | SO4       | None | 8  | A |\n",
       "| A1Y1_006_L | A1Y1_006_L | 2017 | Leaf | Anthesis | 2017_Anthesis_Leaf_8_C_3  | SO4       | None | 8  | A |\n",
       "| A1Y1_007_L | A1Y1_007_L | 2017 | Leaf | Anthesis | 2017_Anthesis_Leaf_8_D_2  | Ungrafted | None | 8  | A |\n",
       "| A1Y1_008_L | A1Y1_008_L | 2017 | Leaf | Anthesis | 2017_Anthesis_Leaf_8_D_3  | Ungrafted | None | 8  | A |\n",
       "| A1Y1_009_L | A1Y1_009_L | 2017 | Leaf | Anthesis | 2017_Anthesis_Leaf_9_A_2  | Ungrafted | RDI  | 9  | A |\n",
       "| A1Y1_010_L | A1Y1_010_L | 2017 | Leaf | Anthesis | 2017_Anthesis_Leaf_9_A_3  | Ungrafted | RDI  | 9  | A |\n",
       "| A1Y1_011_L | A1Y1_011_L | 2017 | Leaf | Anthesis | 2017_Anthesis_Leaf_9_B_2  | 1103P     | RDI  | 9  | A |\n",
       "| A1Y1_012_L | A1Y1_012_L | 2017 | Leaf | Anthesis | 2017_Anthesis_Leaf_9_B_3  | 1103P     | RDI  | 9  | A |\n",
       "| A1Y1_013_L | A1Y1_013_L | 2017 | Leaf | Anthesis | 2017_Anthesis_Leaf_9_C_2  | 3309C     | RDI  | 9  | A |\n",
       "| A1Y1_014_L | A1Y1_014_L | 2017 | Leaf | Anthesis | 2017_Anthesis_Leaf_9_C_3  | 3309C     | RDI  | 9  | A |\n",
       "| A1Y1_015_L | A1Y1_015_L | 2017 | Leaf | Anthesis | 2017_Anthesis_Leaf_9_D_2  | SO4       | RDI  | 9  | A |\n",
       "| A1Y1_016_L | A1Y1_016_L | 2017 | Leaf | Anthesis | 2017_Anthesis_Leaf_9_D_3  | SO4       | RDI  | 9  | A |\n",
       "| A1Y1_017_L | A1Y1_017_L | 2017 | Leaf | Anthesis | 2017_Anthesis_Leaf_10_A_2 | 3309C     | Full | 10 | A |\n",
       "| A1Y1_018_L | A1Y1_018_L | 2017 | Leaf | Anthesis | 2017_Anthesis_Leaf_10_A_3 | 3309C     | Full | 10 | A |\n",
       "| A1Y1_020_L | A1Y1_020_L | 2017 | Leaf | Anthesis | 2017_Anthesis_Leaf_10_B_3 | SO4       | Full | 10 | A |\n",
       "| A1Y1_021_L | A1Y1_021_L | 2017 | Leaf | Anthesis | 2017_Anthesis_Leaf_10_C_2 | Ungrafted | Full | 10 | A |\n",
       "| A1Y1_022_L | A1Y1_022_L | 2017 | Leaf | Anthesis | 2017_Anthesis_Leaf_10_C_3 | Ungrafted | Full | 10 | A |\n",
       "| A1Y1_023_L | A1Y1_023_L | 2017 | Leaf | Anthesis | 2017_Anthesis_Leaf_10_D_2 | 1103P     | Full | 10 | A |\n",
       "| A1Y1_024_L | A1Y1_024_L | 2017 | Leaf | Anthesis | 2017_Anthesis_Leaf_10_D_3 | 1103P     | Full | 10 | A |\n",
       "| A1Y1_025_L | A1Y1_025_L | 2017 | Leaf | Anthesis | 2017_Anthesis_Leaf_11_A_2 | 3309C     | RDI  | 11 | B |\n",
       "| A1Y1_026_L | A1Y1_026_L | 2017 | Leaf | Anthesis | 2017_Anthesis_Leaf_11_A_3 | 3309C     | RDI  | 11 | B |\n",
       "| A1Y1_027_L | A1Y1_027_L | 2017 | Leaf | Anthesis | 2017_Anthesis_Leaf_11_B_2 | 1103P     | RDI  | 11 | B |\n",
       "| A1Y1_028_L | A1Y1_028_L | 2017 | Leaf | Anthesis | 2017_Anthesis_Leaf_11_B_3 | 1103P     | RDI  | 11 | B |\n",
       "| A1Y1_029_L | A1Y1_029_L | 2017 | Leaf | Anthesis | 2017_Anthesis_Leaf_11_C_2 | Ungrafted | RDI  | 11 | B |\n",
       "| A1Y1_031_L | A1Y1_031_L | 2017 | Leaf | Anthesis | 2017_Anthesis_Leaf_11_D_2 | SO4       | RDI  | 11 | B |\n",
       "| A1Y1_032_L | A1Y1_032_L | 2017 | Leaf | Anthesis | 2017_Anthesis_Leaf_11_D_3 | SO4       | RDI  | 11 | B |\n",
       "| ⋮ | ⋮ | ⋮ | ⋮ | ⋮ | ⋮ | ⋮ | ⋮ | ⋮ | ⋮ |\n",
       "| A1Y3_539_R | A1Y3_539_R | 2019 | Reproductive | Veraison | 2019_Veraison_Reproductive_12_B_2 | Ungrafted | Full | 12 | B |\n",
       "| A1Y3_540_R | A1Y3_540_R | 2019 | Reproductive | Veraison | 2019_Veraison_Reproductive_12_B_3 | Ungrafted | Full | 12 | B |\n",
       "| A1Y3_541_R | A1Y3_541_R | 2019 | Reproductive | Veraison | 2019_Veraison_Reproductive_12_C_2 | SO4       | Full | 12 | B |\n",
       "| A1Y3_543_R | A1Y3_543_R | 2019 | Reproductive | Veraison | 2019_Veraison_Reproductive_12_D_2 | 3309C     | Full | 12 | B |\n",
       "| A1Y3_544_R | A1Y3_544_R | 2019 | Reproductive | Veraison | 2019_Veraison_Reproductive_12_D_3 | 3309C     | Full | 12 | B |\n",
       "| A1Y3_545_R | A1Y3_545_R | 2019 | Reproductive | Veraison | 2019_Veraison_Reproductive_13_A_2 | SO4       | None | 13 | B |\n",
       "| A1Y3_546_R | A1Y3_546_R | 2019 | Reproductive | Veraison | 2019_Veraison_Reproductive_13_A_3 | SO4       | None | 13 | B |\n",
       "| A1Y3_547_R | A1Y3_547_R | 2019 | Reproductive | Veraison | 2019_Veraison_Reproductive_13_B_2 | 3309C     | None | 13 | B |\n",
       "| A1Y3_548_R | A1Y3_548_R | 2019 | Reproductive | Veraison | 2019_Veraison_Reproductive_13_B_3 | 3309C     | None | 13 | B |\n",
       "| A1Y3_549_R | A1Y3_549_R | 2019 | Reproductive | Veraison | 2019_Veraison_Reproductive_13_C_2 | 1103P     | None | 13 | B |\n",
       "| A1Y3_550_R | A1Y3_550_R | 2019 | Reproductive | Veraison | 2019_Veraison_Reproductive_13_C_3 | 1103P     | None | 13 | B |\n",
       "| A1Y3_551_R | A1Y3_551_R | 2019 | Reproductive | Veraison | 2019_Veraison_Reproductive_13_D_2 | Ungrafted | None | 13 | B |\n",
       "| A1Y3_552_R | A1Y3_552_R | 2019 | Reproductive | Veraison | 2019_Veraison_Reproductive_13_D_3 | Ungrafted | None | 13 | B |\n",
       "| A1Y3_553_R | A1Y3_553_R | 2019 | Reproductive | Veraison | 2019_Veraison_Reproductive_14_A_2 | 3309C     | RDI  | 14 | C |\n",
       "| A1Y3_557_R | A1Y3_557_R | 2019 | Reproductive | Veraison | 2019_Veraison_Reproductive_14_C_2 | Ungrafted | RDI  | 14 | C |\n",
       "| A1Y3_558_R | A1Y3_558_R | 2019 | Reproductive | Veraison | 2019_Veraison_Reproductive_14_C_3 | Ungrafted | RDI  | 14 | C |\n",
       "| A1Y3_559_R | A1Y3_559_R | 2019 | Reproductive | Veraison | 2019_Veraison_Reproductive_14_D_2 | 1103P     | RDI  | 14 | C |\n",
       "| A1Y3_560_R | A1Y3_560_R | 2019 | Reproductive | Veraison | 2019_Veraison_Reproductive_14_D_3 | 1103P     | RDI  | 14 | C |\n",
       "| A1Y3_561_R | A1Y3_561_R | 2019 | Reproductive | Veraison | 2019_Veraison_Reproductive_15_A_2 | Ungrafted | None | 15 | C |\n",
       "| A1Y3_562_R | A1Y3_562_R | 2019 | Reproductive | Veraison | 2019_Veraison_Reproductive_15_A_3 | Ungrafted | None | 15 | C |\n",
       "| A1Y3_563_R | A1Y3_563_R | 2019 | Reproductive | Veraison | 2019_Veraison_Reproductive_15_B_2 | 3309C     | None | 15 | C |\n",
       "| A1Y3_564_R | A1Y3_564_R | 2019 | Reproductive | Veraison | 2019_Veraison_Reproductive_15_B_3 | 3309C     | None | 15 | C |\n",
       "| A1Y3_565_R | A1Y3_565_R | 2019 | Reproductive | Veraison | 2019_Veraison_Reproductive_15_C_2 | 1103P     | None | 15 | C |\n",
       "| A1Y3_566_R | A1Y3_566_R | 2019 | Reproductive | Veraison | 2019_Veraison_Reproductive_15_C_3 | 1103P     | None | 15 | C |\n",
       "| A1Y3_568_R | A1Y3_568_R | 2019 | Reproductive | Veraison | 2019_Veraison_Reproductive_15_D_3 | SO4       | None | 15 | C |\n",
       "| A1Y3_569_R | A1Y3_569_R | 2019 | Reproductive | Veraison | 2019_Veraison_Reproductive_16_A_2 | 1103P     | Full | 16 | C |\n",
       "| A1Y3_570_R | A1Y3_570_R | 2019 | Reproductive | Veraison | 2019_Veraison_Reproductive_16_A_3 | 1103P     | Full | 16 | C |\n",
       "| A1Y3_572_R | A1Y3_572_R | 2019 | Reproductive | Veraison | 2019_Veraison_Reproductive_16_B_3 | Ungrafted | Full | 16 | C |\n",
       "| A1Y3_573_R | A1Y3_573_R | 2019 | Reproductive | Veraison | 2019_Veraison_Reproductive_16_C_2 | SO4       | Full | 16 | C |\n",
       "| A1Y3_576_R | A1Y3_576_R | 2019 | Reproductive | Veraison | 2019_Veraison_Reproductive_16_D_3 | 3309C     | Full | 16 | C |\n",
       "\n"
      ],
      "text/plain": [
       "           sampleName Year Tissue       Phenology\n",
       "A1Y1_001_L A1Y1_001_L 2017 Leaf         Anthesis \n",
       "A1Y1_002_L A1Y1_002_L 2017 Leaf         Anthesis \n",
       "A1Y1_003_L A1Y1_003_L 2017 Leaf         Anthesis \n",
       "A1Y1_004_L A1Y1_004_L 2017 Leaf         Anthesis \n",
       "A1Y1_005_L A1Y1_005_L 2017 Leaf         Anthesis \n",
       "A1Y1_006_L A1Y1_006_L 2017 Leaf         Anthesis \n",
       "A1Y1_007_L A1Y1_007_L 2017 Leaf         Anthesis \n",
       "A1Y1_008_L A1Y1_008_L 2017 Leaf         Anthesis \n",
       "A1Y1_009_L A1Y1_009_L 2017 Leaf         Anthesis \n",
       "A1Y1_010_L A1Y1_010_L 2017 Leaf         Anthesis \n",
       "A1Y1_011_L A1Y1_011_L 2017 Leaf         Anthesis \n",
       "A1Y1_012_L A1Y1_012_L 2017 Leaf         Anthesis \n",
       "A1Y1_013_L A1Y1_013_L 2017 Leaf         Anthesis \n",
       "A1Y1_014_L A1Y1_014_L 2017 Leaf         Anthesis \n",
       "A1Y1_015_L A1Y1_015_L 2017 Leaf         Anthesis \n",
       "A1Y1_016_L A1Y1_016_L 2017 Leaf         Anthesis \n",
       "A1Y1_017_L A1Y1_017_L 2017 Leaf         Anthesis \n",
       "A1Y1_018_L A1Y1_018_L 2017 Leaf         Anthesis \n",
       "A1Y1_020_L A1Y1_020_L 2017 Leaf         Anthesis \n",
       "A1Y1_021_L A1Y1_021_L 2017 Leaf         Anthesis \n",
       "A1Y1_022_L A1Y1_022_L 2017 Leaf         Anthesis \n",
       "A1Y1_023_L A1Y1_023_L 2017 Leaf         Anthesis \n",
       "A1Y1_024_L A1Y1_024_L 2017 Leaf         Anthesis \n",
       "A1Y1_025_L A1Y1_025_L 2017 Leaf         Anthesis \n",
       "A1Y1_026_L A1Y1_026_L 2017 Leaf         Anthesis \n",
       "A1Y1_027_L A1Y1_027_L 2017 Leaf         Anthesis \n",
       "A1Y1_028_L A1Y1_028_L 2017 Leaf         Anthesis \n",
       "A1Y1_029_L A1Y1_029_L 2017 Leaf         Anthesis \n",
       "A1Y1_031_L A1Y1_031_L 2017 Leaf         Anthesis \n",
       "A1Y1_032_L A1Y1_032_L 2017 Leaf         Anthesis \n",
       "⋮          ⋮          ⋮    ⋮            ⋮        \n",
       "A1Y3_539_R A1Y3_539_R 2019 Reproductive Veraison \n",
       "A1Y3_540_R A1Y3_540_R 2019 Reproductive Veraison \n",
       "A1Y3_541_R A1Y3_541_R 2019 Reproductive Veraison \n",
       "A1Y3_543_R A1Y3_543_R 2019 Reproductive Veraison \n",
       "A1Y3_544_R A1Y3_544_R 2019 Reproductive Veraison \n",
       "A1Y3_545_R A1Y3_545_R 2019 Reproductive Veraison \n",
       "A1Y3_546_R A1Y3_546_R 2019 Reproductive Veraison \n",
       "A1Y3_547_R A1Y3_547_R 2019 Reproductive Veraison \n",
       "A1Y3_548_R A1Y3_548_R 2019 Reproductive Veraison \n",
       "A1Y3_549_R A1Y3_549_R 2019 Reproductive Veraison \n",
       "A1Y3_550_R A1Y3_550_R 2019 Reproductive Veraison \n",
       "A1Y3_551_R A1Y3_551_R 2019 Reproductive Veraison \n",
       "A1Y3_552_R A1Y3_552_R 2019 Reproductive Veraison \n",
       "A1Y3_553_R A1Y3_553_R 2019 Reproductive Veraison \n",
       "A1Y3_557_R A1Y3_557_R 2019 Reproductive Veraison \n",
       "A1Y3_558_R A1Y3_558_R 2019 Reproductive Veraison \n",
       "A1Y3_559_R A1Y3_559_R 2019 Reproductive Veraison \n",
       "A1Y3_560_R A1Y3_560_R 2019 Reproductive Veraison \n",
       "A1Y3_561_R A1Y3_561_R 2019 Reproductive Veraison \n",
       "A1Y3_562_R A1Y3_562_R 2019 Reproductive Veraison \n",
       "A1Y3_563_R A1Y3_563_R 2019 Reproductive Veraison \n",
       "A1Y3_564_R A1Y3_564_R 2019 Reproductive Veraison \n",
       "A1Y3_565_R A1Y3_565_R 2019 Reproductive Veraison \n",
       "A1Y3_566_R A1Y3_566_R 2019 Reproductive Veraison \n",
       "A1Y3_568_R A1Y3_568_R 2019 Reproductive Veraison \n",
       "A1Y3_569_R A1Y3_569_R 2019 Reproductive Veraison \n",
       "A1Y3_570_R A1Y3_570_R 2019 Reproductive Veraison \n",
       "A1Y3_572_R A1Y3_572_R 2019 Reproductive Veraison \n",
       "A1Y3_573_R A1Y3_573_R 2019 Reproductive Veraison \n",
       "A1Y3_576_R A1Y3_576_R 2019 Reproductive Veraison \n",
       "           indexer                           Rootstock Irrigation Row Block\n",
       "A1Y1_001_L 2017_Anthesis_Leaf_8_A_2          1103P     None       8   A    \n",
       "A1Y1_002_L 2017_Anthesis_Leaf_8_A_3          1103P     None       8   A    \n",
       "A1Y1_003_L 2017_Anthesis_Leaf_8_B_2          3309C     None       8   A    \n",
       "A1Y1_004_L 2017_Anthesis_Leaf_8_B_2          3309C     None       8   A    \n",
       "A1Y1_005_L 2017_Anthesis_Leaf_8_C_2          SO4       None       8   A    \n",
       "A1Y1_006_L 2017_Anthesis_Leaf_8_C_3          SO4       None       8   A    \n",
       "A1Y1_007_L 2017_Anthesis_Leaf_8_D_2          Ungrafted None       8   A    \n",
       "A1Y1_008_L 2017_Anthesis_Leaf_8_D_3          Ungrafted None       8   A    \n",
       "A1Y1_009_L 2017_Anthesis_Leaf_9_A_2          Ungrafted RDI        9   A    \n",
       "A1Y1_010_L 2017_Anthesis_Leaf_9_A_3          Ungrafted RDI        9   A    \n",
       "A1Y1_011_L 2017_Anthesis_Leaf_9_B_2          1103P     RDI        9   A    \n",
       "A1Y1_012_L 2017_Anthesis_Leaf_9_B_3          1103P     RDI        9   A    \n",
       "A1Y1_013_L 2017_Anthesis_Leaf_9_C_2          3309C     RDI        9   A    \n",
       "A1Y1_014_L 2017_Anthesis_Leaf_9_C_3          3309C     RDI        9   A    \n",
       "A1Y1_015_L 2017_Anthesis_Leaf_9_D_2          SO4       RDI        9   A    \n",
       "A1Y1_016_L 2017_Anthesis_Leaf_9_D_3          SO4       RDI        9   A    \n",
       "A1Y1_017_L 2017_Anthesis_Leaf_10_A_2         3309C     Full       10  A    \n",
       "A1Y1_018_L 2017_Anthesis_Leaf_10_A_3         3309C     Full       10  A    \n",
       "A1Y1_020_L 2017_Anthesis_Leaf_10_B_3         SO4       Full       10  A    \n",
       "A1Y1_021_L 2017_Anthesis_Leaf_10_C_2         Ungrafted Full       10  A    \n",
       "A1Y1_022_L 2017_Anthesis_Leaf_10_C_3         Ungrafted Full       10  A    \n",
       "A1Y1_023_L 2017_Anthesis_Leaf_10_D_2         1103P     Full       10  A    \n",
       "A1Y1_024_L 2017_Anthesis_Leaf_10_D_3         1103P     Full       10  A    \n",
       "A1Y1_025_L 2017_Anthesis_Leaf_11_A_2         3309C     RDI        11  B    \n",
       "A1Y1_026_L 2017_Anthesis_Leaf_11_A_3         3309C     RDI        11  B    \n",
       "A1Y1_027_L 2017_Anthesis_Leaf_11_B_2         1103P     RDI        11  B    \n",
       "A1Y1_028_L 2017_Anthesis_Leaf_11_B_3         1103P     RDI        11  B    \n",
       "A1Y1_029_L 2017_Anthesis_Leaf_11_C_2         Ungrafted RDI        11  B    \n",
       "A1Y1_031_L 2017_Anthesis_Leaf_11_D_2         SO4       RDI        11  B    \n",
       "A1Y1_032_L 2017_Anthesis_Leaf_11_D_3         SO4       RDI        11  B    \n",
       "⋮          ⋮                                 ⋮         ⋮          ⋮   ⋮    \n",
       "A1Y3_539_R 2019_Veraison_Reproductive_12_B_2 Ungrafted Full       12  B    \n",
       "A1Y3_540_R 2019_Veraison_Reproductive_12_B_3 Ungrafted Full       12  B    \n",
       "A1Y3_541_R 2019_Veraison_Reproductive_12_C_2 SO4       Full       12  B    \n",
       "A1Y3_543_R 2019_Veraison_Reproductive_12_D_2 3309C     Full       12  B    \n",
       "A1Y3_544_R 2019_Veraison_Reproductive_12_D_3 3309C     Full       12  B    \n",
       "A1Y3_545_R 2019_Veraison_Reproductive_13_A_2 SO4       None       13  B    \n",
       "A1Y3_546_R 2019_Veraison_Reproductive_13_A_3 SO4       None       13  B    \n",
       "A1Y3_547_R 2019_Veraison_Reproductive_13_B_2 3309C     None       13  B    \n",
       "A1Y3_548_R 2019_Veraison_Reproductive_13_B_3 3309C     None       13  B    \n",
       "A1Y3_549_R 2019_Veraison_Reproductive_13_C_2 1103P     None       13  B    \n",
       "A1Y3_550_R 2019_Veraison_Reproductive_13_C_3 1103P     None       13  B    \n",
       "A1Y3_551_R 2019_Veraison_Reproductive_13_D_2 Ungrafted None       13  B    \n",
       "A1Y3_552_R 2019_Veraison_Reproductive_13_D_3 Ungrafted None       13  B    \n",
       "A1Y3_553_R 2019_Veraison_Reproductive_14_A_2 3309C     RDI        14  C    \n",
       "A1Y3_557_R 2019_Veraison_Reproductive_14_C_2 Ungrafted RDI        14  C    \n",
       "A1Y3_558_R 2019_Veraison_Reproductive_14_C_3 Ungrafted RDI        14  C    \n",
       "A1Y3_559_R 2019_Veraison_Reproductive_14_D_2 1103P     RDI        14  C    \n",
       "A1Y3_560_R 2019_Veraison_Reproductive_14_D_3 1103P     RDI        14  C    \n",
       "A1Y3_561_R 2019_Veraison_Reproductive_15_A_2 Ungrafted None       15  C    \n",
       "A1Y3_562_R 2019_Veraison_Reproductive_15_A_3 Ungrafted None       15  C    \n",
       "A1Y3_563_R 2019_Veraison_Reproductive_15_B_2 3309C     None       15  C    \n",
       "A1Y3_564_R 2019_Veraison_Reproductive_15_B_3 3309C     None       15  C    \n",
       "A1Y3_565_R 2019_Veraison_Reproductive_15_C_2 1103P     None       15  C    \n",
       "A1Y3_566_R 2019_Veraison_Reproductive_15_C_3 1103P     None       15  C    \n",
       "A1Y3_568_R 2019_Veraison_Reproductive_15_D_3 SO4       None       15  C    \n",
       "A1Y3_569_R 2019_Veraison_Reproductive_16_A_2 1103P     Full       16  C    \n",
       "A1Y3_570_R 2019_Veraison_Reproductive_16_A_3 1103P     Full       16  C    \n",
       "A1Y3_572_R 2019_Veraison_Reproductive_16_B_3 Ungrafted Full       16  C    \n",
       "A1Y3_573_R 2019_Veraison_Reproductive_16_C_2 SO4       Full       16  C    \n",
       "A1Y3_576_R 2019_Veraison_Reproductive_16_D_3 3309C     Full       16  C    "
      ]
     },
     "metadata": {},
     "output_type": "display_data"
    }
   ],
   "source": [
    "#SO4 overgrowth\n",
    "treatments <- treatments[treatments$sampleName != 'A1Y1_019_R',] \n",
    "treatments <- treatments[treatments$sampleName != 'A1Y1_019_L',] \n",
    "treatments <- treatments[treatments$sampleName != 'A1Y1_091_L',] \n",
    "treatments <- treatments[treatments$sampleName != 'A1Y1_091_R',] \n",
    "treatments <- treatments[treatments$sampleName != 'A1Y1_163_R',] \n",
    "treatments <- treatments[treatments$sampleName != 'A1Y1_163_L',]\n",
    "treatments <- treatments[treatments$sampleName != 'A1Y2_235_R',] #\n",
    "treatments <- treatments[treatments$sampleName != 'A1Y2_235_L',] #\n",
    "treatments <- treatments[treatments$sampleName != 'A1Y2_307_R',] #\n",
    "treatments <- treatments[treatments$sampleName != 'A1Y2_307_L',] #\n",
    "treatments <- treatments[treatments$sampleName != 'A1Y2_379_R',] #\n",
    "treatments <- treatments[treatments$sampleName != 'A1Y2_379_L',] \n",
    "treatments <- treatments[treatments$sampleName != 'A1Y3_451_R',] #\n",
    "treatments <- treatments[treatments$sampleName != 'A1Y3_451_L',] #\n",
    "treatments <- treatments[treatments$sampleName != 'A1Y3_595_R',] #\n",
    "treatments <- treatments[treatments$sampleName != 'A1Y3_595_L',] #\n",
    "treatments <- treatments[treatments$sampleName != '#N/A_ NA_#N/A',] # deep existential sigh\n",
    "\n",
    "#Remove samples that had less than 500K reads \n",
    "treatments <- treatments[treatments$sampleName != 'A1Y1_030_L',]\n",
    "treatments <- treatments[treatments$sampleName != 'A1Y2_223_L',] #\n",
    "treatments <- treatments[treatments$sampleName != 'A1Y2_225_L',] #\n",
    "treatments <- treatments[treatments$sampleName != 'A1Y2_225_R',] #\n",
    "treatments <- treatments[treatments$sampleName != 'A1Y2_250_L',] #\n",
    "treatments <- treatments[treatments$sampleName != 'A1Y2_252_L',] #\n",
    "treatments <- treatments[treatments$sampleName != 'A1Y2_253_L',] #\n",
    "treatments <- treatments[treatments$sampleName != 'A1Y2_257_L',] #\n",
    "treatments <- treatments[treatments$sampleName != 'A1Y2_270_L',] #\n",
    "treatments <- treatments[treatments$sampleName != 'A1Y2_273_L',] #\n",
    "treatments <- treatments[treatments$sampleName != 'A1Y2_276_L',] #\n",
    "treatments <- treatments[treatments$sampleName != 'A1Y2_284_R',] #\n",
    "treatments <- treatments[treatments$sampleName != 'A1Y2_298_L',] #\n",
    "treatments <- treatments[treatments$sampleName != 'A1Y2_312_L',] #\n",
    "treatments <- treatments[treatments$sampleName != 'A1Y2_329_L',] #\n",
    "treatments <- treatments[treatments$sampleName != 'A1Y2_332_L',] #\n",
    "treatments <- treatments[treatments$sampleName != 'A1Y2_338_L',] #\n",
    "treatments <- treatments[treatments$sampleName != 'A1Y2_339_L',] #\n",
    "treatments <- treatments[treatments$sampleName != 'A1Y2_344_L',] #\n",
    "treatments <- treatments[treatments$sampleName != 'A1Y2_358_L',] #\n",
    "\n",
    "treatments$Row <- as.factor(treatments$Row)\n",
    "treatments$Block <- rep('A', dim(treatments)[1])\n",
    "treatments$Block[treatments$Row == 11] <- \"B\" \n",
    "treatments$Block[treatments$Row == 12] <- \"B\"\n",
    "treatments$Block[treatments$Row == 13] <- \"B\"\n",
    "treatments$Block[treatments$Row == 14] <- \"C\"\n",
    "treatments$Block[treatments$Row == 15] <- \"C\"\n",
    "treatments$Block[treatments$Row == 16] <- \"C\"\n",
    "treatments$Block <- as.factor(treatments$Block)\n",
    "\n",
    "# a couple aren't labelled with the right year in the sampleName...\n",
    "treatments$sampleName[treatments$sampleName == 'A1Y1_217_L'] <- 'A1Y2_217_L'\n",
    "treatments$sampleName[treatments$sampleName == 'A1Y1_218_L'] <- 'A1Y2_218_L'\n",
    "treatments$sampleName[treatments$sampleName == 'A1Y1_219_L'] <- 'A1Y2_219_L'\n",
    "treatments$sampleName[treatments$sampleName == 'A1Y1_220_L'] <- 'A1Y2_220_L'\n",
    "treatments$sampleName[treatments$sampleName == 'A1Y1_221_L'] <- 'A1Y2_221_L'\n",
    "treatments$sampleName[treatments$sampleName == 'A1Y1_222_L'] <- 'A1Y2_222_L'\n",
    "\n",
    "rownames(treatments) <- treatments$sampleName\n",
    "\n",
    "treatments"
   ]
  },
  {
   "cell_type": "code",
   "execution_count": 138,
   "metadata": {},
   "outputs": [
    {
     "data": {
      "text/html": [
       "<ol class=list-inline>\n",
       "\t<li>1179</li>\n",
       "\t<li>9</li>\n",
       "</ol>\n"
      ],
      "text/latex": [
       "\\begin{enumerate*}\n",
       "\\item 1179\n",
       "\\item 9\n",
       "\\end{enumerate*}\n"
      ],
      "text/markdown": [
       "1. 1179\n",
       "2. 9\n",
       "\n",
       "\n"
      ],
      "text/plain": [
       "[1] 1179    9"
      ]
     },
     "metadata": {},
     "output_type": "display_data"
    },
    {
     "data": {
      "text/plain": [
       "\n",
       "2017 2018 2019 \n",
       " 425  407  347 "
      ]
     },
     "metadata": {},
     "output_type": "display_data"
    },
    {
     "data": {
      "text/plain": [
       "\n",
       "Reproductive         Leaf \n",
       "         558          621 "
      ]
     },
     "metadata": {},
     "output_type": "display_data"
    },
    {
     "data": {
      "text/plain": [
       "\n",
       "Anthesis Veraison  Harvest \n",
       "     414      410      355 "
      ]
     },
     "metadata": {},
     "output_type": "display_data"
    },
    {
     "data": {
      "text/plain": [
       "\n",
       "Ungrafted     1103P     3309C       SO4 \n",
       "      296       303       301       279 "
      ]
     },
     "metadata": {},
     "output_type": "display_data"
    },
    {
     "data": {
      "text/plain": [
       "\n",
       "None  RDI Full \n",
       " 401  397  381 "
      ]
     },
     "metadata": {},
     "output_type": "display_data"
    },
    {
     "data": {
      "text/plain": [
       "\n",
       "  8   9  10  11  12  13  14  15  16 \n",
       "135 133 118 135 132 133 129 133 131 "
      ]
     },
     "metadata": {},
     "output_type": "display_data"
    },
    {
     "data": {
      "text/plain": [
       "\n",
       "  A   B   C \n",
       "386 400 393 "
      ]
     },
     "metadata": {},
     "output_type": "display_data"
    }
   ],
   "source": [
    "## sanity checks\n",
    "dim(treatments)\n",
    "table(treatments$Year)\n",
    "table(treatments$Tissue)\n",
    "table(treatments$Phenology)\n",
    "table(treatments$Rootstock)\n",
    "table(treatments$Irrigation)\n",
    "table(treatments$Row)\n",
    "table(treatments$Block)\n",
    "write.csv(treatments, file='1719_geneExpressed_metadata_processedR.csv')"
   ]
  },
  {
   "cell_type": "markdown",
   "metadata": {},
   "source": [
    "#  Assemble featureCount outputs into a matrix"
   ]
  },
  {
   "cell_type": "code",
   "execution_count": 112,
   "metadata": {},
   "outputs": [
    {
     "data": {
      "text/html": [
       "<ol class=list-inline>\n",
       "\t<li>42413</li>\n",
       "\t<li>432</li>\n",
       "</ol>\n"
      ],
      "text/latex": [
       "\\begin{enumerate*}\n",
       "\\item 42413\n",
       "\\item 432\n",
       "\\end{enumerate*}\n"
      ],
      "text/markdown": [
       "1. 42413\n",
       "2. 432\n",
       "\n",
       "\n"
      ],
      "text/plain": [
       "[1] 42413   432"
      ]
     },
     "metadata": {},
     "output_type": "display_data"
    },
    {
     "data": {
      "text/html": [
       "<ol class=list-inline>\n",
       "\t<li>42413</li>\n",
       "\t<li>430</li>\n",
       "</ol>\n"
      ],
      "text/latex": [
       "\\begin{enumerate*}\n",
       "\\item 42413\n",
       "\\item 430\n",
       "\\end{enumerate*}\n"
      ],
      "text/markdown": [
       "1. 42413\n",
       "2. 430\n",
       "\n",
       "\n"
      ],
      "text/plain": [
       "[1] 42413   430"
      ]
     },
     "metadata": {},
     "output_type": "display_data"
    },
    {
     "data": {
      "text/html": [
       "<ol class=list-inline>\n",
       "\t<li>42413</li>\n",
       "\t<li>349</li>\n",
       "</ol>\n"
      ],
      "text/latex": [
       "\\begin{enumerate*}\n",
       "\\item 42413\n",
       "\\item 349\n",
       "\\end{enumerate*}\n"
      ],
      "text/markdown": [
       "1. 42413\n",
       "2. 349\n",
       "\n",
       "\n"
      ],
      "text/plain": [
       "[1] 42413   349"
      ]
     },
     "metadata": {},
     "output_type": "display_data"
    }
   ],
   "source": [
    "# fun to process each file\n",
    "readCountMatrix <- function(sample, dir){\n",
    "    file <- paste(dir, sample, \"_fc.counts\", sep='')\n",
    "    d <- read.table(file, sep='\\t', header=1)\n",
    "    colnames(d) <- c('gene', 'chr', 'start', 'end', 'strand', 'length', sample)\n",
    "    rownames(d) <- d$gene\n",
    "    d <- d %>% dplyr::select(sample)\n",
    "    return(d)\n",
    "}\n",
    "\n",
    "\n",
    "#### create 2017 counts matrix\n",
    "counts2017 <- list.files(path=\"2017_featureCounts/\", pattern=\"*.counts$\", recursive=FALSE)\n",
    "counts2017 <- stringr::str_remove(counts2017, \"_fc.counts\")\n",
    "x <- lapply(X=counts2017, FUN=readCountMatrix, dir=\"2017_featureCounts/\")\n",
    "\n",
    "counts_2017 <- x[[1]]\n",
    "for (ix in 2:length(x)){\n",
    "    counts_2017 <- merge(counts_2017, x[[ix]], by=0)\n",
    "    rownames(counts_2017) <- counts_2017$Row.names\n",
    "    counts_2017$Row.names <- NULL\n",
    "}\n",
    "dim(counts_2017)\n",
    "\n",
    "#### create 2018 counts matrix\n",
    "counts2018 <- list.files(path=\"2018_featureCounts/\", pattern=\"*.counts$\", recursive=FALSE)\n",
    "counts2018 <- stringr::str_remove(counts2018, \"_fc.counts\")\n",
    "x <- lapply(X=counts2018, FUN=readCountMatrix, dir=\"2018_featureCounts/\")\n",
    "\n",
    "counts_2018 <- x[[1]]\n",
    "for (ix in 2:length(x)){\n",
    "    counts_2018 <- merge(counts_2018, x[[ix]], by=0)\n",
    "    rownames(counts_2018) <- counts_2018$Row.names\n",
    "    counts_2018$Row.names <- NULL\n",
    "}\n",
    "dim(counts_2018)\n",
    "\n",
    "#### create 2019 counts matrix\n",
    "counts2019 <- list.files(path=\"2019_featureCounts/\", pattern=\"A1Y3.*counts$\", recursive=FALSE)\n",
    "counts2019 <- stringr::str_remove(counts2019, \"_fc.counts\")\n",
    "x <- lapply(X=counts2019, FUN=readCountMatrix, dir=\"2019_featureCounts/\")\n",
    "\n",
    "counts_2019 <- x[[1]]\n",
    "for (ix in 2:length(x)){\n",
    "    counts_2019 <- merge(counts_2019, x[[ix]], by=0)\n",
    "    rownames(counts_2019) <- counts_2019$Row.names\n",
    "    counts_2019$Row.names <- NULL\n",
    "}\n",
    "\n",
    "dim(counts_2019)"
   ]
  },
  {
   "cell_type": "code",
   "execution_count": 139,
   "metadata": {},
   "outputs": [
    {
     "data": {
      "text/html": [
       "<ol class=list-inline>\n",
       "\t<li>42413</li>\n",
       "\t<li>1211</li>\n",
       "</ol>\n"
      ],
      "text/latex": [
       "\\begin{enumerate*}\n",
       "\\item 42413\n",
       "\\item 1211\n",
       "\\end{enumerate*}\n"
      ],
      "text/markdown": [
       "1. 42413\n",
       "2. 1211\n",
       "\n",
       "\n"
      ],
      "text/plain": [
       "[1] 42413  1211"
      ]
     },
     "metadata": {},
     "output_type": "display_data"
    }
   ],
   "source": [
    "counts <- merge(counts_2017, counts_2018, by=0)\n",
    "rownames(counts) <- counts$Row.names\n",
    "counts$Row.names <- NULL\n",
    "\n",
    "counts <- merge(counts, counts_2019, by=0)\n",
    "rownames(counts) <- counts$Row.names\n",
    "counts$Row.names <- NULL\n",
    "\n",
    "dim(counts)"
   ]
  },
  {
   "cell_type": "markdown",
   "metadata": {},
   "source": [
    "## Filter samples not in metdata"
   ]
  },
  {
   "cell_type": "code",
   "execution_count": 140,
   "metadata": {},
   "outputs": [
    {
     "data": {
      "text/html": [
       "<ol class=list-inline>\n",
       "\t<li>42413</li>\n",
       "\t<li>1178</li>\n",
       "</ol>\n"
      ],
      "text/latex": [
       "\\begin{enumerate*}\n",
       "\\item 42413\n",
       "\\item 1178\n",
       "\\end{enumerate*}\n"
      ],
      "text/markdown": [
       "1. 42413\n",
       "2. 1178\n",
       "\n",
       "\n"
      ],
      "text/plain": [
       "[1] 42413  1178"
      ]
     },
     "metadata": {},
     "output_type": "display_data"
    }
   ],
   "source": [
    "counts <- counts[,(colnames(counts) %in% rownames(treatments))]\n",
    "dim(counts)"
   ]
  },
  {
   "cell_type": "code",
   "execution_count": 141,
   "metadata": {},
   "outputs": [
    {
     "data": {
      "text/html": [
       "<ol class=list-inline>\n",
       "\t<li>1178</li>\n",
       "\t<li>9</li>\n",
       "</ol>\n"
      ],
      "text/latex": [
       "\\begin{enumerate*}\n",
       "\\item 1178\n",
       "\\item 9\n",
       "\\end{enumerate*}\n"
      ],
      "text/markdown": [
       "1. 1178\n",
       "2. 9\n",
       "\n",
       "\n"
      ],
      "text/plain": [
       "[1] 1178    9"
      ]
     },
     "metadata": {},
     "output_type": "display_data"
    }
   ],
   "source": [
    "treatments <- treatments[rownames(treatments) %in% colnames(counts),]\n",
    "dim(treatments)"
   ]
  },
  {
   "cell_type": "code",
   "execution_count": 142,
   "metadata": {},
   "outputs": [
    {
     "data": {
      "text/html": [
       "<ol class=list-inline>\n",
       "\t<li>42413</li>\n",
       "\t<li>1178</li>\n",
       "</ol>\n"
      ],
      "text/latex": [
       "\\begin{enumerate*}\n",
       "\\item 42413\n",
       "\\item 1178\n",
       "\\end{enumerate*}\n"
      ],
      "text/markdown": [
       "1. 42413\n",
       "2. 1178\n",
       "\n",
       "\n"
      ],
      "text/plain": [
       "[1] 42413  1178"
      ]
     },
     "metadata": {},
     "output_type": "display_data"
    }
   ],
   "source": [
    "#reorder for DESeq2 ?!\n",
    "counts <- counts %>% dplyr::select(rownames(treatments))\n",
    "dim(counts)"
   ]
  },
  {
   "cell_type": "markdown",
   "metadata": {},
   "source": [
    "# Fit and Save DESeq2 _dds_ objects"
   ]
  },
  {
   "cell_type": "code",
   "execution_count": 144,
   "metadata": {},
   "outputs": [
    {
     "name": "stderr",
     "output_type": "stream",
     "text": [
      "estimating size factors\n",
      "estimating dispersions\n",
      "gene-wise dispersion estimates\n",
      "mean-dispersion relationship\n",
      "final dispersion estimates\n",
      "fitting model and testing\n"
     ]
    }
   ],
   "source": [
    "#model cannot include row because row and irrigation correlate\n",
    "dds <- DESeqDataSetFromMatrix(countData=as.matrix(counts), colData=treatments, \n",
    "                              design= ~Block + Irrigation + Year + Phenology + Rootstock + Tissue)\n",
    "dds <- DESeq(dds)"
   ]
  },
  {
   "cell_type": "code",
   "execution_count": 145,
   "metadata": {},
   "outputs": [],
   "source": [
    "save(dds, file='/xfs2/zachary.n.harris/MtVernon_sam/2019/1719_full_model_dds.Rdata')"
   ]
  },
  {
   "cell_type": "code",
   "execution_count": 3,
   "metadata": {},
   "outputs": [],
   "source": [
    "#on rerunning\n",
    "#load('1718_full_model_dds.Rdata')"
   ]
  },
  {
   "cell_type": "markdown",
   "metadata": {},
   "source": [
    "## Quick and dirty counting for various filtering"
   ]
  },
  {
   "cell_type": "code",
   "execution_count": 146,
   "metadata": {},
   "outputs": [
    {
     "data": {
      "text/html": [
       "<table>\n",
       "<caption>A matrix: 20 × 20 of type int</caption>\n",
       "<tbody>\n",
       "\t<tr><td>37124</td><td>31876</td><td>28938</td><td>27180</td><td>26048</td><td>25229</td><td>24626</td><td>24173</td><td>23727</td><td>23395</td><td>22887</td><td>22640</td><td>22368</td><td>22131</td><td>21922</td><td>21717</td><td>21524</td><td>21362</td><td>21197</td><td>21035</td></tr>\n",
       "\t<tr><td>34909</td><td>29685</td><td>27271</td><td>25738</td><td>24817</td><td>24133</td><td>23579</td><td>23191</td><td>22756</td><td>22440</td><td>22084</td><td>21827</td><td>21591</td><td>21354</td><td>21175</td><td>20950</td><td>20754</td><td>20586</td><td>20408</td><td>20240</td></tr>\n",
       "\t<tr><td>33580</td><td>28702</td><td>26452</td><td>25129</td><td>24293</td><td>23644</td><td>23099</td><td>22680</td><td>22316</td><td>22017</td><td>21672</td><td>21409</td><td>21209</td><td>20977</td><td>20787</td><td>20579</td><td>20354</td><td>20166</td><td>19985</td><td>19809</td></tr>\n",
       "\t<tr><td>32721</td><td>28090</td><td>25996</td><td>24769</td><td>23967</td><td>23324</td><td>22813</td><td>22419</td><td>22060</td><td>21762</td><td>21430</td><td>21213</td><td>20975</td><td>20730</td><td>20518</td><td>20305</td><td>20100</td><td>19907</td><td>19705</td><td>19523</td></tr>\n",
       "\t<tr><td>32062</td><td>27631</td><td>25676</td><td>24508</td><td>23710</td><td>23116</td><td>22605</td><td>22253</td><td>21862</td><td>21576</td><td>21248</td><td>21009</td><td>20773</td><td>20534</td><td>20310</td><td>20102</td><td>19890</td><td>19696</td><td>19510</td><td>19342</td></tr>\n",
       "\t<tr><td>31552</td><td>27315</td><td>25443</td><td>24302</td><td>23518</td><td>22933</td><td>22442</td><td>22084</td><td>21704</td><td>21415</td><td>21102</td><td>20855</td><td>20620</td><td>20349</td><td>20150</td><td>19945</td><td>19720</td><td>19534</td><td>19353</td><td>19185</td></tr>\n",
       "\t<tr><td>31116</td><td>27026</td><td>25217</td><td>24133</td><td>23358</td><td>22792</td><td>22316</td><td>21946</td><td>21578</td><td>21279</td><td>20979</td><td>20726</td><td>20487</td><td>20224</td><td>20035</td><td>19831</td><td>19598</td><td>19407</td><td>19228</td><td>19063</td></tr>\n",
       "\t<tr><td>30746</td><td>26767</td><td>25040</td><td>23963</td><td>23213</td><td>22662</td><td>22199</td><td>21822</td><td>21481</td><td>21146</td><td>20871</td><td>20613</td><td>20364</td><td>20129</td><td>19916</td><td>19687</td><td>19473</td><td>19291</td><td>19112</td><td>18955</td></tr>\n",
       "\t<tr><td>30413</td><td>26566</td><td>24888</td><td>23839</td><td>23098</td><td>22556</td><td>22087</td><td>21719</td><td>21395</td><td>21047</td><td>20777</td><td>20506</td><td>20262</td><td>20036</td><td>19791</td><td>19581</td><td>19383</td><td>19189</td><td>19002</td><td>18866</td></tr>\n",
       "\t<tr><td>30119</td><td>26398</td><td>24746</td><td>23741</td><td>23009</td><td>22474</td><td>21995</td><td>21630</td><td>21294</td><td>20969</td><td>20684</td><td>20413</td><td>20188</td><td>19940</td><td>19706</td><td>19493</td><td>19283</td><td>19099</td><td>18933</td><td>18787</td></tr>\n",
       "\t<tr><td>29868</td><td>26245</td><td>24625</td><td>23634</td><td>22906</td><td>22389</td><td>21909</td><td>21553</td><td>21224</td><td>20882</td><td>20605</td><td>20333</td><td>20097</td><td>19843</td><td>19605</td><td>19396</td><td>19210</td><td>19018</td><td>18863</td><td>18704</td></tr>\n",
       "\t<tr><td>29622</td><td>26121</td><td>24509</td><td>23543</td><td>22832</td><td>22301</td><td>21826</td><td>21496</td><td>21125</td><td>20808</td><td>20527</td><td>20264</td><td>20034</td><td>19771</td><td>19537</td><td>19315</td><td>19129</td><td>18949</td><td>18788</td><td>18616</td></tr>\n",
       "\t<tr><td>29406</td><td>25991</td><td>24404</td><td>23457</td><td>22760</td><td>22222</td><td>21764</td><td>21424</td><td>21057</td><td>20758</td><td>20466</td><td>20202</td><td>19962</td><td>19697</td><td>19459</td><td>19248</td><td>19051</td><td>18867</td><td>18724</td><td>18543</td></tr>\n",
       "\t<tr><td>29216</td><td>25878</td><td>24314</td><td>23364</td><td>22699</td><td>22149</td><td>21696</td><td>21347</td><td>20985</td><td>20686</td><td>20384</td><td>20115</td><td>19871</td><td>19619</td><td>19388</td><td>19194</td><td>18989</td><td>18812</td><td>18645</td><td>18480</td></tr>\n",
       "\t<tr><td>29061</td><td>25778</td><td>24242</td><td>23307</td><td>22638</td><td>22092</td><td>21636</td><td>21288</td><td>20916</td><td>20621</td><td>20325</td><td>20064</td><td>19807</td><td>19555</td><td>19337</td><td>19147</td><td>18936</td><td>18760</td><td>18589</td><td>18433</td></tr>\n",
       "\t<tr><td>28902</td><td>25676</td><td>24158</td><td>23225</td><td>22556</td><td>22030</td><td>21565</td><td>21237</td><td>20865</td><td>20567</td><td>20259</td><td>20008</td><td>19745</td><td>19498</td><td>19282</td><td>19085</td><td>18879</td><td>18695</td><td>18542</td><td>18372</td></tr>\n",
       "\t<tr><td>28757</td><td>25568</td><td>24086</td><td>23170</td><td>22497</td><td>21974</td><td>21517</td><td>21172</td><td>20810</td><td>20496</td><td>20206</td><td>19964</td><td>19689</td><td>19435</td><td>19234</td><td>19028</td><td>18828</td><td>18647</td><td>18486</td><td>18334</td></tr>\n",
       "\t<tr><td>28626</td><td>25468</td><td>24020</td><td>23109</td><td>22435</td><td>21921</td><td>21462</td><td>21117</td><td>20756</td><td>20444</td><td>20151</td><td>19905</td><td>19645</td><td>19383</td><td>19192</td><td>18972</td><td>18771</td><td>18600</td><td>18439</td><td>18272</td></tr>\n",
       "\t<tr><td>28487</td><td>25378</td><td>23945</td><td>23046</td><td>22384</td><td>21863</td><td>21416</td><td>21065</td><td>20703</td><td>20402</td><td>20095</td><td>19846</td><td>19591</td><td>19337</td><td>19135</td><td>18916</td><td>18716</td><td>18552</td><td>18403</td><td>18223</td></tr>\n",
       "\t<tr><td>28366</td><td>25308</td><td>23899</td><td>22990</td><td>22343</td><td>21813</td><td>21375</td><td>21013</td><td>20658</td><td>20353</td><td>20052</td><td>19797</td><td>19550</td><td>19291</td><td>19096</td><td>18871</td><td>18675</td><td>18509</td><td>18357</td><td>18178</td></tr>\n",
       "</tbody>\n",
       "</table>\n"
      ],
      "text/latex": [
       "A matrix: 20 × 20 of type int\n",
       "\\begin{tabular}{llllllllllllllllllll}\n",
       "\t 37124 & 31876 & 28938 & 27180 & 26048 & 25229 & 24626 & 24173 & 23727 & 23395 & 22887 & 22640 & 22368 & 22131 & 21922 & 21717 & 21524 & 21362 & 21197 & 21035\\\\\n",
       "\t 34909 & 29685 & 27271 & 25738 & 24817 & 24133 & 23579 & 23191 & 22756 & 22440 & 22084 & 21827 & 21591 & 21354 & 21175 & 20950 & 20754 & 20586 & 20408 & 20240\\\\\n",
       "\t 33580 & 28702 & 26452 & 25129 & 24293 & 23644 & 23099 & 22680 & 22316 & 22017 & 21672 & 21409 & 21209 & 20977 & 20787 & 20579 & 20354 & 20166 & 19985 & 19809\\\\\n",
       "\t 32721 & 28090 & 25996 & 24769 & 23967 & 23324 & 22813 & 22419 & 22060 & 21762 & 21430 & 21213 & 20975 & 20730 & 20518 & 20305 & 20100 & 19907 & 19705 & 19523\\\\\n",
       "\t 32062 & 27631 & 25676 & 24508 & 23710 & 23116 & 22605 & 22253 & 21862 & 21576 & 21248 & 21009 & 20773 & 20534 & 20310 & 20102 & 19890 & 19696 & 19510 & 19342\\\\\n",
       "\t 31552 & 27315 & 25443 & 24302 & 23518 & 22933 & 22442 & 22084 & 21704 & 21415 & 21102 & 20855 & 20620 & 20349 & 20150 & 19945 & 19720 & 19534 & 19353 & 19185\\\\\n",
       "\t 31116 & 27026 & 25217 & 24133 & 23358 & 22792 & 22316 & 21946 & 21578 & 21279 & 20979 & 20726 & 20487 & 20224 & 20035 & 19831 & 19598 & 19407 & 19228 & 19063\\\\\n",
       "\t 30746 & 26767 & 25040 & 23963 & 23213 & 22662 & 22199 & 21822 & 21481 & 21146 & 20871 & 20613 & 20364 & 20129 & 19916 & 19687 & 19473 & 19291 & 19112 & 18955\\\\\n",
       "\t 30413 & 26566 & 24888 & 23839 & 23098 & 22556 & 22087 & 21719 & 21395 & 21047 & 20777 & 20506 & 20262 & 20036 & 19791 & 19581 & 19383 & 19189 & 19002 & 18866\\\\\n",
       "\t 30119 & 26398 & 24746 & 23741 & 23009 & 22474 & 21995 & 21630 & 21294 & 20969 & 20684 & 20413 & 20188 & 19940 & 19706 & 19493 & 19283 & 19099 & 18933 & 18787\\\\\n",
       "\t 29868 & 26245 & 24625 & 23634 & 22906 & 22389 & 21909 & 21553 & 21224 & 20882 & 20605 & 20333 & 20097 & 19843 & 19605 & 19396 & 19210 & 19018 & 18863 & 18704\\\\\n",
       "\t 29622 & 26121 & 24509 & 23543 & 22832 & 22301 & 21826 & 21496 & 21125 & 20808 & 20527 & 20264 & 20034 & 19771 & 19537 & 19315 & 19129 & 18949 & 18788 & 18616\\\\\n",
       "\t 29406 & 25991 & 24404 & 23457 & 22760 & 22222 & 21764 & 21424 & 21057 & 20758 & 20466 & 20202 & 19962 & 19697 & 19459 & 19248 & 19051 & 18867 & 18724 & 18543\\\\\n",
       "\t 29216 & 25878 & 24314 & 23364 & 22699 & 22149 & 21696 & 21347 & 20985 & 20686 & 20384 & 20115 & 19871 & 19619 & 19388 & 19194 & 18989 & 18812 & 18645 & 18480\\\\\n",
       "\t 29061 & 25778 & 24242 & 23307 & 22638 & 22092 & 21636 & 21288 & 20916 & 20621 & 20325 & 20064 & 19807 & 19555 & 19337 & 19147 & 18936 & 18760 & 18589 & 18433\\\\\n",
       "\t 28902 & 25676 & 24158 & 23225 & 22556 & 22030 & 21565 & 21237 & 20865 & 20567 & 20259 & 20008 & 19745 & 19498 & 19282 & 19085 & 18879 & 18695 & 18542 & 18372\\\\\n",
       "\t 28757 & 25568 & 24086 & 23170 & 22497 & 21974 & 21517 & 21172 & 20810 & 20496 & 20206 & 19964 & 19689 & 19435 & 19234 & 19028 & 18828 & 18647 & 18486 & 18334\\\\\n",
       "\t 28626 & 25468 & 24020 & 23109 & 22435 & 21921 & 21462 & 21117 & 20756 & 20444 & 20151 & 19905 & 19645 & 19383 & 19192 & 18972 & 18771 & 18600 & 18439 & 18272\\\\\n",
       "\t 28487 & 25378 & 23945 & 23046 & 22384 & 21863 & 21416 & 21065 & 20703 & 20402 & 20095 & 19846 & 19591 & 19337 & 19135 & 18916 & 18716 & 18552 & 18403 & 18223\\\\\n",
       "\t 28366 & 25308 & 23899 & 22990 & 22343 & 21813 & 21375 & 21013 & 20658 & 20353 & 20052 & 19797 & 19550 & 19291 & 19096 & 18871 & 18675 & 18509 & 18357 & 18178\\\\\n",
       "\\end{tabular}\n"
      ],
      "text/markdown": [
       "\n",
       "A matrix: 20 × 20 of type int\n",
       "\n",
       "| 37124 | 31876 | 28938 | 27180 | 26048 | 25229 | 24626 | 24173 | 23727 | 23395 | 22887 | 22640 | 22368 | 22131 | 21922 | 21717 | 21524 | 21362 | 21197 | 21035 |\n",
       "| 34909 | 29685 | 27271 | 25738 | 24817 | 24133 | 23579 | 23191 | 22756 | 22440 | 22084 | 21827 | 21591 | 21354 | 21175 | 20950 | 20754 | 20586 | 20408 | 20240 |\n",
       "| 33580 | 28702 | 26452 | 25129 | 24293 | 23644 | 23099 | 22680 | 22316 | 22017 | 21672 | 21409 | 21209 | 20977 | 20787 | 20579 | 20354 | 20166 | 19985 | 19809 |\n",
       "| 32721 | 28090 | 25996 | 24769 | 23967 | 23324 | 22813 | 22419 | 22060 | 21762 | 21430 | 21213 | 20975 | 20730 | 20518 | 20305 | 20100 | 19907 | 19705 | 19523 |\n",
       "| 32062 | 27631 | 25676 | 24508 | 23710 | 23116 | 22605 | 22253 | 21862 | 21576 | 21248 | 21009 | 20773 | 20534 | 20310 | 20102 | 19890 | 19696 | 19510 | 19342 |\n",
       "| 31552 | 27315 | 25443 | 24302 | 23518 | 22933 | 22442 | 22084 | 21704 | 21415 | 21102 | 20855 | 20620 | 20349 | 20150 | 19945 | 19720 | 19534 | 19353 | 19185 |\n",
       "| 31116 | 27026 | 25217 | 24133 | 23358 | 22792 | 22316 | 21946 | 21578 | 21279 | 20979 | 20726 | 20487 | 20224 | 20035 | 19831 | 19598 | 19407 | 19228 | 19063 |\n",
       "| 30746 | 26767 | 25040 | 23963 | 23213 | 22662 | 22199 | 21822 | 21481 | 21146 | 20871 | 20613 | 20364 | 20129 | 19916 | 19687 | 19473 | 19291 | 19112 | 18955 |\n",
       "| 30413 | 26566 | 24888 | 23839 | 23098 | 22556 | 22087 | 21719 | 21395 | 21047 | 20777 | 20506 | 20262 | 20036 | 19791 | 19581 | 19383 | 19189 | 19002 | 18866 |\n",
       "| 30119 | 26398 | 24746 | 23741 | 23009 | 22474 | 21995 | 21630 | 21294 | 20969 | 20684 | 20413 | 20188 | 19940 | 19706 | 19493 | 19283 | 19099 | 18933 | 18787 |\n",
       "| 29868 | 26245 | 24625 | 23634 | 22906 | 22389 | 21909 | 21553 | 21224 | 20882 | 20605 | 20333 | 20097 | 19843 | 19605 | 19396 | 19210 | 19018 | 18863 | 18704 |\n",
       "| 29622 | 26121 | 24509 | 23543 | 22832 | 22301 | 21826 | 21496 | 21125 | 20808 | 20527 | 20264 | 20034 | 19771 | 19537 | 19315 | 19129 | 18949 | 18788 | 18616 |\n",
       "| 29406 | 25991 | 24404 | 23457 | 22760 | 22222 | 21764 | 21424 | 21057 | 20758 | 20466 | 20202 | 19962 | 19697 | 19459 | 19248 | 19051 | 18867 | 18724 | 18543 |\n",
       "| 29216 | 25878 | 24314 | 23364 | 22699 | 22149 | 21696 | 21347 | 20985 | 20686 | 20384 | 20115 | 19871 | 19619 | 19388 | 19194 | 18989 | 18812 | 18645 | 18480 |\n",
       "| 29061 | 25778 | 24242 | 23307 | 22638 | 22092 | 21636 | 21288 | 20916 | 20621 | 20325 | 20064 | 19807 | 19555 | 19337 | 19147 | 18936 | 18760 | 18589 | 18433 |\n",
       "| 28902 | 25676 | 24158 | 23225 | 22556 | 22030 | 21565 | 21237 | 20865 | 20567 | 20259 | 20008 | 19745 | 19498 | 19282 | 19085 | 18879 | 18695 | 18542 | 18372 |\n",
       "| 28757 | 25568 | 24086 | 23170 | 22497 | 21974 | 21517 | 21172 | 20810 | 20496 | 20206 | 19964 | 19689 | 19435 | 19234 | 19028 | 18828 | 18647 | 18486 | 18334 |\n",
       "| 28626 | 25468 | 24020 | 23109 | 22435 | 21921 | 21462 | 21117 | 20756 | 20444 | 20151 | 19905 | 19645 | 19383 | 19192 | 18972 | 18771 | 18600 | 18439 | 18272 |\n",
       "| 28487 | 25378 | 23945 | 23046 | 22384 | 21863 | 21416 | 21065 | 20703 | 20402 | 20095 | 19846 | 19591 | 19337 | 19135 | 18916 | 18716 | 18552 | 18403 | 18223 |\n",
       "| 28366 | 25308 | 23899 | 22990 | 22343 | 21813 | 21375 | 21013 | 20658 | 20353 | 20052 | 19797 | 19550 | 19291 | 19096 | 18871 | 18675 | 18509 | 18357 | 18178 |\n",
       "\n"
      ],
      "text/plain": [
       "      [,1]  [,2]  [,3]  [,4]  [,5]  [,6]  [,7]  [,8]  [,9]  [,10] [,11] [,12]\n",
       " [1,] 37124 31876 28938 27180 26048 25229 24626 24173 23727 23395 22887 22640\n",
       " [2,] 34909 29685 27271 25738 24817 24133 23579 23191 22756 22440 22084 21827\n",
       " [3,] 33580 28702 26452 25129 24293 23644 23099 22680 22316 22017 21672 21409\n",
       " [4,] 32721 28090 25996 24769 23967 23324 22813 22419 22060 21762 21430 21213\n",
       " [5,] 32062 27631 25676 24508 23710 23116 22605 22253 21862 21576 21248 21009\n",
       " [6,] 31552 27315 25443 24302 23518 22933 22442 22084 21704 21415 21102 20855\n",
       " [7,] 31116 27026 25217 24133 23358 22792 22316 21946 21578 21279 20979 20726\n",
       " [8,] 30746 26767 25040 23963 23213 22662 22199 21822 21481 21146 20871 20613\n",
       " [9,] 30413 26566 24888 23839 23098 22556 22087 21719 21395 21047 20777 20506\n",
       "[10,] 30119 26398 24746 23741 23009 22474 21995 21630 21294 20969 20684 20413\n",
       "[11,] 29868 26245 24625 23634 22906 22389 21909 21553 21224 20882 20605 20333\n",
       "[12,] 29622 26121 24509 23543 22832 22301 21826 21496 21125 20808 20527 20264\n",
       "[13,] 29406 25991 24404 23457 22760 22222 21764 21424 21057 20758 20466 20202\n",
       "[14,] 29216 25878 24314 23364 22699 22149 21696 21347 20985 20686 20384 20115\n",
       "[15,] 29061 25778 24242 23307 22638 22092 21636 21288 20916 20621 20325 20064\n",
       "[16,] 28902 25676 24158 23225 22556 22030 21565 21237 20865 20567 20259 20008\n",
       "[17,] 28757 25568 24086 23170 22497 21974 21517 21172 20810 20496 20206 19964\n",
       "[18,] 28626 25468 24020 23109 22435 21921 21462 21117 20756 20444 20151 19905\n",
       "[19,] 28487 25378 23945 23046 22384 21863 21416 21065 20703 20402 20095 19846\n",
       "[20,] 28366 25308 23899 22990 22343 21813 21375 21013 20658 20353 20052 19797\n",
       "      [,13] [,14] [,15] [,16] [,17] [,18] [,19] [,20]\n",
       " [1,] 22368 22131 21922 21717 21524 21362 21197 21035\n",
       " [2,] 21591 21354 21175 20950 20754 20586 20408 20240\n",
       " [3,] 21209 20977 20787 20579 20354 20166 19985 19809\n",
       " [4,] 20975 20730 20518 20305 20100 19907 19705 19523\n",
       " [5,] 20773 20534 20310 20102 19890 19696 19510 19342\n",
       " [6,] 20620 20349 20150 19945 19720 19534 19353 19185\n",
       " [7,] 20487 20224 20035 19831 19598 19407 19228 19063\n",
       " [8,] 20364 20129 19916 19687 19473 19291 19112 18955\n",
       " [9,] 20262 20036 19791 19581 19383 19189 19002 18866\n",
       "[10,] 20188 19940 19706 19493 19283 19099 18933 18787\n",
       "[11,] 20097 19843 19605 19396 19210 19018 18863 18704\n",
       "[12,] 20034 19771 19537 19315 19129 18949 18788 18616\n",
       "[13,] 19962 19697 19459 19248 19051 18867 18724 18543\n",
       "[14,] 19871 19619 19388 19194 18989 18812 18645 18480\n",
       "[15,] 19807 19555 19337 19147 18936 18760 18589 18433\n",
       "[16,] 19745 19498 19282 19085 18879 18695 18542 18372\n",
       "[17,] 19689 19435 19234 19028 18828 18647 18486 18334\n",
       "[18,] 19645 19383 19192 18972 18771 18600 18439 18272\n",
       "[19,] 19591 19337 19135 18916 18716 18552 18403 18223\n",
       "[20,] 19550 19291 19096 18871 18675 18509 18357 18178"
      ]
     },
     "metadata": {},
     "output_type": "display_data"
    }
   ],
   "source": [
    "mat <- matrix(nrow=20, ncol=20)\n",
    "\n",
    "for (count in 1:20){\n",
    "    for (samples in 1:20){\n",
    "        idx <- rowSums( counts(dds, normalized=TRUE) >= count ) >= samples\n",
    "        genes <- rownames(dds)[idx]\n",
    "        #remove gene always has weirdly high count\n",
    "        idx <- idx[-which(genes == 'Vitvi19g01871')]\n",
    "        genes <- genes[-which(genes == 'Vitvi19g01871')]\n",
    "        mat[samples, count] <- length(genes)    \n",
    "    }      \n",
    "}\n",
    "\n",
    "mat"
   ]
  },
  {
   "cell_type": "code",
   "execution_count": 147,
   "metadata": {},
   "outputs": [
    {
     "data": {
      "text/html": [
       "<table>\n",
       "<caption>A matrix: 10 × 10 of type int</caption>\n",
       "<tbody>\n",
       "\t<tr><td>16282</td><td>16169</td><td>16039</td><td>15938</td><td>15807</td><td>15701</td><td>15575</td><td>15471</td><td>15380</td><td>15280</td></tr>\n",
       "\t<tr><td>16254</td><td>16143</td><td>16012</td><td>15904</td><td>15777</td><td>15667</td><td>15541</td><td>15441</td><td>15351</td><td>15241</td></tr>\n",
       "\t<tr><td>16223</td><td>16114</td><td>15989</td><td>15874</td><td>15749</td><td>15628</td><td>15507</td><td>15408</td><td>15316</td><td>15210</td></tr>\n",
       "\t<tr><td>16203</td><td>16073</td><td>15957</td><td>15848</td><td>15715</td><td>15593</td><td>15478</td><td>15380</td><td>15276</td><td>15165</td></tr>\n",
       "\t<tr><td>16180</td><td>16044</td><td>15926</td><td>15808</td><td>15691</td><td>15570</td><td>15451</td><td>15351</td><td>15250</td><td>15137</td></tr>\n",
       "\t<tr><td>16143</td><td>16016</td><td>15897</td><td>15779</td><td>15653</td><td>15541</td><td>15420</td><td>15326</td><td>15215</td><td>15115</td></tr>\n",
       "\t<tr><td>16111</td><td>15973</td><td>15863</td><td>15739</td><td>15618</td><td>15511</td><td>15388</td><td>15296</td><td>15184</td><td>15089</td></tr>\n",
       "\t<tr><td>16073</td><td>15957</td><td>15830</td><td>15706</td><td>15596</td><td>15478</td><td>15366</td><td>15267</td><td>15156</td><td>15065</td></tr>\n",
       "\t<tr><td>16040</td><td>15929</td><td>15799</td><td>15687</td><td>15569</td><td>15453</td><td>15340</td><td>15243</td><td>15127</td><td>15041</td></tr>\n",
       "\t<tr><td>16017</td><td>15900</td><td>15768</td><td>15660</td><td>15540</td><td>15430</td><td>15322</td><td>15215</td><td>15109</td><td>15012</td></tr>\n",
       "</tbody>\n",
       "</table>\n"
      ],
      "text/latex": [
       "A matrix: 10 × 10 of type int\n",
       "\\begin{tabular}{llllllllll}\n",
       "\t 16282 & 16169 & 16039 & 15938 & 15807 & 15701 & 15575 & 15471 & 15380 & 15280\\\\\n",
       "\t 16254 & 16143 & 16012 & 15904 & 15777 & 15667 & 15541 & 15441 & 15351 & 15241\\\\\n",
       "\t 16223 & 16114 & 15989 & 15874 & 15749 & 15628 & 15507 & 15408 & 15316 & 15210\\\\\n",
       "\t 16203 & 16073 & 15957 & 15848 & 15715 & 15593 & 15478 & 15380 & 15276 & 15165\\\\\n",
       "\t 16180 & 16044 & 15926 & 15808 & 15691 & 15570 & 15451 & 15351 & 15250 & 15137\\\\\n",
       "\t 16143 & 16016 & 15897 & 15779 & 15653 & 15541 & 15420 & 15326 & 15215 & 15115\\\\\n",
       "\t 16111 & 15973 & 15863 & 15739 & 15618 & 15511 & 15388 & 15296 & 15184 & 15089\\\\\n",
       "\t 16073 & 15957 & 15830 & 15706 & 15596 & 15478 & 15366 & 15267 & 15156 & 15065\\\\\n",
       "\t 16040 & 15929 & 15799 & 15687 & 15569 & 15453 & 15340 & 15243 & 15127 & 15041\\\\\n",
       "\t 16017 & 15900 & 15768 & 15660 & 15540 & 15430 & 15322 & 15215 & 15109 & 15012\\\\\n",
       "\\end{tabular}\n"
      ],
      "text/markdown": [
       "\n",
       "A matrix: 10 × 10 of type int\n",
       "\n",
       "| 16282 | 16169 | 16039 | 15938 | 15807 | 15701 | 15575 | 15471 | 15380 | 15280 |\n",
       "| 16254 | 16143 | 16012 | 15904 | 15777 | 15667 | 15541 | 15441 | 15351 | 15241 |\n",
       "| 16223 | 16114 | 15989 | 15874 | 15749 | 15628 | 15507 | 15408 | 15316 | 15210 |\n",
       "| 16203 | 16073 | 15957 | 15848 | 15715 | 15593 | 15478 | 15380 | 15276 | 15165 |\n",
       "| 16180 | 16044 | 15926 | 15808 | 15691 | 15570 | 15451 | 15351 | 15250 | 15137 |\n",
       "| 16143 | 16016 | 15897 | 15779 | 15653 | 15541 | 15420 | 15326 | 15215 | 15115 |\n",
       "| 16111 | 15973 | 15863 | 15739 | 15618 | 15511 | 15388 | 15296 | 15184 | 15089 |\n",
       "| 16073 | 15957 | 15830 | 15706 | 15596 | 15478 | 15366 | 15267 | 15156 | 15065 |\n",
       "| 16040 | 15929 | 15799 | 15687 | 15569 | 15453 | 15340 | 15243 | 15127 | 15041 |\n",
       "| 16017 | 15900 | 15768 | 15660 | 15540 | 15430 | 15322 | 15215 | 15109 | 15012 |\n",
       "\n"
      ],
      "text/plain": [
       "      [,1]  [,2]  [,3]  [,4]  [,5]  [,6]  [,7]  [,8]  [,9]  [,10]\n",
       " [1,] 16282 16169 16039 15938 15807 15701 15575 15471 15380 15280\n",
       " [2,] 16254 16143 16012 15904 15777 15667 15541 15441 15351 15241\n",
       " [3,] 16223 16114 15989 15874 15749 15628 15507 15408 15316 15210\n",
       " [4,] 16203 16073 15957 15848 15715 15593 15478 15380 15276 15165\n",
       " [5,] 16180 16044 15926 15808 15691 15570 15451 15351 15250 15137\n",
       " [6,] 16143 16016 15897 15779 15653 15541 15420 15326 15215 15115\n",
       " [7,] 16111 15973 15863 15739 15618 15511 15388 15296 15184 15089\n",
       " [8,] 16073 15957 15830 15706 15596 15478 15366 15267 15156 15065\n",
       " [9,] 16040 15929 15799 15687 15569 15453 15340 15243 15127 15041\n",
       "[10,] 16017 15900 15768 15660 15540 15430 15322 15215 15109 15012"
      ]
     },
     "metadata": {},
     "output_type": "display_data"
    }
   ],
   "source": [
    "mat <- matrix(nrow=10, ncol=10)\n",
    "\n",
    "for (count in 31:40){\n",
    "    for (samples in 31:40){\n",
    "        idx <- rowSums( counts(dds, normalized=TRUE) >= count ) >= samples\n",
    "        genes <- rownames(dds)[idx]\n",
    "        idx <- idx[-which(genes == 'Vitvi19g01871')]\n",
    "        genes <- genes[-which(genes == 'Vitvi19g01871')]\n",
    "        mat[samples-30, count-30] <- length(genes)    \n",
    "    }      \n",
    "}\n",
    "\n",
    "mat"
   ]
  },
  {
   "cell_type": "markdown",
   "metadata": {},
   "source": [
    "## Actually filter and refit"
   ]
  },
  {
   "cell_type": "code",
   "execution_count": 148,
   "metadata": {},
   "outputs": [
    {
     "data": {
      "text/html": [
       "24769"
      ],
      "text/latex": [
       "24769"
      ],
      "text/markdown": [
       "24769"
      ],
      "text/plain": [
       "[1] 24769"
      ]
     },
     "metadata": {},
     "output_type": "display_data"
    }
   ],
   "source": [
    "#require count = 4 in > 4 samples\n",
    "idx <- rowSums( counts(dds, normalized=TRUE) >= 4 ) >= 4\n",
    "genes <- rownames(dds)[idx]\n",
    "\n",
    "#remove persistent outlier gene\n",
    "idx <- idx[-which(genes == 'Vitvi19g01871')]\n",
    "genes <- genes[-which(genes == 'Vitvi19g01871')]\n",
    "length(genes)"
   ]
  },
  {
   "cell_type": "code",
   "execution_count": 150,
   "metadata": {},
   "outputs": [
    {
     "name": "stderr",
     "output_type": "stream",
     "text": [
      "using pre-existing size factors\n",
      "estimating dispersions\n",
      "found already estimated dispersions, replacing these\n",
      "gene-wise dispersion estimates\n",
      "mean-dispersion relationship\n",
      "final dispersion estimates\n",
      "fitting model and testing\n"
     ]
    }
   ],
   "source": [
    "#re-estimate\n",
    "dds_filt <- dds[idx,]\n",
    "dds_filt <- DESeq(dds_filt)"
   ]
  },
  {
   "cell_type": "code",
   "execution_count": 151,
   "metadata": {},
   "outputs": [],
   "source": [
    "# write\n",
    "save(dds_filt, file='/xfs2/zachary.n.harris/MtVernon_sam/2019/1719_filt_model_dds.Rdata')"
   ]
  },
  {
   "cell_type": "markdown",
   "metadata": {},
   "source": [
    "# Transform for downstream analysis"
   ]
  },
  {
   "cell_type": "code",
   "execution_count": 153,
   "metadata": {},
   "outputs": [
    {
     "data": {
      "text/html": [
       "<ol class=list-inline>\n",
       "\t<li>1178</li>\n",
       "\t<li>24770</li>\n",
       "</ol>\n"
      ],
      "text/latex": [
       "\\begin{enumerate*}\n",
       "\\item 1178\n",
       "\\item 24770\n",
       "\\end{enumerate*}\n"
      ],
      "text/markdown": [
       "1. 1178\n",
       "2. 24770\n",
       "\n",
       "\n"
      ],
      "text/plain": [
       "[1]  1178 24770"
      ]
     },
     "metadata": {},
     "output_type": "display_data"
    },
    {
     "data": {
      "text/html": [
       "<ol class=list-inline>\n",
       "\t<li>1178</li>\n",
       "\t<li>24392</li>\n",
       "</ol>\n"
      ],
      "text/latex": [
       "\\begin{enumerate*}\n",
       "\\item 1178\n",
       "\\item 24392\n",
       "\\end{enumerate*}\n"
      ],
      "text/markdown": [
       "1. 1178\n",
       "2. 24392\n",
       "\n",
       "\n"
      ],
      "text/plain": [
       "[1]  1178 24392"
      ]
     },
     "metadata": {},
     "output_type": "display_data"
    }
   ],
   "source": [
    "#### Data Viz ####\n",
    "\n",
    "vsd <- vst(dds_filt, blind=FALSE)\n",
    "vsd <- assay(vsd)\n",
    "\n",
    "#vsd_counts <- assay(vsd)\n",
    "vsd_counts <- as.data.frame(t(vsd))\n",
    "dim(vsd_counts)\n",
    "\n",
    "vsd_counts_varFilt <- vsd_counts[,apply(vsd_counts, 2, sd) > 0]\n",
    "dim(vsd_counts_varFilt)\n",
    "\n",
    "save(vsd_counts_varFilt, file='/xfs2/zachary.n.harris/MtVernon_sam/2019/1719_VSD_counts_varFilt.Rdata')"
   ]
  },
  {
   "cell_type": "code",
   "execution_count": 154,
   "metadata": {},
   "outputs": [],
   "source": [
    "write.csv(treatments, file='1719_treatments.csv')"
   ]
  }
 ],
 "metadata": {
  "kernelspec": {
   "display_name": "R",
   "language": "R",
   "name": "ir"
  },
  "language_info": {
   "codemirror_mode": "r",
   "file_extension": ".r",
   "mimetype": "text/x-r-source",
   "name": "R",
   "pygments_lexer": "r",
   "version": "3.6.1"
  }
 },
 "nbformat": 4,
 "nbformat_minor": 2
}
