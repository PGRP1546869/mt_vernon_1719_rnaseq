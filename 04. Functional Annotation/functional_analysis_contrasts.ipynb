{
 "cells": [
  {
   "cell_type": "code",
   "execution_count": 1,
   "metadata": {},
   "outputs": [
    {
     "name": "stderr",
     "output_type": "stream",
     "text": [
      "Registered S3 method overwritten by 'rvest':\n",
      "  method            from\n",
      "  read_xml.response xml2\n",
      "-- Attaching packages --------------------------------------- tidyverse 1.2.1 --\n",
      "v ggplot2 3.3.5     v purrr   0.3.4\n",
      "v tibble  3.1.6     v dplyr   1.0.7\n",
      "v tidyr   1.1.4     v stringr 1.4.0\n",
      "v readr   1.3.1     v forcats 0.4.0\n",
      "-- Conflicts ------------------------------------------ tidyverse_conflicts() --\n",
      "x dplyr::filter() masks stats::filter()\n",
      "x dplyr::lag()    masks stats::lag()\n",
      "Warning message:\n",
      "\"package 'hash' was built under R version 3.6.3\"hash-3.0.1 provided by Decision Patterns\n",
      "\n",
      "Loading required package: viridisLite\n",
      "\n",
      "Attaching package: 'viridis'\n",
      "\n",
      "The following object is masked from 'package:viridisLite':\n",
      "\n",
      "    viridis.map\n",
      "\n",
      "Loading required package: grid\n",
      "Loading required package: futile.logger\n"
     ]
    }
   ],
   "source": [
    "library(tidyverse)\n",
    "library(hash)\n",
    "library(gprofiler2)\n",
    "library(viridis)\n",
    "library(VennDiagram)\n",
    "library(XML)\n",
    "library(httr)\n",
    "library(stringi)"
   ]
  },
  {
   "cell_type": "code",
   "execution_count": 2,
   "metadata": {},
   "outputs": [],
   "source": [
    "alpha <- 4.6e-4\n",
    "results_prefix <- '/data/projects/julia.pratt/CS1_genomeSelection/scripts/revigo/contrasts/COMPLETE/'\n",
    "sourcepreferences <- NULL"
   ]
  },
  {
   "cell_type": "code",
   "execution_count": 3,
   "metadata": {},
   "outputs": [],
   "source": [
    "# I AM ONLY DOING 2018\n",
    "# but you can do more years by adding the years to the proper list\n",
    "# change time points as necessary/desired\n",
    "\n",
    "tissues <- c('Leaf')\n",
    "years <- c('2018')\n",
    "phenos <- c('Anthesis', 'Veraison', 'Harvest')\n",
    "rootstocks <- c('Ungrafted', '1103P', '3309C', 'SO4')\n",
    "prefix <- '/data/projects/julia.pratt/CS1_genomeSelection/all_rootstock_comparisons/'\n",
    "\n",
    "stats <- list()\n",
    "dats <- list()\n",
    "skipped <- list()"
   ]
  },
  {
   "cell_type": "code",
   "execution_count": 4,
   "metadata": {},
   "outputs": [
    {
     "name": "stderr",
     "output_type": "stream",
     "text": [
      "Parsed with column specification:\n",
      "cols(\n",
      "  X1 = col_character(),\n",
      "  X2 = col_character()\n",
      ")\n",
      "Warning message:\n",
      "\"15 parsing failures.\n",
      " row col  expected    actual                     file\n",
      "9454  -- 2 columns 1 columns 'v3_mapNamesToAlias.tsv'\n",
      "9459  -- 2 columns 1 columns 'v3_mapNamesToAlias.tsv'\n",
      "9465  -- 2 columns 1 columns 'v3_mapNamesToAlias.tsv'\n",
      "9466  -- 2 columns 1 columns 'v3_mapNamesToAlias.tsv'\n",
      "9468  -- 2 columns 1 columns 'v3_mapNamesToAlias.tsv'\n",
      ".... ... ......... ......... ........................\n",
      "See problems(...) for more details.\n",
      "\""
     ]
    }
   ],
   "source": [
    "# Convert vitis (v3) to vit_ (v1s)\n",
    "aliasmap <- data.frame(read_tsv('v3_mapNamesToAlias.tsv', col_names = FALSE))\n",
    "colnames(aliasmap) <- c('12Xv1', 'VCOST.v3')\n",
    "aliashash <- hash(keys=aliasmap$'12Xv1', values=aliasmap$'VCOST.v3')\n",
    "\n",
    "convert <- function(i){\n",
    "  vitvi <- as.character(i)\n",
    "  vitvi.alias <- unlist(strsplit(aliashash[[vitvi]], ','))\n",
    "  vitvi.alias.reduced <- unlist(vitvi.alias[grepl('VIT_', vitvi.alias, fixed=TRUE)])\n",
    "  if(length(vitvi.alias.reduced) == 0){\n",
    "    #print(paste(\"no vit_ name located for\", vitvi))\n",
    "  }\n",
    "  return(vitvi.alias.reduced)\n",
    "}"
   ]
  },
  {
   "cell_type": "code",
   "execution_count": 5,
   "metadata": {},
   "outputs": [],
   "source": [
    "# Prep the data to enter gene ontology function\n",
    "prep <- function(data, alpha, log2FoldChangeVal) {\n",
    "    data.clean = list()\n",
    "    \n",
    "    # only keeps significant values\n",
    "    data.sig <- data %>% filter(padj < alpha)\n",
    "    \n",
    "    # separates upregulated/downregulated\n",
    "    data.up.v3 <- data.sig %>% filter(log2FoldChange > log2FoldChangeVal)\n",
    "    data.down.v3 <- data.sig %>% filter(log2FoldChange < log2FoldChangeVal)\n",
    "    \n",
    "    # converts name from v3 to v1 for use with ggprofiler2 (go)\n",
    "    data.up.v1 <- unlist(lapply(X=data.up.v3$X, FUN=convert))\n",
    "    data.down.v1 <- unlist(lapply(X=data.down.v3$X, FUN=convert))\n",
    "    \n",
    "    # prints number of values for v3 and v1 names\n",
    "    # make sure that these numbers are too hugely different (generally, they are very similar)\n",
    "    # not all v3 names have a v1. some have more than one v1 name.\n",
    "    print(paste('upv3: ', length(data.up.v3$X)))\n",
    "    print(paste('upv1: ', length(data.up.v1)))\n",
    "    print(paste('downv3: ', length(data.down.v3$X)))\n",
    "    print(paste('downv1: ', length(data.down.v1)))\n",
    "    \n",
    "    # store and reddturn cleaned datadd\n",
    "    data.clean$up <- data.up.v1\n",
    "    data.clean$down <- data.down.v1\n",
    "    data.clean$upv3 <- data.up.v3\n",
    "    data.clean$downv3 <- data.down.v3\n",
    "    \n",
    "    return(data.clean)\n",
    "}"
   ]
  },
  {
   "cell_type": "code",
   "execution_count": 6,
   "metadata": {},
   "outputs": [],
   "source": [
    "# Use gprofiler2 to perform gene ontology term enrichment\n",
    "go <- function(prepped.data, alpha=0.05, source_preferences=NULL) {\n",
    "    d = list()\n",
    "    \n",
    "    # upregulated genes first\n",
    "    d$up <- gost(query = prepped.data$up, \n",
    "                    organism = \"vvinifera\", ordered_query = FALSE, \n",
    "                    multi_query = FALSE, significant = TRUE, exclude_iea = FALSE, \n",
    "                    measure_underrepresentation = FALSE, evcodes = FALSE, \n",
    "                    user_threshold = alpha, correction_method = \"fdr\", \n",
    "                    domain_scope = \"annotated\", custom_bg = NULL, \n",
    "                    numeric_ns = \"\", sources = source_preferences, as_short_link = FALSE)\n",
    "    \n",
    "    # downregulated genes\n",
    "    d$down <- gost(query = prepped.data$down, \n",
    "                    organism = \"vvinifera\", ordered_query = FALSE, \n",
    "                    multi_query = FALSE, significant = TRUE, exclude_iea = FALSE, \n",
    "                    measure_underrepresentation = FALSE, evcodes = FALSE, \n",
    "                    user_threshold = alpha, correction_method = \"fdr\", \n",
    "                    domain_scope = \"annotated\", custom_bg = NULL, \n",
    "                    numeric_ns = \"\", sources = source_preferences, as_short_link = FALSE)\n",
    "\n",
    "    return(d)\n",
    "}"
   ]
  },
  {
   "cell_type": "code",
   "execution_count": 7,
   "metadata": {},
   "outputs": [
    {
     "name": "stdout",
     "output_type": "stream",
     "text": [
      "[1] \"Leaf_2018_Anthesis_Ungrafted-1103P\"\n",
      "[1] \"upv3:  116\"\n",
      "[1] \"upv1:  109\"\n",
      "[1] \"downv3:  13\"\n",
      "[1] \"downv1:  12\"\n"
     ]
    },
    {
     "name": "stderr",
     "output_type": "stream",
     "text": [
      "No results to show\n",
      "Please make sure that the organism is correct or set significant = FALSE\n"
     ]
    },
    {
     "name": "stdout",
     "output_type": "stream",
     "text": [
      "[1] \"Leaf_2018_Anthesis_Ungrafted-1103P_Up\"\n",
      "[1] \"-------------------\"\n",
      "[1] \"Leaf_2018_Anthesis_Ungrafted-3309C\"\n",
      "[1] \"upv3:  497\"\n",
      "[1] \"upv1:  476\"\n",
      "[1] \"downv3:  158\"\n",
      "[1] \"downv1:  178\"\n",
      "[1] \"Leaf_2018_Anthesis_Ungrafted-3309C_Up\"\n",
      "[1] \"Leaf_2018_Anthesis_Ungrafted-3309C_Down\"\n",
      "[1] \"-------------------\"\n",
      "[1] \"Leaf_2018_Anthesis_Ungrafted-SO4\"\n",
      "[1] \"upv3:  315\"\n",
      "[1] \"upv1:  312\"\n",
      "[1] \"downv3:  687\"\n",
      "[1] \"downv1:  730\"\n",
      "[1] \"Leaf_2018_Anthesis_Ungrafted-SO4_Up\"\n",
      "[1] \"Leaf_2018_Anthesis_Ungrafted-SO4_Down\"\n",
      "[1] \"-------------------\"\n",
      "[1] \"Leaf_2018_Anthesis_1103P-3309C\"\n",
      "[1] \"upv3:  408\"\n",
      "[1] \"upv1:  381\"\n",
      "[1] \"downv3:  130\"\n",
      "[1] \"downv1:  143\"\n",
      "[1] \"Leaf_2018_Anthesis_1103P-3309C_Up\"\n",
      "[1] \"Leaf_2018_Anthesis_1103P-3309C_Down\"\n",
      "[1] \"-------------------\"\n",
      "[1] \"Leaf_2018_Anthesis_1103P-SO4\"\n",
      "[1] \"upv3:  28\"\n",
      "[1] \"upv1:  26\"\n",
      "[1] \"downv3:  394\"\n",
      "[1] \"downv1:  394\"\n"
     ]
    },
    {
     "name": "stderr",
     "output_type": "stream",
     "text": [
      "No results to show\n",
      "Please make sure that the organism is correct or set significant = FALSE\n"
     ]
    },
    {
     "name": "stdout",
     "output_type": "stream",
     "text": [
      "[1] \"Leaf_2018_Anthesis_1103P-SO4_Down\"\n",
      "[1] \"-------------------\"\n",
      "[1] \"Leaf_2018_Anthesis_3309C-SO4\"\n",
      "[1] \"upv3:  5\"\n",
      "[1] \"upv1:  5\"\n",
      "[1] \"downv3:  330\"\n",
      "[1] \"downv1:  304\"\n"
     ]
    },
    {
     "name": "stderr",
     "output_type": "stream",
     "text": [
      "No results to show\n",
      "Please make sure that the organism is correct or set significant = FALSE\n"
     ]
    },
    {
     "name": "stdout",
     "output_type": "stream",
     "text": [
      "[1] \"Leaf_2018_Anthesis_3309C-SO4_Down\"\n",
      "[1] \"-------------------\"\n",
      "[1] \"Leaf_2018_Veraison_Ungrafted-1103P\"\n",
      "[1] \"upv3:  3586\"\n",
      "[1] \"upv1:  3522\"\n",
      "[1] \"downv3:  2376\"\n",
      "[1] \"downv1:  2377\"\n"
     ]
    },
    {
     "name": "stderr",
     "output_type": "stream",
     "text": [
      "No results to show\n",
      "Please make sure that the organism is correct or set significant = FALSE\n"
     ]
    },
    {
     "name": "stdout",
     "output_type": "stream",
     "text": [
      "[1] \"Leaf_2018_Veraison_Ungrafted-1103P_Up\"\n",
      "[1] \"-------------------\"\n",
      "[1] \"Leaf_2018_Veraison_Ungrafted-3309C\"\n",
      "[1] \"upv3:  522\"\n",
      "[1] \"upv1:  521\"\n",
      "[1] \"downv3:  391\"\n",
      "[1] \"downv1:  404\"\n",
      "[1] \"Leaf_2018_Veraison_Ungrafted-3309C_Up\"\n",
      "[1] \"Leaf_2018_Veraison_Ungrafted-3309C_Down\"\n",
      "[1] \"-------------------\"\n",
      "[1] \"Leaf_2018_Veraison_Ungrafted-SO4\"\n",
      "[1] \"upv3:  2342\"\n",
      "[1] \"upv1:  2303\"\n",
      "[1] \"downv3:  1630\"\n",
      "[1] \"downv1:  1675\"\n",
      "[1] \"Leaf_2018_Veraison_Ungrafted-SO4_Up\"\n",
      "[1] \"Leaf_2018_Veraison_Ungrafted-SO4_Down\"\n",
      "[1] \"-------------------\"\n",
      "[1] \"Leaf_2018_Veraison_1103P-3309C\"\n",
      "[1] \"upv3:  1492\"\n",
      "[1] \"upv1:  1483\"\n",
      "[1] \"downv3:  2404\"\n",
      "[1] \"downv1:  2394\"\n",
      "[1] \"Leaf_2018_Veraison_1103P-3309C_Up\"\n",
      "[1] \"Leaf_2018_Veraison_1103P-3309C_Down\"\n",
      "[1] \"-------------------\"\n",
      "[1] \"Leaf_2018_Veraison_1103P-SO4\"\n",
      "[1] \"upv3:  51\"\n",
      "[1] \"upv1:  54\"\n",
      "[1] \"downv3:  55\"\n",
      "[1] \"downv1:  55\"\n"
     ]
    },
    {
     "name": "stderr",
     "output_type": "stream",
     "text": [
      "No results to show\n",
      "Please make sure that the organism is correct or set significant = FALSE\n",
      "No results to show\n",
      "Please make sure that the organism is correct or set significant = FALSE\n"
     ]
    },
    {
     "name": "stdout",
     "output_type": "stream",
     "text": [
      "[1] \"-------------------\"\n",
      "[1] \"Leaf_2018_Veraison_3309C-SO4\"\n",
      "[1] \"upv3:  400\"\n",
      "[1] \"upv1:  399\"\n",
      "[1] \"downv3:  337\"\n",
      "[1] \"downv1:  353\"\n"
     ]
    },
    {
     "name": "stderr",
     "output_type": "stream",
     "text": [
      "No results to show\n",
      "Please make sure that the organism is correct or set significant = FALSE\n"
     ]
    },
    {
     "name": "stdout",
     "output_type": "stream",
     "text": [
      "[1] \"Leaf_2018_Veraison_3309C-SO4_Up\"\n",
      "[1] \"-------------------\"\n",
      "[1] \"Leaf_2018_Harvest_Ungrafted-1103P\"\n",
      "[1] \"upv3:  4415\"\n",
      "[1] \"upv1:  4327\"\n",
      "[1] \"downv3:  2520\"\n",
      "[1] \"downv1:  2504\"\n",
      "[1] \"Leaf_2018_Harvest_Ungrafted-1103P_Up\"\n",
      "[1] \"Leaf_2018_Harvest_Ungrafted-1103P_Down\"\n",
      "[1] \"-------------------\"\n",
      "[1] \"Leaf_2018_Harvest_Ungrafted-3309C\"\n",
      "[1] \"upv3:  3043\"\n",
      "[1] \"upv1:  2993\"\n",
      "[1] \"downv3:  1265\"\n",
      "[1] \"downv1:  1274\"\n",
      "[1] \"Leaf_2018_Harvest_Ungrafted-3309C_Up\"\n",
      "[1] \"Leaf_2018_Harvest_Ungrafted-3309C_Down\"\n",
      "[1] \"-------------------\"\n",
      "[1] \"Leaf_2018_Harvest_Ungrafted-SO4\"\n",
      "[1] \"upv3:  4098\"\n",
      "[1] \"upv1:  4042\"\n",
      "[1] \"downv3:  1810\"\n",
      "[1] \"downv1:  1807\"\n",
      "[1] \"Leaf_2018_Harvest_Ungrafted-SO4_Up\"\n",
      "[1] \"Leaf_2018_Harvest_Ungrafted-SO4_Down\"\n",
      "[1] \"-------------------\"\n",
      "[1] \"Leaf_2018_Harvest_1103P-3309C\"\n",
      "[1] \"upv3:  32\"\n",
      "[1] \"upv1:  30\"\n",
      "[1] \"downv3:  52\"\n",
      "[1] \"downv1:  51\"\n",
      "[1] \"Leaf_2018_Harvest_1103P-3309C_Up\"\n",
      "[1] \"Leaf_2018_Harvest_1103P-3309C_Down\"\n",
      "[1] \"-------------------\"\n",
      "[1] \"Leaf_2018_Harvest_1103P-SO4\"\n",
      "[1] \"upv3:  18\"\n",
      "[1] \"upv1:  18\"\n",
      "[1] \"downv3:  18\"\n",
      "[1] \"downv1:  14\"\n"
     ]
    },
    {
     "name": "stderr",
     "output_type": "stream",
     "text": [
      "No results to show\n",
      "Please make sure that the organism is correct or set significant = FALSE\n",
      "No results to show\n",
      "Please make sure that the organism is correct or set significant = FALSE\n"
     ]
    },
    {
     "name": "stdout",
     "output_type": "stream",
     "text": [
      "[1] \"-------------------\"\n",
      "[1] \"Leaf_2018_Harvest_3309C-SO4\"\n",
      "[1] \"upv3:  205\"\n",
      "[1] \"upv1:  202\"\n",
      "[1] \"downv3:  21\"\n",
      "[1] \"downv1:  21\"\n",
      "[1] \"Leaf_2018_Harvest_3309C-SO4_Up\"\n",
      "[1] \"Leaf_2018_Harvest_3309C-SO4_Down\"\n",
      "[1] \"-------------------\"\n"
     ]
    }
   ],
   "source": [
    "# cycle through all the data\n",
    "# this is essentially the gene ontology pipeline\n",
    "for (t in tissues){\n",
    "    for (y in years){\n",
    "        for (p in phenos){\n",
    "            for (i in 1:length(rootstocks)){\n",
    "                \n",
    "                # cycle through the rootstock combos\n",
    "                for (j in 2:length(rootstocks))\n",
    "                    if (i != j & i < j){\n",
    "                        rs <- str_interp(\"${rootstocks[i]}-${rootstocks[j]}\")\n",
    "                        filename <- paste(t, y, p, rs, sep='_')\n",
    "                        print(filename)\n",
    "                        fullpath <- paste(prefix, filename, '.csv', sep='')\n",
    "                        \n",
    "                        # read in the data\n",
    "                        data <- read.csv(fullpath)\n",
    "                        # clean the data - this alpha filter is 0.05\n",
    "                        data.clean <- prep(data, 0.05, 0)\n",
    "                        \n",
    "                        if(length(data.clean) > 0){\n",
    "                            # run gene ontology - genes are kept if significant to 4.6e-4\n",
    "                            res <- go(data.clean, alpha, sourcepreferences)\n",
    "\n",
    "                            fname <- paste(filename,'Up' ,sep='_')\n",
    "                            if(length(res$up$result$source) > 0){\n",
    "                                stats[[fname]] <- res$up$result\n",
    "                                dats[[fname]] <- data.clean$upv3\n",
    "                                \n",
    "                                print(fname)\n",
    "                            }\n",
    "                            # keep track of which years & time points are skipped to prevent future errors\n",
    "                            else{skipped <- append(skipped, fname)}\n",
    "\n",
    "                            fname <- paste(filename,'Down',sep='_')\n",
    "                            if(length(res$down$result$source) > 0){                            \n",
    "                                # save info - GO results, gene lists\n",
    "                                stats[[fname]] <- res$down$result\n",
    "                                dats[[fname]] <- data.clean$downv3\n",
    "                                \n",
    "                                print(fname)\n",
    "                            }\n",
    "                            # keep track of which years & time points are skipped to prevent future errors\n",
    "                            else{skipped <- append(skipped, fname)}\n",
    "                        }\n",
    "                        else{skipped <- append(skipped, fname)}\n",
    "                        \n",
    "                        print('-------------------') \n",
    "                    }\n",
    "            }\n",
    "        }\n",
    "    }\n",
    "}"
   ]
  },
  {
   "cell_type": "code",
   "execution_count": 8,
   "metadata": {},
   "outputs": [],
   "source": [
    "df <- setNames(data.frame(matrix(ncol = 4, nrow = 0)), c(\"name\", \"numTerms\", \"numGenes\", \"alpha\"))\n",
    "for (name in names(stats)){\n",
    "    df[nrow(df) + 1,] = c(name, dim(stats[[name]])[1], dim(dats[[name]])[1], alpha)\n",
    "}"
   ]
  },
  {
   "cell_type": "code",
   "execution_count": 9,
   "metadata": {},
   "outputs": [
    {
     "name": "stderr",
     "output_type": "stream",
     "text": [
      "Warning message in stri_replace_all_fixed(dat, \"\\r\", \"\"):\n",
      "\"argument is not an atomic vector; coercing\"Warning message in stri_replace_all_fixed(dat, \"\\r\", \"\"):\n",
      "\"argument is not an atomic vector; coercing\"Warning message in stri_replace_all_fixed(dat, \"\\r\", \"\"):\n",
      "\"argument is not an atomic vector; coercing\"Warning message in stri_replace_all_fixed(dat, \"\\r\", \"\"):\n",
      "\"argument is not an atomic vector; coercing\"Warning message in stri_replace_all_fixed(dat, \"\\r\", \"\"):\n",
      "\"argument is not an atomic vector; coercing\"Warning message in stri_replace_all_fixed(dat, \"\\r\", \"\"):\n",
      "\"argument is not an atomic vector; coercing\"Warning message in stri_replace_all_fixed(dat, \"\\r\", \"\"):\n",
      "\"argument is not an atomic vector; coercing\"Warning message in stri_replace_all_fixed(dat, \"\\r\", \"\"):\n",
      "\"argument is not an atomic vector; coercing\"Warning message in stri_replace_all_fixed(dat, \"\\r\", \"\"):\n",
      "\"argument is not an atomic vector; coercing\"Warning message in stri_replace_all_fixed(dat, \"\\r\", \"\"):\n",
      "\"argument is not an atomic vector; coercing\"Warning message in stri_replace_all_fixed(dat, \"\\r\", \"\"):\n",
      "\"argument is not an atomic vector; coercing\"Warning message in stri_replace_all_fixed(dat, \"\\r\", \"\"):\n",
      "\"argument is not an atomic vector; coercing\"Warning message in stri_replace_all_fixed(dat, \"\\r\", \"\"):\n",
      "\"argument is not an atomic vector; coercing\"Warning message in stri_replace_all_fixed(dat, \"\\r\", \"\"):\n",
      "\"argument is not an atomic vector; coercing\"Warning message in stri_replace_all_fixed(dat, \"\\r\", \"\"):\n",
      "\"argument is not an atomic vector; coercing\"Warning message in stri_replace_all_fixed(dat, \"\\r\", \"\"):\n",
      "\"argument is not an atomic vector; coercing\"Warning message in stri_replace_all_fixed(dat, \"\\r\", \"\"):\n",
      "\"argument is not an atomic vector; coercing\"Warning message in stri_replace_all_fixed(dat, \"\\r\", \"\"):\n",
      "\"argument is not an atomic vector; coercing\"Warning message in stri_replace_all_fixed(dat, \"\\r\", \"\"):\n",
      "\"argument is not an atomic vector; coercing\"Warning message in stri_replace_all_fixed(dat, \"\\r\", \"\"):\n",
      "\"argument is not an atomic vector; coercing\"Warning message in stri_replace_all_fixed(dat, \"\\r\", \"\"):\n",
      "\"argument is not an atomic vector; coercing\"Warning message in stri_replace_all_fixed(dat, \"\\r\", \"\"):\n",
      "\"argument is not an atomic vector; coercing\"Warning message in stri_replace_all_fixed(dat, \"\\r\", \"\"):\n",
      "\"argument is not an atomic vector; coercing\"Warning message in stri_replace_all_fixed(dat, \"\\r\", \"\"):\n",
      "\"argument is not an atomic vector; coercing\"Warning message in stri_replace_all_fixed(dat, \"\\r\", \"\"):\n",
      "\"argument is not an atomic vector; coercing\"Warning message in stri_replace_all_fixed(dat, \"\\r\", \"\"):\n",
      "\"argument is not an atomic vector; coercing\"Warning message in stri_replace_all_fixed(dat, \"\\r\", \"\"):\n",
      "\"argument is not an atomic vector; coercing\""
     ]
    }
   ],
   "source": [
    "df2 <- NULL\n",
    "for (name in names(stats)){    \n",
    "    df2 <- rbind(df2, data.frame(\n",
    "        \"name_full\" = name,\n",
    "        \"tissue\" = rep(str_split(name, \"_\")[[1]][1], dim(stats[[name]])[1]),\n",
    "        \"year\" = rep(str_split(name, \"_\")[[1]][2], dim(stats[[name]])[1]),\n",
    "        \"phenology\" = rep(str_split(name, \"_\")[[1]][3], dim(stats[[name]])[1]),\n",
    "        \"direction\" = rep(str_split(name, \"_\")[[1]][5], dim(stats[[name]])[1]),\n",
    "        \"contrast\" = rep(str_split(name, \"_\")[[1]][4], dim(stats[[name]])[1]),\n",
    "        \"GO.source\" = stats[[name]] %>% select('source'),\n",
    "        \"GO.term.id\" = stats[[name]] %>% select('term_id'),\n",
    "        \"GO.term.name\" = stats[[name]] %>% select('term_name'),\n",
    "        \"p.value\" = stats[[name]] %>% select('p_value'))\n",
    "    )    \n",
    "    tmp <- stats[[name]] %>% select(term_id, p_value)\n",
    "    finalname <- paste(results_prefix, paste(\"REVIGO\", name, sep=\"_\"), \".csv\", sep=\"\")\n",
    "    write.table(tmp, \"tmp.txt\", quote=FALSE, row.names = FALSE, col.names = FALSE)\n",
    "    filedata <-readChar(\"tmp.txt\",file.info(\"tmp.txt\")$size)\n",
    "    \n",
    "    httr::POST(\n",
    "      url = \"http://revigo.irb.hr/Revigo.aspx\",\n",
    "      body = list(\n",
    "        cutoff = \"0.5\",\n",
    "        valueType = \"pvalue\",\n",
    "        speciesTaxon = \"0\",\n",
    "        measure = \"SIMREL\",\n",
    "        goList = filedata\n",
    "      ),\n",
    "      # application/x-www-form-urlencoded\n",
    "      encode = \"form\"\n",
    "    ) -> res\n",
    "\n",
    "    dat <- httr::content(res, encoding = \"UTF-8\")\n",
    "\n",
    "    # Write results to a file\n",
    "    dat <- stri_replace_all_fixed(dat, \"\\r\", \"\")\n",
    "    cat(dat, file='tmpresults.html', fill = FALSE)\n",
    "    resultsrevigo <- readHTMLTable('tmpresults.html')\n",
    "    \n",
    "    fullresultsrevigo <- setNames(data.frame(matrix(ncol = 4, nrow = 0)), c(\"Term.ID\", \"Name\", \"Value\", \"Category\"))\n",
    "    if(!is.null(resultsrevigo$BiologicalProcess)){\n",
    "        resultsrevigo$BiologicalProcess <- resultsrevigo$BiologicalProcess %>% \n",
    "                                            filter(Eliminated=='False') %>% \n",
    "                                            select(`Term ID`, Name, Value)\n",
    "        resultsrevigo$BiologicalProcess['Category'] <- rep('BiologicalProcess', dim(resultsrevigo$BiologicalProcess)[1])\n",
    "        fullresultsrevigo <- rbind(fullresultsrevigo, resultsrevigo$BiologicalProcess)\n",
    "    }\n",
    "    if(!is.null(resultsrevigo$CellularComponent)){\n",
    "        resultsrevigo$CellularComponent <- resultsrevigo$CellularComponent %>% \n",
    "                                            filter(Eliminated=='False') %>% \n",
    "                                            select(`Term ID`, Name, Value)\n",
    "        resultsrevigo$CellularComponent['Category'] <- rep('CellularComponent', dim(resultsrevigo$CellularComponent)[1])\n",
    "        fullresultsrevigo <- rbind(fullresultsrevigo, resultsrevigo$CellularComponent)\n",
    "    }\n",
    "    if(!is.null(resultsrevigo$MolecularFunction)){\n",
    "        resultsrevigo$MolecularFunction <- resultsrevigo$MolecularFunction %>% \n",
    "                                            filter(Eliminated=='False') %>% \n",
    "                                            select(`Term ID`, Name, Value)\n",
    "        resultsrevigo$MolecularFunction['Category'] <- rep('MolecularFunction', dim(resultsrevigo$MolecularFunction)[1])\n",
    "        fullresultsrevigo <- rbind(fullresultsrevigo, resultsrevigo$MolecularFunction)\n",
    "    }\n",
    "    \n",
    "    write.csv(data.frame(fullresultsrevigo), finalname, row.names=FALSE)\n",
    "}"
   ]
  },
  {
   "cell_type": "code",
   "execution_count": 10,
   "metadata": {},
   "outputs": [],
   "source": [
    "write.csv(df, paste(results_prefix, \"GO_contrasts_stats.csv\", sep=\"\"))\n",
    "write.csv(df2, paste(results_prefix, \"GO_contrasts_go_term_list.csv\", sep=\"\"))"
   ]
  }
 ],
 "metadata": {
  "kernelspec": {
   "display_name": "R",
   "language": "R",
   "name": "ir"
  },
  "language_info": {
   "codemirror_mode": "r",
   "file_extension": ".r",
   "mimetype": "text/x-r-source",
   "name": "R",
   "pygments_lexer": "r",
   "version": "3.6.1"
  }
 },
 "nbformat": 4,
 "nbformat_minor": 4
}
