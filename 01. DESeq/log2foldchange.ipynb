{
 "cells": [
  {
   "cell_type": "code",
   "execution_count": 1,
   "metadata": {},
   "outputs": [
    {
     "name": "stderr",
     "output_type": "stream",
     "text": [
      "Registered S3 method overwritten by 'rvest':\n",
      "  method            from\n",
      "  read_xml.response xml2\n",
      "-- Attaching packages --------------------------------------- tidyverse 1.2.1 --\n",
      "v ggplot2 3.3.5     v purrr   0.3.4\n",
      "v tibble  3.1.6     v dplyr   1.0.7\n",
      "v tidyr   1.1.4     v stringr 1.4.0\n",
      "v readr   1.3.1     v forcats 0.4.0\n",
      "-- Conflicts ------------------------------------------ tidyverse_conflicts() --\n",
      "x dplyr::filter() masks stats::filter()\n",
      "x dplyr::lag()    masks stats::lag()\n",
      "Loading required package: viridisLite\n",
      "\n",
      "Attaching package: 'viridis'\n",
      "\n",
      "The following object is masked from 'package:viridisLite':\n",
      "\n",
      "    viridis.map\n",
      "\n"
     ]
    }
   ],
   "source": [
    "library(tidyverse)\n",
    "library(viridis)"
   ]
  },
  {
   "cell_type": "code",
   "execution_count": 2,
   "metadata": {},
   "outputs": [],
   "source": [
    "setwd(\"/data/projects/julia.pratt/CS1_genomeSelection/all_rootstock_comparisons/\")\n",
    "fileNames <- Sys.glob(\"*.csv\")"
   ]
  },
  {
   "cell_type": "code",
   "execution_count": 3,
   "metadata": {},
   "outputs": [
    {
     "data": {
      "text/html": [
       "'/data/projects/julia.pratt/CS1_genomeSelection/all_rootstock_comparisons'"
      ],
      "text/latex": [
       "'/data/projects/julia.pratt/CS1\\_genomeSelection/all\\_rootstock\\_comparisons'"
      ],
      "text/markdown": [
       "'/data/projects/julia.pratt/CS1_genomeSelection/all_rootstock_comparisons'"
      ],
      "text/plain": [
       "[1] \"/data/projects/julia.pratt/CS1_genomeSelection/all_rootstock_comparisons\""
      ]
     },
     "metadata": {},
     "output_type": "display_data"
    }
   ],
   "source": [
    "getwd()"
   ]
  },
  {
   "cell_type": "code",
   "execution_count": 4,
   "metadata": {},
   "outputs": [],
   "source": [
    "log2FoldChangeValues <- seq(0, 4, by = 0.05)\n",
    "columns <- c('filename', 'direction', 'tissue', 'year', 'phenology', 'rootstock', 'log2foldChangeValue', 'numGenes')\n",
    "df <- data.frame(matrix(nrow = 0, ncol = length(columns)))\n",
    "colnames(df) <- columns"
   ]
  },
  {
   "cell_type": "code",
   "execution_count": 5,
   "metadata": {},
   "outputs": [],
   "source": [
    "# filter according to log2foldchange value\n",
    "log2foldchange <- function(data, alpha, log2FoldChangeVal, d) {\n",
    " \n",
    "    # only keeps significant values\n",
    "    data.sig <- data %>% filter(padj < alpha)\n",
    "    \n",
    "    # separates upregulated/downregulated\n",
    "    if (d == 'Up') {\n",
    "        data.adj <- data.sig %>% filter(log2FoldChange > log2FoldChangeVal)\n",
    "    } else if (d == 'Down') {\n",
    "         data.adj <- data.sig %>% filter(log2FoldChange < -log2FoldChangeVal)\n",
    "    } else {\n",
    "        print(paste(d, \"not a valid direction\"))\n",
    "    }\n",
    "\n",
    "    return(data.adj)\n",
    "}"
   ]
  },
  {
   "cell_type": "code",
   "execution_count": 6,
   "metadata": {},
   "outputs": [],
   "source": [
    "# populate the dataframe to look at number of genes by filter\n",
    "for (fileName in fileNames) {\n",
    "    # no data for this one - don't use it\n",
    "    if(!grepl(\"example\", fileName, fixed=TRUE)) {\n",
    "        # read data\n",
    "        sample <- read.csv(fileName)\n",
    "        # separate metadata based on file name\n",
    "        metasplit <- str_split(fileName, '_')[[1]]\n",
    "        tissue <- metasplit[1]\n",
    "        year <- metasplit[2]\n",
    "        pheno <- metasplit[3]\n",
    "        rs1 <- str_split(metasplit[4], '-')[[1]][1]\n",
    "        rs2 <- str_remove(str_split(metasplit[4], '-')[[1]][2], '.csv')\n",
    "        rs <- paste(rs1, '_', rs2, sep=\"\")\n",
    "        \n",
    "        #apply filters to data\n",
    "        for (direction in c('Up', 'Down')) {\n",
    "            for (logVal in log2FoldChangeValues) {\n",
    "                filtered <- log2foldchange(sample, 0.05, logVal, direction)\n",
    "                nG <- length(filtered[[\"X\"]])\n",
    "                # populate data frame\n",
    "                newrow <- data.frame(filename = fileName, \n",
    "                                     direction = direction, \n",
    "                                     tissue = tissue, \n",
    "                                     year = year, \n",
    "                                     phenology = pheno, \n",
    "                                     rootstock = rs, \n",
    "                                     log2foldChangeValue = logVal, \n",
    "                                     numGenes = nG)\n",
    "                df <- rbind(df, newrow)\n",
    "            }\n",
    "        } \n",
    "    }\n",
    "}"
   ]
  },
  {
   "cell_type": "code",
   "execution_count": 7,
   "metadata": {},
   "outputs": [],
   "source": [
    "df$phenology <- factor(df$phenology, levels = c(\"Anthesis\", \"Veraison\", \"Harvest\"))\n",
    "df$rootstock <- factor(df$rootstock, levels = c('Ungrafted_1103P', 'Ungrafted_3309C', 'Ungrafted_SO4', '1103P_3309C', '1103P_SO4', '3309C_SO4'))"
   ]
  },
  {
   "cell_type": "code",
   "execution_count": 11,
   "metadata": {},
   "outputs": [],
   "source": [
    "write.csv(df, \"/data/projects/julia.pratt/CS1_genomeSelection/effectsize.csv\")"
   ]
  },
  {
   "cell_type": "code",
   "execution_count": 10,
   "metadata": {},
   "outputs": [],
   "source": [
    "setwd(\"/data/projects/julia.pratt/CS1_genomeSelection/figs/\")"
   ]
  },
  {
   "cell_type": "code",
   "execution_count": null,
   "metadata": {
    "scrolled": true
   },
   "outputs": [],
   "source": [
    "pdf('log2foldchange_plots_facetdirection.pdf')\n",
    "for (t in c('Leaf', 'Reproductive')) {\n",
    "    for (y in c('2017', '2018', '2019')) {\n",
    "        dfsub <- df %>% filter(tissue == t) %>% filter(year == y)\n",
    "        title <- paste(t, y)\n",
    "\n",
    "        p <- ggplot(dfsub, aes(x=log2foldChangeValue, y=numGenes, color=rootstock)) + \n",
    "             geom_point() + \n",
    "            scale_color_viridis(discrete=TRUE) + \n",
    "            theme_bw() + \n",
    "            labs(x='log2foldChange Value', y='Number of Genes') + \n",
    "            ggtitle(title, subtitle=\"Number of Genes at Each log2foldChange Value\") +\n",
    "            facet_wrap(~ direction + phenology)\n",
    "        print(p)\n",
    "    }\n",
    "}\n",
    "dev.off()\n"
   ]
  },
  {
   "cell_type": "code",
   "execution_count": null,
   "metadata": {},
   "outputs": [],
   "source": [
    "pdf('log2foldchange_plots.pdf')\n",
    "for (t in c('Leaf', 'Reproductive')) {\n",
    "    for (y in c('2017', '2018', '2019')) {\n",
    "        dfsub <- df %>% filter(tissue == t) %>% filter(year == y)\n",
    "        title <- paste(t, y)\n",
    "        \n",
    "        p <- ggplot(dfsub, aes(x=log2foldChangeValue, y=numGenes, color=rootstock, shape=direction)) + \n",
    "             geom_point() + \n",
    "             scale_color_viridis(discrete=TRUE) + \n",
    "             scale_shape_manual(values=c(0,1)) +\n",
    "             theme_bw() + \n",
    "             labs(x='log2foldChange Value', y='Number of Genes') + \n",
    "             ggtitle(title, subtitle=\"Number of Genes at Each log2foldChange Value\") +\n",
    "             facet_wrap(~ phenology)\n",
    "        print(p)\n",
    "    }\n",
    "}\n",
    "dev.off()"
   ]
  },
  {
   "cell_type": "code",
   "execution_count": null,
   "metadata": {},
   "outputs": [],
   "source": [
    "df$rootstock <- factor(df$rootstock, \n",
    "                       levels=c('Ungrafted_1103P', \n",
    "                                'Ungrafted_3309C',\n",
    "                                'Ungrafted_SO4',\n",
    "                                '1103P_3309C',\n",
    "                                '1103P_SO4',\n",
    "                                '3309C_SO4'))\n",
    "df$phenology <- factor(df$phenology,\n",
    "                      levels=c('Anthesis', \n",
    "                               'Veraison', \n",
    "                               'Harvest'))"
   ]
  },
  {
   "cell_type": "code",
   "execution_count": null,
   "metadata": {},
   "outputs": [],
   "source": [
    "for (i in seq(0, 4, by = 0.5)) {\n",
    "    for (dir in c('Up', 'Down')) {\n",
    "        name <- paste(paste(i,dir,sep=\"_\"), '.csv', sep=\"\")\n",
    "        x <- df %>% \n",
    "            filter(log2foldChangeValue == i) %>%\n",
    "            filter(direction==dir) %>%\n",
    "            select(tissue, year, phenology, rootstock, numGenes) %>%\n",
    "            arrange(rootstock) %>%\n",
    "            arrange(phenology) %>%\n",
    "            pivot_wider(names_from=c('tissue', 'rootstock'), names_sep=\".\", values_from=numGenes)\n",
    "        write.csv(x, file=name)\n",
    "\n",
    "    }\n",
    "}"
   ]
  },
  {
   "cell_type": "code",
   "execution_count": null,
   "metadata": {},
   "outputs": [],
   "source": []
  },
  {
   "cell_type": "code",
   "execution_count": null,
   "metadata": {},
   "outputs": [],
   "source": []
  },
  {
   "cell_type": "code",
   "execution_count": null,
   "metadata": {},
   "outputs": [],
   "source": [
    "dfsub <- df %>% filter(tissue == 'Leaf') %>% filter(year == 2017)\n",
    "title <- paste('Leaef', '2017')\n",
    "\n",
    "p <- ggplot(dfsub, aes(x=log2foldChangeValue, y=numGenes, color=rootstock)) + \n",
    "     geom_point() + \n",
    "    scale_color_viridis(discrete=TRUE) + \n",
    "    theme_bw() + \n",
    "    labs(x='log2foldChange Value', y='Number of Genes') + \n",
    "    ggtitle(title, subtitle=\"Number of Genes at Each log2foldChange Value\") +\n",
    "    facet_wrap(~ direction + phenology)\n",
    "print(p)"
   ]
  }
 ],
 "metadata": {
  "kernelspec": {
   "display_name": "R",
   "language": "R",
   "name": "ir"
  },
  "language_info": {
   "codemirror_mode": "r",
   "file_extension": ".r",
   "mimetype": "text/x-r-source",
   "name": "R",
   "pygments_lexer": "r",
   "version": "3.6.1"
  }
 },
 "nbformat": 4,
 "nbformat_minor": 2
}
