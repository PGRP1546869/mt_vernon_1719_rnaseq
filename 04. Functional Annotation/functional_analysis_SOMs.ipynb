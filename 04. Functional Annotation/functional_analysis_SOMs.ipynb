{
 "cells": [
  {
   "cell_type": "code",
   "execution_count": 1,
   "metadata": {},
   "outputs": [
    {
     "name": "stderr",
     "output_type": "stream",
     "text": [
      "Registered S3 method overwritten by 'rvest':\n",
      "  method            from\n",
      "  read_xml.response xml2\n",
      "-- Attaching packages --------------------------------------- tidyverse 1.2.1 --\n",
      "v ggplot2 3.3.5     v purrr   0.3.4\n",
      "v tibble  3.1.6     v dplyr   1.0.7\n",
      "v tidyr   1.1.4     v stringr 1.4.0\n",
      "v readr   1.3.1     v forcats 0.4.0\n",
      "-- Conflicts ------------------------------------------ tidyverse_conflicts() --\n",
      "x dplyr::filter() masks stats::filter()\n",
      "x dplyr::lag()    masks stats::lag()\n",
      "Warning message:\n",
      "\"package 'hash' was built under R version 3.6.3\"hash-3.0.1 provided by Decision Patterns\n",
      "\n",
      "Loading required package: viridisLite\n",
      "\n",
      "Attaching package: 'viridis'\n",
      "\n",
      "The following object is masked from 'package:viridisLite':\n",
      "\n",
      "    viridis.map\n",
      "\n",
      "Loading required package: grid\n",
      "Loading required package: futile.logger\n"
     ]
    }
   ],
   "source": [
    "library(tidyverse)\n",
    "library(hash)\n",
    "library(gprofiler2)\n",
    "library(viridis)\n",
    "library(VennDiagram)\n",
    "library(XML)\n",
    "library(httr)\n",
    "library(stringi)"
   ]
  },
  {
   "cell_type": "code",
   "execution_count": 2,
   "metadata": {},
   "outputs": [],
   "source": [
    "alpha <- 1e-5\n",
    "results_prefix <- '/data/projects/julia.pratt/CS1_genomeSelection/scripts/revigo/SOMs/GOBP/'\n",
    "sourcepreferences <- \"GO:BP\"\n",
    "\n",
    "stats <- list()\n",
    "dats <- list()\n",
    "skipped <- list()\n",
    "\n",
    "fullpath <- '/data/projects/julia.pratt/CS1_genomeSelection/scripts/1719_geneExpression_SOM_clusters_9x9.csv'\n",
    "data <- read.csv(fullpath)"
   ]
  },
  {
   "cell_type": "code",
   "execution_count": 3,
   "metadata": {},
   "outputs": [
    {
     "name": "stderr",
     "output_type": "stream",
     "text": [
      "Parsed with column specification:\n",
      "cols(\n",
      "  X1 = col_character(),\n",
      "  X2 = col_character()\n",
      ")\n",
      "Warning message:\n",
      "\"15 parsing failures.\n",
      " row col  expected    actual                     file\n",
      "9454  -- 2 columns 1 columns 'v3_mapNamesToAlias.tsv'\n",
      "9459  -- 2 columns 1 columns 'v3_mapNamesToAlias.tsv'\n",
      "9465  -- 2 columns 1 columns 'v3_mapNamesToAlias.tsv'\n",
      "9466  -- 2 columns 1 columns 'v3_mapNamesToAlias.tsv'\n",
      "9468  -- 2 columns 1 columns 'v3_mapNamesToAlias.tsv'\n",
      ".... ... ......... ......... ........................\n",
      "See problems(...) for more details.\n",
      "\""
     ]
    }
   ],
   "source": [
    "# Convert vitis (v3) to vit_ (v1s)\n",
    "aliasmap <- data.frame(read_tsv('v3_mapNamesToAlias.tsv', col_names = FALSE))\n",
    "colnames(aliasmap) <- c('12Xv1', 'VCOST.v3')\n",
    "aliashash <- hash(keys=aliasmap$'12Xv1', values=aliasmap$'VCOST.v3')\n",
    "\n",
    "convert <- function(i){\n",
    "  vitvi <- as.character(i)\n",
    "  vitvi.alias <- unlist(strsplit(aliashash[[vitvi]], ','))\n",
    "  vitvi.alias.reduced <- unlist(vitvi.alias[grepl('VIT_', vitvi.alias, fixed=TRUE)])\n",
    "  if(length(vitvi.alias.reduced) == 0){\n",
    "    #print(paste(\"no vit_ name located for\", vitvi))\n",
    "  }\n",
    "  return(vitvi.alias.reduced)\n",
    "}"
   ]
  },
  {
   "cell_type": "code",
   "execution_count": 4,
   "metadata": {},
   "outputs": [],
   "source": [
    "# Use gprofiler2 to perform gene ontology term enrichment\n",
    "go <- function(prepped.data, alpha=0.05, sourcepreferences=NULL) {\n",
    "    # upregulated genes first\n",
    "    d <- gost(query = prepped.data, \n",
    "                    organism = \"vvinifera\", ordered_query = FALSE, \n",
    "                    multi_query = FALSE, significant = TRUE, exclude_iea = FALSE, \n",
    "                    measure_underrepresentation = FALSE, evcodes = FALSE, \n",
    "                    user_threshold = alpha, correction_method = \"fdr\", \n",
    "                    domain_scope = \"annotated\", custom_bg = NULL, \n",
    "                    numeric_ns = \"\", sources = sourcepreferences, as_short_link = FALSE)\n",
    "    return(d)\n",
    "}"
   ]
  },
  {
   "cell_type": "code",
   "execution_count": 5,
   "metadata": {},
   "outputs": [
    {
     "name": "stderr",
     "output_type": "stream",
     "text": [
      "No results to show\n",
      "Please make sure that the organism is correct or set significant = FALSE\n"
     ]
    },
    {
     "name": "stdout",
     "output_type": "stream",
     "text": [
      "[1] \"SOM_cluster_2\"\n"
     ]
    },
    {
     "name": "stderr",
     "output_type": "stream",
     "text": [
      "No results to show\n",
      "Please make sure that the organism is correct or set significant = FALSE\n",
      "No results to show\n",
      "Please make sure that the organism is correct or set significant = FALSE\n",
      "No results to show\n",
      "Please make sure that the organism is correct or set significant = FALSE\n",
      "No results to show\n",
      "Please make sure that the organism is correct or set significant = FALSE\n",
      "No results to show\n",
      "Please make sure that the organism is correct or set significant = FALSE\n",
      "No results to show\n",
      "Please make sure that the organism is correct or set significant = FALSE\n",
      "No results to show\n",
      "Please make sure that the organism is correct or set significant = FALSE\n",
      "No results to show\n",
      "Please make sure that the organism is correct or set significant = FALSE\n",
      "No results to show\n",
      "Please make sure that the organism is correct or set significant = FALSE\n",
      "No results to show\n",
      "Please make sure that the organism is correct or set significant = FALSE\n",
      "No results to show\n",
      "Please make sure that the organism is correct or set significant = FALSE\n",
      "No results to show\n",
      "Please make sure that the organism is correct or set significant = FALSE\n",
      "No results to show\n",
      "Please make sure that the organism is correct or set significant = FALSE\n",
      "No results to show\n",
      "Please make sure that the organism is correct or set significant = FALSE\n",
      "No results to show\n",
      "Please make sure that the organism is correct or set significant = FALSE\n",
      "No results to show\n",
      "Please make sure that the organism is correct or set significant = FALSE\n",
      "No results to show\n",
      "Please make sure that the organism is correct or set significant = FALSE\n",
      "No results to show\n",
      "Please make sure that the organism is correct or set significant = FALSE\n",
      "No results to show\n",
      "Please make sure that the organism is correct or set significant = FALSE\n",
      "No results to show\n",
      "Please make sure that the organism is correct or set significant = FALSE\n",
      "No results to show\n",
      "Please make sure that the organism is correct or set significant = FALSE\n"
     ]
    },
    {
     "name": "stdout",
     "output_type": "stream",
     "text": [
      "[1] \"SOM_cluster_45\"\n",
      "[1] \"SOM_cluster_46\"\n"
     ]
    },
    {
     "name": "stderr",
     "output_type": "stream",
     "text": [
      "No results to show\n",
      "Please make sure that the organism is correct or set significant = FALSE\n",
      "No results to show\n",
      "Please make sure that the organism is correct or set significant = FALSE\n"
     ]
    },
    {
     "name": "stdout",
     "output_type": "stream",
     "text": [
      "[1] \"SOM_cluster_54\"\n"
     ]
    },
    {
     "name": "stderr",
     "output_type": "stream",
     "text": [
      "No results to show\n",
      "Please make sure that the organism is correct or set significant = FALSE\n",
      "No results to show\n",
      "Please make sure that the organism is correct or set significant = FALSE\n",
      "No results to show\n",
      "Please make sure that the organism is correct or set significant = FALSE\n",
      "No results to show\n",
      "Please make sure that the organism is correct or set significant = FALSE\n",
      "No results to show\n",
      "Please make sure that the organism is correct or set significant = FALSE\n",
      "No results to show\n",
      "Please make sure that the organism is correct or set significant = FALSE\n"
     ]
    },
    {
     "name": "stdout",
     "output_type": "stream",
     "text": [
      "[1] \"SOM_cluster_62\"\n",
      "[1] \"SOM_cluster_63\"\n"
     ]
    },
    {
     "name": "stderr",
     "output_type": "stream",
     "text": [
      "No results to show\n",
      "Please make sure that the organism is correct or set significant = FALSE\n",
      "No results to show\n",
      "Please make sure that the organism is correct or set significant = FALSE\n",
      "No results to show\n",
      "Please make sure that the organism is correct or set significant = FALSE\n",
      "No results to show\n",
      "Please make sure that the organism is correct or set significant = FALSE\n",
      "No results to show\n",
      "Please make sure that the organism is correct or set significant = FALSE\n",
      "No results to show\n",
      "Please make sure that the organism is correct or set significant = FALSE\n",
      "No results to show\n",
      "Please make sure that the organism is correct or set significant = FALSE\n",
      "No results to show\n",
      "Please make sure that the organism is correct or set significant = FALSE\n",
      "No results to show\n",
      "Please make sure that the organism is correct or set significant = FALSE\n",
      "No results to show\n",
      "Please make sure that the organism is correct or set significant = FALSE\n",
      "No results to show\n",
      "Please make sure that the organism is correct or set significant = FALSE\n",
      "No results to show\n",
      "Please make sure that the organism is correct or set significant = FALSE\n",
      "No results to show\n",
      "Please make sure that the organism is correct or set significant = FALSE\n",
      "No results to show\n",
      "Please make sure that the organism is correct or set significant = FALSE\n",
      "No results to show\n",
      "Please make sure that the organism is correct or set significant = FALSE\n"
     ]
    },
    {
     "name": "stdout",
     "output_type": "stream",
     "text": [
      "[1] \"SOM_cluster_80\"\n"
     ]
    },
    {
     "name": "stderr",
     "output_type": "stream",
     "text": [
      "No results to show\n",
      "Please make sure that the organism is correct or set significant = FALSE\n"
     ]
    }
   ],
   "source": [
    "# cycle through all the data\n",
    "# this is essentially the gene ontology pipeline\n",
    "for (clusterNumber in seq(1,81)) {\n",
    "    d <- data %>% filter(cluster == clusterNumber)\n",
    "    data.clean <- unlist(lapply(X=d$gene, FUN=convert))\n",
    "    fname <- paste('SOM_cluster_', clusterNumber, sep=\"\")\n",
    "    \n",
    "    # run gene ontology\n",
    "    if(length(data.clean) > 0){\n",
    "        res <- go(data.clean, alpha, sourcepreferences)\n",
    "        if(length(res$result$source) > 0){\n",
    "            # save info\n",
    "            stats[[fname]] <- res$result\n",
    "            dats[[fname]] <- data.clean\n",
    "            print(fname)\n",
    "        }\n",
    "        # keep track of which years & time points are skipped to prevent future errors\n",
    "        else{skipped <- append(skipped, fname)}\n",
    "    }\n",
    "    else{skipped <- append(skipped, fname)}\n",
    "    \n",
    "    # visualizations/plots are skipped if there are no results    \n",
    "}"
   ]
  },
  {
   "cell_type": "code",
   "execution_count": 6,
   "metadata": {},
   "outputs": [
    {
     "data": {
      "text/html": [
       "<ol class=list-inline>\n",
       "\t<li>'SOM_cluster_2'</li>\n",
       "\t<li>'SOM_cluster_45'</li>\n",
       "\t<li>'SOM_cluster_46'</li>\n",
       "\t<li>'SOM_cluster_54'</li>\n",
       "\t<li>'SOM_cluster_62'</li>\n",
       "\t<li>'SOM_cluster_63'</li>\n",
       "\t<li>'SOM_cluster_80'</li>\n",
       "</ol>\n"
      ],
      "text/latex": [
       "\\begin{enumerate*}\n",
       "\\item 'SOM\\_cluster\\_2'\n",
       "\\item 'SOM\\_cluster\\_45'\n",
       "\\item 'SOM\\_cluster\\_46'\n",
       "\\item 'SOM\\_cluster\\_54'\n",
       "\\item 'SOM\\_cluster\\_62'\n",
       "\\item 'SOM\\_cluster\\_63'\n",
       "\\item 'SOM\\_cluster\\_80'\n",
       "\\end{enumerate*}\n"
      ],
      "text/markdown": [
       "1. 'SOM_cluster_2'\n",
       "2. 'SOM_cluster_45'\n",
       "3. 'SOM_cluster_46'\n",
       "4. 'SOM_cluster_54'\n",
       "5. 'SOM_cluster_62'\n",
       "6. 'SOM_cluster_63'\n",
       "7. 'SOM_cluster_80'\n",
       "\n",
       "\n"
      ],
      "text/plain": [
       "[1] \"SOM_cluster_2\"  \"SOM_cluster_45\" \"SOM_cluster_46\" \"SOM_cluster_54\"\n",
       "[5] \"SOM_cluster_62\" \"SOM_cluster_63\" \"SOM_cluster_80\""
      ]
     },
     "metadata": {},
     "output_type": "display_data"
    }
   ],
   "source": [
    "names(stats)"
   ]
  },
  {
   "cell_type": "code",
   "execution_count": 7,
   "metadata": {},
   "outputs": [],
   "source": [
    "# term, the pval, the description, and the label (like GP:BP)\n",
    "df <- setNames(data.frame(matrix(ncol = 3, nrow = 0)), c(\"name\", \"numTerms\", \"numGenes\"))\n",
    "for (name in names(stats)){\n",
    "    df[nrow(df) + 1,] = c(name, dim(stats[[name]])[1], length(dats[[name]]))\n",
    "}"
   ]
  },
  {
   "cell_type": "code",
   "execution_count": 8,
   "metadata": {},
   "outputs": [
    {
     "data": {
      "text/html": [
       "<table>\n",
       "<thead><tr><th scope=col>name</th><th scope=col>numTerms</th><th scope=col>numGenes</th></tr></thead>\n",
       "<tbody>\n",
       "\t<tr><td>SOM_cluster_2 </td><td>6             </td><td>67            </td></tr>\n",
       "\t<tr><td>SOM_cluster_45</td><td>24            </td><td>55            </td></tr>\n",
       "\t<tr><td>SOM_cluster_46</td><td>4             </td><td>49            </td></tr>\n",
       "\t<tr><td>SOM_cluster_54</td><td>33            </td><td>78            </td></tr>\n",
       "\t<tr><td>SOM_cluster_62</td><td>33            </td><td>73            </td></tr>\n",
       "\t<tr><td>SOM_cluster_63</td><td>25            </td><td>58            </td></tr>\n",
       "\t<tr><td>SOM_cluster_80</td><td>10            </td><td>46            </td></tr>\n",
       "</tbody>\n",
       "</table>\n"
      ],
      "text/latex": [
       "\\begin{tabular}{r|lll}\n",
       " name & numTerms & numGenes\\\\\n",
       "\\hline\n",
       "\t SOM\\_cluster\\_2  & 6                  & 67                \\\\\n",
       "\t SOM\\_cluster\\_45 & 24                 & 55                \\\\\n",
       "\t SOM\\_cluster\\_46 & 4                  & 49                \\\\\n",
       "\t SOM\\_cluster\\_54 & 33                 & 78                \\\\\n",
       "\t SOM\\_cluster\\_62 & 33                 & 73                \\\\\n",
       "\t SOM\\_cluster\\_63 & 25                 & 58                \\\\\n",
       "\t SOM\\_cluster\\_80 & 10                 & 46                \\\\\n",
       "\\end{tabular}\n"
      ],
      "text/markdown": [
       "\n",
       "| name | numTerms | numGenes |\n",
       "|---|---|---|\n",
       "| SOM_cluster_2  | 6              | 67             |\n",
       "| SOM_cluster_45 | 24             | 55             |\n",
       "| SOM_cluster_46 | 4              | 49             |\n",
       "| SOM_cluster_54 | 33             | 78             |\n",
       "| SOM_cluster_62 | 33             | 73             |\n",
       "| SOM_cluster_63 | 25             | 58             |\n",
       "| SOM_cluster_80 | 10             | 46             |\n",
       "\n"
      ],
      "text/plain": [
       "  name           numTerms numGenes\n",
       "1 SOM_cluster_2  6        67      \n",
       "2 SOM_cluster_45 24       55      \n",
       "3 SOM_cluster_46 4        49      \n",
       "4 SOM_cluster_54 33       78      \n",
       "5 SOM_cluster_62 33       73      \n",
       "6 SOM_cluster_63 25       58      \n",
       "7 SOM_cluster_80 10       46      "
      ]
     },
     "metadata": {},
     "output_type": "display_data"
    }
   ],
   "source": [
    "df"
   ]
  },
  {
   "cell_type": "code",
   "execution_count": 9,
   "metadata": {},
   "outputs": [
    {
     "name": "stderr",
     "output_type": "stream",
     "text": [
      "Warning message in stri_replace_all_fixed(dat, \"\\r\", \"\"):\n",
      "\"argument is not an atomic vector; coercing\"Warning message in stri_replace_all_fixed(dat, \"\\r\", \"\"):\n",
      "\"argument is not an atomic vector; coercing\"Warning message in stri_replace_all_fixed(dat, \"\\r\", \"\"):\n",
      "\"argument is not an atomic vector; coercing\"Warning message in stri_replace_all_fixed(dat, \"\\r\", \"\"):\n",
      "\"argument is not an atomic vector; coercing\"Warning message in stri_replace_all_fixed(dat, \"\\r\", \"\"):\n",
      "\"argument is not an atomic vector; coercing\"Warning message in stri_replace_all_fixed(dat, \"\\r\", \"\"):\n",
      "\"argument is not an atomic vector; coercing\"Warning message in stri_replace_all_fixed(dat, \"\\r\", \"\"):\n",
      "\"argument is not an atomic vector; coercing\""
     ]
    }
   ],
   "source": [
    "df2 <- NULL\n",
    "for (name in names(stats)){\n",
    "    df2 <- rbind(df2, data.frame(\n",
    "        \"name\" = rep(name, dim(stats[[name]])[1]),\n",
    "        \"GO.source\" = stats[[name]] %>% select('source'),\n",
    "        \"GO.term.id\" = stats[[name]] %>% select('term_id'),\n",
    "        \"GO.term.aname\" = stats[[name]] %>% select('term_name'),\n",
    "        \"p.value\" = stats[[name]] %>% select('p_value'))\n",
    "    )\n",
    "    \n",
    "    tmp <- stats[[name]] %>% select(term_id, p_value)\n",
    "    finalname <- paste(results_prefix, paste(\"REVIGO\", name, sep=\"_\"), \".csv\", sep=\"\")\n",
    "    write.table(tmp, \"tmp.txt\", quote=FALSE, row.names = FALSE, col.names = FALSE)\n",
    "    filedata <-readChar(\"tmp.txt\",file.info(\"tmp.txt\")$size)\n",
    "    \n",
    "    httr::POST(\n",
    "      url = \"http://revigo.irb.hr/Revigo.aspx\",\n",
    "      body = list(\n",
    "        cutoff = \"0.5\",\n",
    "        valueType = \"pvalue\",\n",
    "        speciesTaxon = \"0\",\n",
    "        measure = \"SIMREL\",\n",
    "        goList = filedata\n",
    "      ),\n",
    "      # application/x-www-form-urlencoded\n",
    "      encode = \"form\"\n",
    "    ) -> res\n",
    "\n",
    "    dat <- httr::content(res, encoding = \"UTF-8\")\n",
    "\n",
    "    # Write results to a file\n",
    "    dat <- stri_replace_all_fixed(dat, \"\\r\", \"\")\n",
    "    cat(dat, file='tmpresults.html', fill = FALSE)\n",
    "    resultsrevigo <- readHTMLTable('tmpresults.html')\n",
    "    \n",
    "    fullresultsrevigo <- setNames(data.frame(matrix(ncol = 4, nrow = 0)), c(\"Term.ID\", \"Name\", \"Value\", \"Category\"))\n",
    "    if(!is.null(resultsrevigo$BiologicalProcess)){\n",
    "        resultsrevigo$BiologicalProcess <- resultsrevigo$BiologicalProcess %>% \n",
    "                                            filter(Eliminated=='False') %>% \n",
    "                                            select(`Term ID`, Name, Value)\n",
    "        resultsrevigo$BiologicalProcess['Category'] <- rep('BiologicalProcess', dim(resultsrevigo$BiologicalProcess)[1])\n",
    "        fullresultsrevigo <- rbind(fullresultsrevigo, resultsrevigo$BiologicalProcess)\n",
    "    }\n",
    "    if(!is.null(resultsrevigo$CellularComponent)){\n",
    "        \n",
    "        print(name)\n",
    "        resultsrevigo$CellularComponent <- resultsrevigo$CellularComponent %>% \n",
    "                                            filter(Eliminated=='False') %>% \n",
    "                                            select(`Term ID`, Name, Value)\n",
    "        resultsrevigo$CellularComponent['Category'] <- rep('CellularComponent', dim(resultsrevigo$CellularComponent)[1])\n",
    "        fullresultsrevigo <- rbind(fullresultsrevigo, resultsrevigo$CellularComponent)\n",
    "    }\n",
    "    if(!is.null(resultsrevigo$MolecularFunction)){\n",
    "        \n",
    "        print(name)\n",
    "        resultsrevigo$MolecularFunction <- resultsrevigo$MolecularFunction %>% \n",
    "                                            filter(Eliminated=='False') %>% \n",
    "                                            select(`Term ID`, Name, Value)\n",
    "        resultsrevigo$MolecularFunction['Category'] <- rep('MolecularFunction', dim(resultsrevigo$MolecularFunction)[1])\n",
    "        fullresultsrevigo <- rbind(fullresultsrevigo, resultsrevigo$MolecularFunction)\n",
    "    }\n",
    "    \n",
    "    write.csv(data.frame(fullresultsrevigo), finalname, row.names=FALSE)\n",
    "}"
   ]
  },
  {
   "cell_type": "code",
   "execution_count": 10,
   "metadata": {},
   "outputs": [],
   "source": [
    "write.csv(df, paste(results_prefix, \"GO_SOMS_stats.csv\", sep=\"\"))\n",
    "write.csv(df2, paste(results_prefix, \"GO_SOMS_go_term_list.csv\", sep=\"\"))"
   ]
  }
 ],
 "metadata": {
  "kernelspec": {
   "display_name": "R",
   "language": "R",
   "name": "ir"
  },
  "language_info": {
   "codemirror_mode": "r",
   "file_extension": ".r",
   "mimetype": "text/x-r-source",
   "name": "R",
   "pygments_lexer": "r",
   "version": "3.6.1"
  }
 },
 "nbformat": 4,
 "nbformat_minor": 4
}
